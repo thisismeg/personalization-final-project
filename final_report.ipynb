{
 "cells": [
  {
   "cell_type": "markdown",
   "metadata": {},
   "source": [
    "# IEOR 4571 - Personalization - Final Project\n",
    "\n",
    "#### Team members: \n",
    "Name, UNI/email, Github ID\n",
    "* Megala Kannan, msk2245@columbia.edu, thisismeg\n",
    "* Hojin Lee, hl3328@columbia.edu, hjlee9295\n",
    "* Jung Ah Shin, js5569@columbia.edu, juliajungahshin\n",
    "* Tiffany Zhu, tz2196@columbia.edu, tlzhu19\n"
   ]
  },
  {
   "cell_type": "markdown",
   "metadata": {},
   "source": [
    "# TOC:\n",
    "* [1. Introduction](#1)\n",
    "* [2. Data Exploration](#2)\n",
    "* [3. Modeling](#3)\n",
    "    * [3.1 Baseline Models](#3-1)\n",
    "        * [3.1.1 Learned Bias Baseline Model](#3-1-1)\n",
    "        * [3.1.2 Collaborative Filtering Baseline Model](#3-1-2)\n",
    "    * [3.2 Collective Matrix Factorization](#3-2)\n",
    "* [4. Evaluation](#4)\n",
    "    * [4.1 Accuracy](#4-1)\n",
    "    * [4.2 Coverage](#4-2)\n",
    "* [5. Conclusion](#5)\n"
   ]
  },
  {
   "cell_type": "markdown",
   "metadata": {},
   "source": [
    "# 1. Introduction <a class=\"anchor\" id=\"1\"></a>"
   ]
  },
  {
   "cell_type": "markdown",
   "metadata": {},
   "source": [
    "# 2. Data Exploration <a class=\"anchor\" id=\"2\"></a>"
   ]
  },
  {
   "cell_type": "code",
   "execution_count": 27,
   "metadata": {},
   "outputs": [],
   "source": [
    "import pandas as pd\n",
    "import json\n",
    "from tqdm import tqdm\n",
    "\n",
    "import numpy as np # linear algebra\n",
    "import matplotlib.pyplot as plt\n",
    "import seaborn as sns\n",
    "%matplotlib inline\n",
    "plt.style.use('fivethirtyeight')\n",
    "\n",
    "import itertools\n",
    "from collections import Counter\n",
    "\n",
    "import warnings\n",
    "warnings.filterwarnings(\"ignore\")"
   ]
  },
  {
   "cell_type": "code",
   "execution_count": 22,
   "metadata": {},
   "outputs": [],
   "source": [
    "def convert_json_to_df(path, file_name, column_names):\n",
    "    '''\n",
    "    converts the json file into a pandas dataframe\n",
    "    path: string of path\n",
    "    file_name: string of json file name\n",
    "    column_names: the names of the json file attributes (used as the dataframe column names)\n",
    "    returns: dataframe\n",
    "    '''\n",
    "    line_count = len(open(path + file_name).readlines())    \n",
    "    columns_dict = {name: [] for name in column_names}\n",
    "\n",
    "    with open(path + file_name) as f:\n",
    "        for line in tqdm(f, total=line_count):\n",
    "            blob = json.loads(line)\n",
    "            \n",
    "            for key in column_names:\n",
    "                columns_dict[key].append(blob[key])\n",
    "    \n",
    "    return pd.DataFrame(columns_dict)"
   ]
  },
  {
   "cell_type": "code",
   "execution_count": 23,
   "metadata": {},
   "outputs": [],
   "source": [
    "path = \"/Users/tiffanyzhu/Downloads/yelp_dataset/\"\n",
    "file_name = \"review.json\""
   ]
  },
  {
   "cell_type": "code",
   "execution_count": 4,
   "metadata": {},
   "outputs": [
    {
     "name": "stderr",
     "output_type": "stream",
     "text": [
      "100%|██████████| 6685900/6685900 [01:21<00:00, 82502.81it/s]\n"
     ]
    }
   ],
   "source": [
    "# review.json\n",
    "ratings = convert_json_to_df(path, file_name, ['user_id', 'business_id', 'stars', 'date'])\n",
    "\n",
    "user_counts = ratings[\"user_id\"].value_counts()\n",
    "active_users = user_counts.loc[user_counts >= 5].index.tolist()"
   ]
  },
  {
   "cell_type": "code",
   "execution_count": 5,
   "metadata": {},
   "outputs": [
    {
     "data": {
      "text/plain": [
       "286130"
      ]
     },
     "execution_count": 5,
     "metadata": {},
     "output_type": "execute_result"
    }
   ],
   "source": [
    "len(active_users)"
   ]
  },
  {
   "cell_type": "code",
   "execution_count": 6,
   "metadata": {
    "scrolled": true
   },
   "outputs": [
    {
     "data": {
      "text/html": [
       "<div>\n",
       "<style scoped>\n",
       "    .dataframe tbody tr th:only-of-type {\n",
       "        vertical-align: middle;\n",
       "    }\n",
       "\n",
       "    .dataframe tbody tr th {\n",
       "        vertical-align: top;\n",
       "    }\n",
       "\n",
       "    .dataframe thead th {\n",
       "        text-align: right;\n",
       "    }\n",
       "</style>\n",
       "<table border=\"1\" class=\"dataframe\">\n",
       "  <thead>\n",
       "    <tr style=\"text-align: right;\">\n",
       "      <th></th>\n",
       "      <th>user_id</th>\n",
       "      <th>business_id</th>\n",
       "      <th>rating</th>\n",
       "      <th>date</th>\n",
       "    </tr>\n",
       "  </thead>\n",
       "  <tbody>\n",
       "    <tr>\n",
       "      <th>0</th>\n",
       "      <td>hG7b0MtEbXx5QzbzE6C_VA</td>\n",
       "      <td>ujmEBvifdJM6h6RLv4wQIg</td>\n",
       "      <td>1.0</td>\n",
       "      <td>2013-05-07 04:34:36</td>\n",
       "    </tr>\n",
       "    <tr>\n",
       "      <th>1</th>\n",
       "      <td>yXQM5uF2jS6es16SJzNHfg</td>\n",
       "      <td>NZnhc2sEQy3RmzKTZnqtwQ</td>\n",
       "      <td>5.0</td>\n",
       "      <td>2017-01-14 21:30:33</td>\n",
       "    </tr>\n",
       "    <tr>\n",
       "      <th>2</th>\n",
       "      <td>n6-Gk65cPZL6Uz8qRm3NYw</td>\n",
       "      <td>WTqjgwHlXbSFevF32_DJVw</td>\n",
       "      <td>5.0</td>\n",
       "      <td>2016-11-09 20:09:03</td>\n",
       "    </tr>\n",
       "    <tr>\n",
       "      <th>3</th>\n",
       "      <td>dacAIZ6fTM6mqwW5uxkskg</td>\n",
       "      <td>ikCg8xy5JIg_NGPx-MSIDA</td>\n",
       "      <td>5.0</td>\n",
       "      <td>2018-01-09 20:56:38</td>\n",
       "    </tr>\n",
       "    <tr>\n",
       "      <th>4</th>\n",
       "      <td>ssoyf2_x0EQMed6fgHeMyQ</td>\n",
       "      <td>b1b1eb3uo-w561D0ZfCEiQ</td>\n",
       "      <td>1.0</td>\n",
       "      <td>2018-01-30 23:07:38</td>\n",
       "    </tr>\n",
       "  </tbody>\n",
       "</table>\n",
       "</div>"
      ],
      "text/plain": [
       "                  user_id             business_id  rating                 date\n",
       "0  hG7b0MtEbXx5QzbzE6C_VA  ujmEBvifdJM6h6RLv4wQIg     1.0  2013-05-07 04:34:36\n",
       "1  yXQM5uF2jS6es16SJzNHfg  NZnhc2sEQy3RmzKTZnqtwQ     5.0  2017-01-14 21:30:33\n",
       "2  n6-Gk65cPZL6Uz8qRm3NYw  WTqjgwHlXbSFevF32_DJVw     5.0  2016-11-09 20:09:03\n",
       "3  dacAIZ6fTM6mqwW5uxkskg  ikCg8xy5JIg_NGPx-MSIDA     5.0  2018-01-09 20:56:38\n",
       "4  ssoyf2_x0EQMed6fgHeMyQ  b1b1eb3uo-w561D0ZfCEiQ     1.0  2018-01-30 23:07:38"
      ]
     },
     "execution_count": 6,
     "metadata": {},
     "output_type": "execute_result"
    }
   ],
   "source": [
    "ratings.rename(columns={'stars': 'rating'}, inplace=True)\n",
    "ratings.head()"
   ]
  },
  {
   "cell_type": "code",
   "execution_count": 7,
   "metadata": {},
   "outputs": [],
   "source": [
    "import random\n",
    "\n",
    "# take random subset of active users\n",
    "n = len(active_users)\n",
    "subset_active_users = random.sample(active_users, round(n * 0.2))\n",
    "\n",
    "# filter the ratings df by the subset of active users\n",
    "active_user_ratings = ratings.loc[ratings['user_id'].isin(subset_active_users)]"
   ]
  },
  {
   "cell_type": "code",
   "execution_count": 8,
   "metadata": {},
   "outputs": [
    {
     "data": {
      "text/plain": [
       "895298"
      ]
     },
     "execution_count": 8,
     "metadata": {},
     "output_type": "execute_result"
    }
   ],
   "source": [
    "len(active_user_ratings)"
   ]
  },
  {
   "cell_type": "code",
   "execution_count": 9,
   "metadata": {},
   "outputs": [],
   "source": [
    "active_user_ratings2 = active_user_ratings.sort_values('date')\n",
    "actual_X = active_user_ratings2.groupby(['user_id'], as_index=False).apply(lambda x: x.iloc[:-1])\n",
    "actual_y = active_user_ratings2.groupby(['user_id'], as_index=False).apply(lambda x: x.iloc[-1])"
   ]
  },
  {
   "cell_type": "code",
   "execution_count": 10,
   "metadata": {},
   "outputs": [
    {
     "data": {
      "text/html": [
       "<div>\n",
       "<style scoped>\n",
       "    .dataframe tbody tr th:only-of-type {\n",
       "        vertical-align: middle;\n",
       "    }\n",
       "\n",
       "    .dataframe tbody tr th {\n",
       "        vertical-align: top;\n",
       "    }\n",
       "\n",
       "    .dataframe thead th {\n",
       "        text-align: right;\n",
       "    }\n",
       "</style>\n",
       "<table border=\"1\" class=\"dataframe\">\n",
       "  <thead>\n",
       "    <tr style=\"text-align: right;\">\n",
       "      <th></th>\n",
       "      <th></th>\n",
       "      <th>user_id</th>\n",
       "      <th>business_id</th>\n",
       "      <th>rating</th>\n",
       "      <th>date</th>\n",
       "    </tr>\n",
       "  </thead>\n",
       "  <tbody>\n",
       "    <tr>\n",
       "      <th rowspan=\"5\" valign=\"top\">0</th>\n",
       "      <th>5077203</th>\n",
       "      <td>--0kuuLmuYBe3Rmu0Iycww</td>\n",
       "      <td>sxPwFSLoW7xx1tWgNZ-p6g</td>\n",
       "      <td>5.0</td>\n",
       "      <td>2013-08-26 23:07:49</td>\n",
       "    </tr>\n",
       "    <tr>\n",
       "      <th>6081103</th>\n",
       "      <td>--0kuuLmuYBe3Rmu0Iycww</td>\n",
       "      <td>6TBfgiKpP-VWtKuM-IwR0Q</td>\n",
       "      <td>1.0</td>\n",
       "      <td>2013-09-06 06:20:54</td>\n",
       "    </tr>\n",
       "    <tr>\n",
       "      <th>4996945</th>\n",
       "      <td>--0kuuLmuYBe3Rmu0Iycww</td>\n",
       "      <td>loEwm40TwkQeEu3zYvU7RQ</td>\n",
       "      <td>4.0</td>\n",
       "      <td>2013-09-12 00:27:27</td>\n",
       "    </tr>\n",
       "    <tr>\n",
       "      <th>3338704</th>\n",
       "      <td>--0kuuLmuYBe3Rmu0Iycww</td>\n",
       "      <td>VaiYxIUfHIfYfwYgOupjMA</td>\n",
       "      <td>4.0</td>\n",
       "      <td>2013-10-03 17:19:39</td>\n",
       "    </tr>\n",
       "    <tr>\n",
       "      <th>3298263</th>\n",
       "      <td>--0kuuLmuYBe3Rmu0Iycww</td>\n",
       "      <td>ev1SC6q8AolQWix0n577sg</td>\n",
       "      <td>2.0</td>\n",
       "      <td>2013-11-11 20:35:14</td>\n",
       "    </tr>\n",
       "  </tbody>\n",
       "</table>\n",
       "</div>"
      ],
      "text/plain": [
       "                          user_id             business_id  rating  \\\n",
       "0 5077203  --0kuuLmuYBe3Rmu0Iycww  sxPwFSLoW7xx1tWgNZ-p6g     5.0   \n",
       "  6081103  --0kuuLmuYBe3Rmu0Iycww  6TBfgiKpP-VWtKuM-IwR0Q     1.0   \n",
       "  4996945  --0kuuLmuYBe3Rmu0Iycww  loEwm40TwkQeEu3zYvU7RQ     4.0   \n",
       "  3338704  --0kuuLmuYBe3Rmu0Iycww  VaiYxIUfHIfYfwYgOupjMA     4.0   \n",
       "  3298263  --0kuuLmuYBe3Rmu0Iycww  ev1SC6q8AolQWix0n577sg     2.0   \n",
       "\n",
       "                          date  \n",
       "0 5077203  2013-08-26 23:07:49  \n",
       "  6081103  2013-09-06 06:20:54  \n",
       "  4996945  2013-09-12 00:27:27  \n",
       "  3338704  2013-10-03 17:19:39  \n",
       "  3298263  2013-11-11 20:35:14  "
      ]
     },
     "execution_count": 10,
     "metadata": {},
     "output_type": "execute_result"
    }
   ],
   "source": [
    "actual_X.head()"
   ]
  },
  {
   "cell_type": "code",
   "execution_count": 11,
   "metadata": {},
   "outputs": [
    {
     "data": {
      "text/html": [
       "<div>\n",
       "<style scoped>\n",
       "    .dataframe tbody tr th:only-of-type {\n",
       "        vertical-align: middle;\n",
       "    }\n",
       "\n",
       "    .dataframe tbody tr th {\n",
       "        vertical-align: top;\n",
       "    }\n",
       "\n",
       "    .dataframe thead th {\n",
       "        text-align: right;\n",
       "    }\n",
       "</style>\n",
       "<table border=\"1\" class=\"dataframe\">\n",
       "  <thead>\n",
       "    <tr style=\"text-align: right;\">\n",
       "      <th></th>\n",
       "      <th>user_id</th>\n",
       "      <th>business_id</th>\n",
       "      <th>rating</th>\n",
       "      <th>date</th>\n",
       "    </tr>\n",
       "  </thead>\n",
       "  <tbody>\n",
       "    <tr>\n",
       "      <th>0</th>\n",
       "      <td>--0kuuLmuYBe3Rmu0Iycww</td>\n",
       "      <td>PYe_FDw6QTbTf66WcGE_tw</td>\n",
       "      <td>2.0</td>\n",
       "      <td>2014-04-21 16:58:28</td>\n",
       "    </tr>\n",
       "    <tr>\n",
       "      <th>1</th>\n",
       "      <td>--2HUmLkcNHZp0xw6AMBPg</td>\n",
       "      <td>KW9RNyBPmc77f9FsO92qYw</td>\n",
       "      <td>5.0</td>\n",
       "      <td>2018-10-04 02:02:28</td>\n",
       "    </tr>\n",
       "    <tr>\n",
       "      <th>2</th>\n",
       "      <td>--4q8EyqThydQm-eKZpS-A</td>\n",
       "      <td>rcaPajgKOJC2vo_l3xa42A</td>\n",
       "      <td>3.0</td>\n",
       "      <td>2012-06-17 16:59:06</td>\n",
       "    </tr>\n",
       "    <tr>\n",
       "      <th>3</th>\n",
       "      <td>--7gjElmOrthETJ8XqzMBw</td>\n",
       "      <td>UxWH8zRYIBgs6Q2oykvRdw</td>\n",
       "      <td>4.0</td>\n",
       "      <td>2018-05-24 21:19:54</td>\n",
       "    </tr>\n",
       "    <tr>\n",
       "      <th>4</th>\n",
       "      <td>--Br-QsbO9ad5GbZxVGxaw</td>\n",
       "      <td>x6PA-2j7LpZAYFo2VojmQQ</td>\n",
       "      <td>2.0</td>\n",
       "      <td>2016-08-24 14:55:34</td>\n",
       "    </tr>\n",
       "  </tbody>\n",
       "</table>\n",
       "</div>"
      ],
      "text/plain": [
       "                  user_id             business_id  rating                 date\n",
       "0  --0kuuLmuYBe3Rmu0Iycww  PYe_FDw6QTbTf66WcGE_tw     2.0  2014-04-21 16:58:28\n",
       "1  --2HUmLkcNHZp0xw6AMBPg  KW9RNyBPmc77f9FsO92qYw     5.0  2018-10-04 02:02:28\n",
       "2  --4q8EyqThydQm-eKZpS-A  rcaPajgKOJC2vo_l3xa42A     3.0  2012-06-17 16:59:06\n",
       "3  --7gjElmOrthETJ8XqzMBw  UxWH8zRYIBgs6Q2oykvRdw     4.0  2018-05-24 21:19:54\n",
       "4  --Br-QsbO9ad5GbZxVGxaw  x6PA-2j7LpZAYFo2VojmQQ     2.0  2016-08-24 14:55:34"
      ]
     },
     "execution_count": 11,
     "metadata": {},
     "output_type": "execute_result"
    }
   ],
   "source": [
    "actual_y.head()"
   ]
  },
  {
   "cell_type": "code",
   "execution_count": 6,
   "metadata": {},
   "outputs": [],
   "source": [
    "# can do the same for business.json, user.json, tip.json \n",
    "# for metadata info see https://www.yelp.com/dataset/documentation/main"
   ]
  },
  {
   "cell_type": "code",
   "execution_count": 24,
   "metadata": {},
   "outputs": [
    {
     "name": "stderr",
     "output_type": "stream",
     "text": [
      "100%|██████████| 192609/192609 [00:05<00:00, 35914.14it/s]\n"
     ]
    }
   ],
   "source": [
    "# business.json\n",
    "# todo: how to add 'attributes'?\n",
    "'''\n",
    "\"attributes\": {\n",
    "        \"RestaurantsTakeOut\": true,\n",
    "        \"BusinessParking\": {\n",
    "            \"garage\": false,\n",
    "            \"street\": true,\n",
    "            \"validated\": false,\n",
    "            \"lot\": false,\n",
    "            \"valet\": false\n",
    "        },\n",
    "'''\n",
    "\n",
    "businesses = convert_json_to_df(path, 'business.json', ['business_id', 'city', 'state', 'stars', \n",
    "                                                        'review_count', 'is_open', 'attributes', \n",
    "                                                        'categories', 'hours'])"
   ]
  },
  {
   "cell_type": "code",
   "execution_count": 18,
   "metadata": {},
   "outputs": [
    {
     "data": {
      "text/html": [
       "<div>\n",
       "<style scoped>\n",
       "    .dataframe tbody tr th:only-of-type {\n",
       "        vertical-align: middle;\n",
       "    }\n",
       "\n",
       "    .dataframe tbody tr th {\n",
       "        vertical-align: top;\n",
       "    }\n",
       "\n",
       "    .dataframe thead th {\n",
       "        text-align: right;\n",
       "    }\n",
       "</style>\n",
       "<table border=\"1\" class=\"dataframe\">\n",
       "  <thead>\n",
       "    <tr style=\"text-align: right;\">\n",
       "      <th></th>\n",
       "      <th>business_id</th>\n",
       "      <th>city</th>\n",
       "      <th>state</th>\n",
       "      <th>stars</th>\n",
       "      <th>review_count</th>\n",
       "      <th>categories</th>\n",
       "    </tr>\n",
       "  </thead>\n",
       "  <tbody>\n",
       "    <tr>\n",
       "      <th>0</th>\n",
       "      <td>1SWheh84yJXfytovILXOAQ</td>\n",
       "      <td>Phoenix</td>\n",
       "      <td>AZ</td>\n",
       "      <td>3.0</td>\n",
       "      <td>5</td>\n",
       "      <td>Golf, Active Life</td>\n",
       "    </tr>\n",
       "    <tr>\n",
       "      <th>1</th>\n",
       "      <td>QXAEGFB4oINsVuTFxEYKFQ</td>\n",
       "      <td>Mississauga</td>\n",
       "      <td>ON</td>\n",
       "      <td>2.5</td>\n",
       "      <td>128</td>\n",
       "      <td>Specialty Food, Restaurants, Dim Sum, Imported...</td>\n",
       "    </tr>\n",
       "    <tr>\n",
       "      <th>2</th>\n",
       "      <td>gnKjwL_1w79qoiV3IC_xQQ</td>\n",
       "      <td>Charlotte</td>\n",
       "      <td>NC</td>\n",
       "      <td>4.0</td>\n",
       "      <td>170</td>\n",
       "      <td>Sushi Bars, Restaurants, Japanese</td>\n",
       "    </tr>\n",
       "    <tr>\n",
       "      <th>3</th>\n",
       "      <td>xvX2CttrVhyG2z1dFg_0xw</td>\n",
       "      <td>Goodyear</td>\n",
       "      <td>AZ</td>\n",
       "      <td>5.0</td>\n",
       "      <td>3</td>\n",
       "      <td>Insurance, Financial Services</td>\n",
       "    </tr>\n",
       "    <tr>\n",
       "      <th>4</th>\n",
       "      <td>HhyxOkGAM07SRYtlQ4wMFQ</td>\n",
       "      <td>Charlotte</td>\n",
       "      <td>NC</td>\n",
       "      <td>4.0</td>\n",
       "      <td>4</td>\n",
       "      <td>Plumbing, Shopping, Local Services, Home Servi...</td>\n",
       "    </tr>\n",
       "  </tbody>\n",
       "</table>\n",
       "</div>"
      ],
      "text/plain": [
       "              business_id         city state  stars  review_count  \\\n",
       "0  1SWheh84yJXfytovILXOAQ      Phoenix    AZ    3.0             5   \n",
       "1  QXAEGFB4oINsVuTFxEYKFQ  Mississauga    ON    2.5           128   \n",
       "2  gnKjwL_1w79qoiV3IC_xQQ    Charlotte    NC    4.0           170   \n",
       "3  xvX2CttrVhyG2z1dFg_0xw     Goodyear    AZ    5.0             3   \n",
       "4  HhyxOkGAM07SRYtlQ4wMFQ    Charlotte    NC    4.0             4   \n",
       "\n",
       "                                          categories  \n",
       "0                                  Golf, Active Life  \n",
       "1  Specialty Food, Restaurants, Dim Sum, Imported...  \n",
       "2                  Sushi Bars, Restaurants, Japanese  \n",
       "3                      Insurance, Financial Services  \n",
       "4  Plumbing, Shopping, Local Services, Home Servi...  "
      ]
     },
     "execution_count": 18,
     "metadata": {},
     "output_type": "execute_result"
    }
   ],
   "source": [
    "businesses.head()"
   ]
  },
  {
   "cell_type": "code",
   "execution_count": 13,
   "metadata": {},
   "outputs": [
    {
     "name": "stderr",
     "output_type": "stream",
     "text": [
      "100%|██████████| 1637138/1637138 [00:35<00:00, 46222.22it/s]\n"
     ]
    }
   ],
   "source": [
    "# user.json\n",
    "users = convert_json_to_df(path, 'user.json', ['user_id', 'review_count', 'friends', 'useful', \n",
    "                                               'funny', 'cool', 'fans', 'elite', 'average_stars', \n",
    "                                               'compliment_hot', 'compliment_more', 'compliment_profile',\n",
    "                                               'compliment_cute', 'compliment_list', 'compliment_note',\n",
    "                                               'compliment_plain', 'compliment_cool', 'compliment_funny',\n",
    "                                               'compliment_writer', 'compliment_photos'\n",
    "                                              ])"
   ]
  },
  {
   "cell_type": "code",
   "execution_count": 20,
   "metadata": {},
   "outputs": [
    {
     "data": {
      "text/html": [
       "<div>\n",
       "<style scoped>\n",
       "    .dataframe tbody tr th:only-of-type {\n",
       "        vertical-align: middle;\n",
       "    }\n",
       "\n",
       "    .dataframe tbody tr th {\n",
       "        vertical-align: top;\n",
       "    }\n",
       "\n",
       "    .dataframe thead th {\n",
       "        text-align: right;\n",
       "    }\n",
       "</style>\n",
       "<table border=\"1\" class=\"dataframe\">\n",
       "  <thead>\n",
       "    <tr style=\"text-align: right;\">\n",
       "      <th></th>\n",
       "      <th>user_id</th>\n",
       "      <th>review_count</th>\n",
       "      <th>friends</th>\n",
       "      <th>useful</th>\n",
       "      <th>funny</th>\n",
       "      <th>cool</th>\n",
       "      <th>fans</th>\n",
       "      <th>elite</th>\n",
       "      <th>average_stars</th>\n",
       "      <th>compliment_hot</th>\n",
       "      <th>compliment_more</th>\n",
       "      <th>compliment_profile</th>\n",
       "      <th>compliment_cute</th>\n",
       "      <th>compliment_list</th>\n",
       "      <th>compliment_note</th>\n",
       "      <th>compliment_plain</th>\n",
       "      <th>compliment_cool</th>\n",
       "      <th>compliment_funny</th>\n",
       "      <th>compliment_writer</th>\n",
       "      <th>compliment_photos</th>\n",
       "    </tr>\n",
       "  </thead>\n",
       "  <tbody>\n",
       "    <tr>\n",
       "      <th>0</th>\n",
       "      <td>l6BmjZMeQD3rDxWUbiAiow</td>\n",
       "      <td>95</td>\n",
       "      <td>c78V-rj8NQcQjOI8KP3UEA, alRMgPcngYSCJ5naFRBz5g...</td>\n",
       "      <td>84</td>\n",
       "      <td>17</td>\n",
       "      <td>25</td>\n",
       "      <td>5</td>\n",
       "      <td>2015,2016,2017</td>\n",
       "      <td>4.03</td>\n",
       "      <td>2</td>\n",
       "      <td>0</td>\n",
       "      <td>0</td>\n",
       "      <td>0</td>\n",
       "      <td>0</td>\n",
       "      <td>1</td>\n",
       "      <td>1</td>\n",
       "      <td>1</td>\n",
       "      <td>1</td>\n",
       "      <td>2</td>\n",
       "      <td>0</td>\n",
       "    </tr>\n",
       "    <tr>\n",
       "      <th>1</th>\n",
       "      <td>4XChL029mKr5hydo79Ljxg</td>\n",
       "      <td>33</td>\n",
       "      <td>kEBTgDvFX754S68FllfCaA, aB2DynOxNOJK9st2ZeGTPg...</td>\n",
       "      <td>48</td>\n",
       "      <td>22</td>\n",
       "      <td>16</td>\n",
       "      <td>4</td>\n",
       "      <td></td>\n",
       "      <td>3.63</td>\n",
       "      <td>1</td>\n",
       "      <td>0</td>\n",
       "      <td>0</td>\n",
       "      <td>0</td>\n",
       "      <td>0</td>\n",
       "      <td>0</td>\n",
       "      <td>0</td>\n",
       "      <td>1</td>\n",
       "      <td>1</td>\n",
       "      <td>0</td>\n",
       "      <td>0</td>\n",
       "    </tr>\n",
       "    <tr>\n",
       "      <th>2</th>\n",
       "      <td>bc8C_eETBWL0olvFSJJd0w</td>\n",
       "      <td>16</td>\n",
       "      <td>4N-HU_T32hLENLntsNKNBg, pSY2vwWLgWfGVAAiKQzMng...</td>\n",
       "      <td>28</td>\n",
       "      <td>8</td>\n",
       "      <td>10</td>\n",
       "      <td>0</td>\n",
       "      <td></td>\n",
       "      <td>3.71</td>\n",
       "      <td>0</td>\n",
       "      <td>0</td>\n",
       "      <td>0</td>\n",
       "      <td>0</td>\n",
       "      <td>0</td>\n",
       "      <td>1</td>\n",
       "      <td>0</td>\n",
       "      <td>0</td>\n",
       "      <td>0</td>\n",
       "      <td>0</td>\n",
       "      <td>0</td>\n",
       "    </tr>\n",
       "    <tr>\n",
       "      <th>3</th>\n",
       "      <td>dD0gZpBctWGdWo9WlGuhlA</td>\n",
       "      <td>17</td>\n",
       "      <td>RZ6wS38wnlXyj-OOdTzBxA, l5jxZh1KsgI8rMunm-GN6A...</td>\n",
       "      <td>30</td>\n",
       "      <td>4</td>\n",
       "      <td>14</td>\n",
       "      <td>5</td>\n",
       "      <td></td>\n",
       "      <td>4.85</td>\n",
       "      <td>1</td>\n",
       "      <td>0</td>\n",
       "      <td>0</td>\n",
       "      <td>0</td>\n",
       "      <td>0</td>\n",
       "      <td>0</td>\n",
       "      <td>2</td>\n",
       "      <td>0</td>\n",
       "      <td>0</td>\n",
       "      <td>1</td>\n",
       "      <td>0</td>\n",
       "    </tr>\n",
       "    <tr>\n",
       "      <th>4</th>\n",
       "      <td>MM4RJAeH6yuaN8oZDSt0RA</td>\n",
       "      <td>361</td>\n",
       "      <td>mbwrZ-RS76V1HoJ0bF_Geg, g64lOV39xSLRZO0aQQ6DeQ...</td>\n",
       "      <td>1114</td>\n",
       "      <td>279</td>\n",
       "      <td>665</td>\n",
       "      <td>39</td>\n",
       "      <td>2015,2016,2017,2018</td>\n",
       "      <td>4.08</td>\n",
       "      <td>28</td>\n",
       "      <td>1</td>\n",
       "      <td>0</td>\n",
       "      <td>0</td>\n",
       "      <td>1</td>\n",
       "      <td>16</td>\n",
       "      <td>57</td>\n",
       "      <td>80</td>\n",
       "      <td>80</td>\n",
       "      <td>25</td>\n",
       "      <td>5</td>\n",
       "    </tr>\n",
       "  </tbody>\n",
       "</table>\n",
       "</div>"
      ],
      "text/plain": [
       "                  user_id  review_count  \\\n",
       "0  l6BmjZMeQD3rDxWUbiAiow            95   \n",
       "1  4XChL029mKr5hydo79Ljxg            33   \n",
       "2  bc8C_eETBWL0olvFSJJd0w            16   \n",
       "3  dD0gZpBctWGdWo9WlGuhlA            17   \n",
       "4  MM4RJAeH6yuaN8oZDSt0RA           361   \n",
       "\n",
       "                                             friends  useful  funny  cool  \\\n",
       "0  c78V-rj8NQcQjOI8KP3UEA, alRMgPcngYSCJ5naFRBz5g...      84     17    25   \n",
       "1  kEBTgDvFX754S68FllfCaA, aB2DynOxNOJK9st2ZeGTPg...      48     22    16   \n",
       "2  4N-HU_T32hLENLntsNKNBg, pSY2vwWLgWfGVAAiKQzMng...      28      8    10   \n",
       "3  RZ6wS38wnlXyj-OOdTzBxA, l5jxZh1KsgI8rMunm-GN6A...      30      4    14   \n",
       "4  mbwrZ-RS76V1HoJ0bF_Geg, g64lOV39xSLRZO0aQQ6DeQ...    1114    279   665   \n",
       "\n",
       "   fans                elite  average_stars  compliment_hot  compliment_more  \\\n",
       "0     5       2015,2016,2017           4.03               2                0   \n",
       "1     4                                3.63               1                0   \n",
       "2     0                                3.71               0                0   \n",
       "3     5                                4.85               1                0   \n",
       "4    39  2015,2016,2017,2018           4.08              28                1   \n",
       "\n",
       "   compliment_profile  compliment_cute  compliment_list  compliment_note  \\\n",
       "0                   0                0                0                1   \n",
       "1                   0                0                0                0   \n",
       "2                   0                0                0                1   \n",
       "3                   0                0                0                0   \n",
       "4                   0                0                1               16   \n",
       "\n",
       "   compliment_plain  compliment_cool  compliment_funny  compliment_writer  \\\n",
       "0                 1                1                 1                  2   \n",
       "1                 0                1                 1                  0   \n",
       "2                 0                0                 0                  0   \n",
       "3                 2                0                 0                  1   \n",
       "4                57               80                80                 25   \n",
       "\n",
       "   compliment_photos  \n",
       "0                  0  \n",
       "1                  0  \n",
       "2                  0  \n",
       "3                  0  \n",
       "4                  5  "
      ]
     },
     "execution_count": 20,
     "metadata": {},
     "output_type": "execute_result"
    }
   ],
   "source": [
    "users.head()"
   ]
  },
  {
   "cell_type": "code",
   "execution_count": 14,
   "metadata": {},
   "outputs": [
    {
     "name": "stderr",
     "output_type": "stream",
     "text": [
      "100%|██████████| 1223094/1223094 [00:09<00:00, 122404.61it/s]\n"
     ]
    }
   ],
   "source": [
    "# tip.json\n",
    "tips =  convert_json_to_df(path, 'tip.json', ['text', 'date', 'compliment_count', 'business_id', 'user_id'])"
   ]
  },
  {
   "cell_type": "code",
   "execution_count": 29,
   "metadata": {},
   "outputs": [
    {
     "name": "stderr",
     "output_type": "stream",
     "text": [
      "100%|██████████| 200000/200000 [00:01<00:00, 194952.47it/s]\n"
     ]
    }
   ],
   "source": [
    "photos = convert_json_to_df(path, 'photo.json', ['photo_id', 'business_id'])"
   ]
  },
  {
   "cell_type": "markdown",
   "metadata": {},
   "source": [
    "# 3. Modeling <a class=\"anchor\" id=\"3\"></a>"
   ]
  },
  {
   "cell_type": "markdown",
   "metadata": {},
   "source": [
    "## 3.1 Baseline Model <a class=\"anchor\" id=\"3-1\"></a>"
   ]
  },
  {
   "cell_type": "markdown",
   "metadata": {},
   "source": [
    "### 3.1.1 Learned Bias Baseline Model <a class=\"anchor\" id=\"3-1-1\"></a>"
   ]
  },
  {
   "cell_type": "code",
   "execution_count": 96,
   "metadata": {},
   "outputs": [],
   "source": [
    "def find_average_user_ratings(ratings_df):\n",
    "    ratings_series = ratings_df.groupby('user_id')['rating'].mean()\n",
    "    return pd.DataFrame({'user_id':ratings_series.index, 'rating':ratings_series.values})\n",
    "\n",
    "average_user_ratings = find_average_user_ratings(actual_X)"
   ]
  },
  {
   "cell_type": "code",
   "execution_count": 97,
   "metadata": {},
   "outputs": [],
   "source": [
    "def find_average_business_ratings(ratings_df):    \n",
    "    ratings_series = ratings_df.groupby('business_id')['rating'].mean()\n",
    "    return pd.DataFrame({'business_id':ratings_series.index, 'rating':ratings_series.values})\n",
    "\n",
    "average_business_ratings = find_average_business_ratings(actual_X)"
   ]
  },
  {
   "cell_type": "code",
   "execution_count": 99,
   "metadata": {},
   "outputs": [
    {
     "data": {
      "text/html": [
       "<div>\n",
       "<style scoped>\n",
       "    .dataframe tbody tr th:only-of-type {\n",
       "        vertical-align: middle;\n",
       "    }\n",
       "\n",
       "    .dataframe tbody tr th {\n",
       "        vertical-align: top;\n",
       "    }\n",
       "\n",
       "    .dataframe thead th {\n",
       "        text-align: right;\n",
       "    }\n",
       "</style>\n",
       "<table border=\"1\" class=\"dataframe\">\n",
       "  <thead>\n",
       "    <tr style=\"text-align: right;\">\n",
       "      <th></th>\n",
       "      <th>user_id</th>\n",
       "      <th>rating</th>\n",
       "    </tr>\n",
       "  </thead>\n",
       "  <tbody>\n",
       "    <tr>\n",
       "      <th>0</th>\n",
       "      <td>--BumyUHiO_7YsHurb9Hkw</td>\n",
       "      <td>3.885246</td>\n",
       "    </tr>\n",
       "    <tr>\n",
       "      <th>1</th>\n",
       "      <td>--HOeLECewlqBqvFhQYUVA</td>\n",
       "      <td>4.200000</td>\n",
       "    </tr>\n",
       "    <tr>\n",
       "      <th>2</th>\n",
       "      <td>--NIc98RMssgy0mSZL3vpA</td>\n",
       "      <td>4.000000</td>\n",
       "    </tr>\n",
       "    <tr>\n",
       "      <th>3</th>\n",
       "      <td>--XpHLy__U2RF_dkWCmmjw</td>\n",
       "      <td>4.250000</td>\n",
       "    </tr>\n",
       "    <tr>\n",
       "      <th>4</th>\n",
       "      <td>--YhjyV-ce1nFLYxP49C5A</td>\n",
       "      <td>3.402299</td>\n",
       "    </tr>\n",
       "  </tbody>\n",
       "</table>\n",
       "</div>"
      ],
      "text/plain": [
       "                  user_id    rating\n",
       "0  --BumyUHiO_7YsHurb9Hkw  3.885246\n",
       "1  --HOeLECewlqBqvFhQYUVA  4.200000\n",
       "2  --NIc98RMssgy0mSZL3vpA  4.000000\n",
       "3  --XpHLy__U2RF_dkWCmmjw  4.250000\n",
       "4  --YhjyV-ce1nFLYxP49C5A  3.402299"
      ]
     },
     "execution_count": 99,
     "metadata": {},
     "output_type": "execute_result"
    }
   ],
   "source": [
    "# average_user_ratings.get(average_user_ratings.index[0])\n",
    "average_user_ratings.head()"
   ]
  },
  {
   "cell_type": "code",
   "execution_count": 100,
   "metadata": {},
   "outputs": [
    {
     "data": {
      "text/html": [
       "<div>\n",
       "<style scoped>\n",
       "    .dataframe tbody tr th:only-of-type {\n",
       "        vertical-align: middle;\n",
       "    }\n",
       "\n",
       "    .dataframe tbody tr th {\n",
       "        vertical-align: top;\n",
       "    }\n",
       "\n",
       "    .dataframe thead th {\n",
       "        text-align: right;\n",
       "    }\n",
       "</style>\n",
       "<table border=\"1\" class=\"dataframe\">\n",
       "  <thead>\n",
       "    <tr style=\"text-align: right;\">\n",
       "      <th></th>\n",
       "      <th>business_id</th>\n",
       "      <th>rating</th>\n",
       "    </tr>\n",
       "  </thead>\n",
       "  <tbody>\n",
       "    <tr>\n",
       "      <th>0</th>\n",
       "      <td>--1UhMGODdWsrMastO9DZw</td>\n",
       "      <td>4.142857</td>\n",
       "    </tr>\n",
       "    <tr>\n",
       "      <th>1</th>\n",
       "      <td>--6MefnULPED_I942VcFNA</td>\n",
       "      <td>2.909091</td>\n",
       "    </tr>\n",
       "    <tr>\n",
       "      <th>2</th>\n",
       "      <td>--7zmmkVg-IMGaXbuVd0SQ</td>\n",
       "      <td>3.500000</td>\n",
       "    </tr>\n",
       "    <tr>\n",
       "      <th>3</th>\n",
       "      <td>--9QQLMTbFzLJ_oT-ON3Xw</td>\n",
       "      <td>3.000000</td>\n",
       "    </tr>\n",
       "    <tr>\n",
       "      <th>4</th>\n",
       "      <td>--9e1ONYQuAa-CB_Rrw7Tw</td>\n",
       "      <td>4.177778</td>\n",
       "    </tr>\n",
       "  </tbody>\n",
       "</table>\n",
       "</div>"
      ],
      "text/plain": [
       "              business_id    rating\n",
       "0  --1UhMGODdWsrMastO9DZw  4.142857\n",
       "1  --6MefnULPED_I942VcFNA  2.909091\n",
       "2  --7zmmkVg-IMGaXbuVd0SQ  3.500000\n",
       "3  --9QQLMTbFzLJ_oT-ON3Xw  3.000000\n",
       "4  --9e1ONYQuAa-CB_Rrw7Tw  4.177778"
      ]
     },
     "execution_count": 100,
     "metadata": {},
     "output_type": "execute_result"
    }
   ],
   "source": [
    "average_business_ratings.head()"
   ]
  },
  {
   "cell_type": "code",
   "execution_count": 124,
   "metadata": {},
   "outputs": [
    {
     "data": {
      "text/plain": [
       "array([0.77704918, 0.84      , 0.8       , ..., 0.65882353, 0.6       ,\n",
       "       0.85      ])"
      ]
     },
     "execution_count": 124,
     "metadata": {},
     "output_type": "execute_result"
    }
   ],
   "source": [
    "# avg_business_ratings_dict = dict(zip(average_business_ratings.business_id, average_business_ratings.rating))\n",
    "((average_user_ratings['rating'] + average_user_ratings['rating']) / 10).values"
   ]
  },
  {
   "cell_type": "code",
   "execution_count": 134,
   "metadata": {},
   "outputs": [
    {
     "data": {
      "text/plain": [
       "False"
      ]
     },
     "execution_count": 134,
     "metadata": {},
     "output_type": "execute_result"
    }
   ],
   "source": [
    "'PssNPwuSuOjHAx5WGhgbyg' in average_business_ratings['business_id']"
   ]
  },
  {
   "cell_type": "code",
   "execution_count": 140,
   "metadata": {},
   "outputs": [
    {
     "data": {
      "text/html": [
       "<div>\n",
       "<style scoped>\n",
       "    .dataframe tbody tr th:only-of-type {\n",
       "        vertical-align: middle;\n",
       "    }\n",
       "\n",
       "    .dataframe tbody tr th {\n",
       "        vertical-align: top;\n",
       "    }\n",
       "\n",
       "    .dataframe thead th {\n",
       "        text-align: right;\n",
       "    }\n",
       "</style>\n",
       "<table border=\"1\" class=\"dataframe\">\n",
       "  <thead>\n",
       "    <tr style=\"text-align: right;\">\n",
       "      <th></th>\n",
       "      <th>user_id</th>\n",
       "      <th>business_id</th>\n",
       "      <th>rating</th>\n",
       "      <th>date</th>\n",
       "    </tr>\n",
       "  </thead>\n",
       "  <tbody>\n",
       "    <tr>\n",
       "      <th>0</th>\n",
       "      <td>--BumyUHiO_7YsHurb9Hkw</td>\n",
       "      <td>0L3CAgRf8wuH5MjNwJdivg</td>\n",
       "      <td>3.0</td>\n",
       "      <td>2018-10-20 17:56:22</td>\n",
       "    </tr>\n",
       "    <tr>\n",
       "      <th>1</th>\n",
       "      <td>--HOeLECewlqBqvFhQYUVA</td>\n",
       "      <td>PssNPwuSuOjHAx5WGhgbyg</td>\n",
       "      <td>1.0</td>\n",
       "      <td>2018-03-26 07:55:42</td>\n",
       "    </tr>\n",
       "    <tr>\n",
       "      <th>2</th>\n",
       "      <td>--NIc98RMssgy0mSZL3vpA</td>\n",
       "      <td>SoUlHQO5jZf2XFHr8g2CTA</td>\n",
       "      <td>5.0</td>\n",
       "      <td>2018-03-05 21:43:05</td>\n",
       "    </tr>\n",
       "    <tr>\n",
       "      <th>3</th>\n",
       "      <td>--XpHLy__U2RF_dkWCmmjw</td>\n",
       "      <td>PvzD0DBJA6qRDF06hdUjKQ</td>\n",
       "      <td>4.0</td>\n",
       "      <td>2018-02-07 19:37:47</td>\n",
       "    </tr>\n",
       "    <tr>\n",
       "      <th>4</th>\n",
       "      <td>--YhjyV-ce1nFLYxP49C5A</td>\n",
       "      <td>Yh0ihCj3sG4bcgu3z6714g</td>\n",
       "      <td>4.0</td>\n",
       "      <td>2018-05-17 21:49:02</td>\n",
       "    </tr>\n",
       "    <tr>\n",
       "      <th>...</th>\n",
       "      <td>...</td>\n",
       "      <td>...</td>\n",
       "      <td>...</td>\n",
       "      <td>...</td>\n",
       "    </tr>\n",
       "    <tr>\n",
       "      <th>57221</th>\n",
       "      <td>zzW1NTuShpLFy-4zPFbggw</td>\n",
       "      <td>vsFFbN71ehRCp46KeR5RdQ</td>\n",
       "      <td>5.0</td>\n",
       "      <td>2018-09-09 02:50:09</td>\n",
       "    </tr>\n",
       "    <tr>\n",
       "      <th>57222</th>\n",
       "      <td>zza-gQ2jzjAAJkalUHuO6Q</td>\n",
       "      <td>1ylgrtS3iSNaf3V68kw4bw</td>\n",
       "      <td>5.0</td>\n",
       "      <td>2018-05-30 01:22:23</td>\n",
       "    </tr>\n",
       "    <tr>\n",
       "      <th>57223</th>\n",
       "      <td>zzjQuRnY_Kgr_zaw6A-ACQ</td>\n",
       "      <td>dQrDogW_V4fB83vTTAP5eA</td>\n",
       "      <td>4.0</td>\n",
       "      <td>2018-09-17 19:33:25</td>\n",
       "    </tr>\n",
       "    <tr>\n",
       "      <th>57224</th>\n",
       "      <td>zzltQbbtriSWWdNINMzJUw</td>\n",
       "      <td>dNMjWmRVUIep_NdXNSJRTA</td>\n",
       "      <td>5.0</td>\n",
       "      <td>2018-06-26 23:32:09</td>\n",
       "    </tr>\n",
       "    <tr>\n",
       "      <th>57225</th>\n",
       "      <td>zzvV3l9IqTRX7Db8nxThbA</td>\n",
       "      <td>LucXqItGj0JZD6EgySOakg</td>\n",
       "      <td>5.0</td>\n",
       "      <td>2018-03-10 03:41:30</td>\n",
       "    </tr>\n",
       "  </tbody>\n",
       "</table>\n",
       "<p>57226 rows × 4 columns</p>\n",
       "</div>"
      ],
      "text/plain": [
       "                      user_id             business_id  rating  \\\n",
       "0      --BumyUHiO_7YsHurb9Hkw  0L3CAgRf8wuH5MjNwJdivg     3.0   \n",
       "1      --HOeLECewlqBqvFhQYUVA  PssNPwuSuOjHAx5WGhgbyg     1.0   \n",
       "2      --NIc98RMssgy0mSZL3vpA  SoUlHQO5jZf2XFHr8g2CTA     5.0   \n",
       "3      --XpHLy__U2RF_dkWCmmjw  PvzD0DBJA6qRDF06hdUjKQ     4.0   \n",
       "4      --YhjyV-ce1nFLYxP49C5A  Yh0ihCj3sG4bcgu3z6714g     4.0   \n",
       "...                       ...                     ...     ...   \n",
       "57221  zzW1NTuShpLFy-4zPFbggw  vsFFbN71ehRCp46KeR5RdQ     5.0   \n",
       "57222  zza-gQ2jzjAAJkalUHuO6Q  1ylgrtS3iSNaf3V68kw4bw     5.0   \n",
       "57223  zzjQuRnY_Kgr_zaw6A-ACQ  dQrDogW_V4fB83vTTAP5eA     4.0   \n",
       "57224  zzltQbbtriSWWdNINMzJUw  dNMjWmRVUIep_NdXNSJRTA     5.0   \n",
       "57225  zzvV3l9IqTRX7Db8nxThbA  LucXqItGj0JZD6EgySOakg     5.0   \n",
       "\n",
       "                      date  \n",
       "0      2018-10-20 17:56:22  \n",
       "1      2018-03-26 07:55:42  \n",
       "2      2018-03-05 21:43:05  \n",
       "3      2018-02-07 19:37:47  \n",
       "4      2018-05-17 21:49:02  \n",
       "...                    ...  \n",
       "57221  2018-09-09 02:50:09  \n",
       "57222  2018-05-30 01:22:23  \n",
       "57223  2018-09-17 19:33:25  \n",
       "57224  2018-06-26 23:32:09  \n",
       "57225  2018-03-10 03:41:30  \n",
       "\n",
       "[57226 rows x 4 columns]"
      ]
     },
     "execution_count": 140,
     "metadata": {},
     "output_type": "execute_result"
    }
   ],
   "source": [
    "actual_y"
   ]
  },
  {
   "cell_type": "code",
   "execution_count": 143,
   "metadata": {},
   "outputs": [
    {
     "name": "stdout",
     "output_type": "stream",
     "text": [
      "avg_business_ratings created!\n",
      "predicted_rating created!\n"
     ]
    }
   ],
   "source": [
    "# ratings_df - for each user need to remove its last review\n",
    "\n",
    "def predict_learned_bias(actual_ratings, average_user_ratings, average_business_ratings):\n",
    "\n",
    "    avg_business_ratings_dict = dict(zip(average_business_ratings.business_id, average_business_ratings.rating))\n",
    "    \n",
    "    def find_business_avg(row):\n",
    "        #todo: what if business we are trying to predict was not seen? give it 3 (out of 5)?\n",
    "        return avg_business_ratings_dict.get(row['business_id'], 4)  \n",
    "    \n",
    "    avg_business_ratings = actual_ratings.apply(find_business_avg, axis=1)\n",
    "    print('avg_business_ratings created!')\n",
    "    \n",
    "    # we are assuming that the order is the same in each avg_business_ratings and average_user_ratings\n",
    "    predicted_rating = (avg_business_ratings + average_user_ratings['rating']) / 2\n",
    "    print('predicted_rating created!')\n",
    "    \n",
    "    actual_ratings['predicted_rating'] = predicted_rating.values\n",
    "    \n",
    "    return actual_ratings\n",
    "    \n",
    "basine_line_predictions = predict_learned_bias(actual_y, average_user_ratings, average_business_ratings)"
   ]
  },
  {
   "cell_type": "code",
   "execution_count": 155,
   "metadata": {},
   "outputs": [],
   "source": [
    "import numpy as np\n",
    "\n",
    "N = len(basine_line_predictions)\n",
    "baseline_rmse = np.sum(np.sqrt(((basine_line_predictions['predicted_rating'] - basine_line_predictions['rating']) / N) ** 2))"
   ]
  },
  {
   "cell_type": "code",
   "execution_count": 156,
   "metadata": {},
   "outputs": [
    {
     "data": {
      "text/plain": [
       "1.1332834326500296"
      ]
     },
     "execution_count": 156,
     "metadata": {},
     "output_type": "execute_result"
    }
   ],
   "source": [
    "baseline_rmse"
   ]
  },
  {
   "cell_type": "markdown",
   "metadata": {},
   "source": [
    "### 3.1.2 Collaborative Filtering Baseline Model <a class=\"anchor\" id=\"3-1-1\"></a>"
   ]
  },
  {
   "cell_type": "markdown",
   "metadata": {},
   "source": [
    "## 3.2 Collective Matrix Factorization <a class=\"anchor\" id=\"3-2\"></a>"
   ]
  },
  {
   "cell_type": "code",
   "execution_count": 25,
   "metadata": {},
   "outputs": [],
   "source": [
    "active_user_only_ratings_df = ratings[ratings['user_id'].isin(active_users)]\n",
    "\n",
    "sample_size = [100]\n",
    "\n",
    "for s in sample_size:\n",
    "    sampleUID = active_user_only_ratings_df['user_id'].unique()[np.random.randint(active_user_only_ratings_df['user_id'].unique().shape[0], size=s)]\n",
    "    active_user_only_ratings_df_sample = active_user_only_ratings_df[active_user_only_ratings_df['user_id'].isin(sampleUID)]\n",
    "\n"
   ]
  },
  {
   "cell_type": "code",
   "execution_count": 30,
   "metadata": {},
   "outputs": [],
   "source": [
    "base_df = active_user_only_ratings_df_sample\n",
    "\n",
    "#sparse alert - hopefully with bigger dataset, we will see some weird ratings..\n",
    "real_average = base_df[['business_id','rating']].groupby('business_id').mean().reset_index()\n",
    "real_average.rename(columns={\"rating\": \"average_business_rating\"}, inplace=True)\n",
    "\n",
    "#Average ratings for business added\n",
    "base_df = base_df.merge(real_average, how='left', on='business_id')\n",
    "\n",
    "#one-hot encoding for top5 categories\n",
    "catList = []\n",
    "businesses['categories'].fillna(value='',inplace=True)\n",
    "businesses['cat'] = businesses['categories'].apply(lambda x: x.split(','))\n",
    "catList.extend(businesses['cat'])\n",
    "merged = [x.strip() for x in list(itertools.chain(*catList))]\n",
    "\n",
    "#Adding state, review_count, is_open\n",
    "base_df = base_df.merge(businesses[['business_id','state','review_count','is_open', 'hours', 'cat']], on='business_id')\n",
    "base_df.rename(columns={\"review_count\": \"business_review_count\"}, inplace=True)\n",
    "\n",
    "#getting top 5 common categories items\n",
    "top5List = [x for x in list(itertools.chain(*Counter(merged).most_common(5))) if type(x) != int]\n",
    "\n",
    "#one-hot encoding if the business in top 5 common category\n",
    "for item in top5List:\n",
    "    base_df[item] = base_df['cat'].apply(lambda categories: 'Y' if bool(set([y.strip() for y in categories]).intersection([item])) else 'N')\n",
    "    #base_df[item] = base_df['cat'].apply(lambda categories: 'Y' if bool(set([y.strip() for y in categories]).intersection(set(item))) else 'N')\n",
    "\n",
    "# is_open (categorical) change from 1 and 0 to Y and N\n",
    "base_df['is_open'] = base_df['is_open'].apply(lambda x: 'Y' if x else 'N')\n",
    "\n",
    "# hours: how many days per week it's open\n",
    "base_df['hours'] = base_df['hours'].apply(lambda x: len(x.keys()) if x else 0)\n",
    "base_df.rename(columns={\"hours\": \"days_per_week_open\"}, inplace=True)\n",
    "\n",
    "# user information\n",
    "base_df = base_df.merge(users[['user_id', 'average_stars', 'review_count', 'friends']],  on='user_id')\n",
    "\n",
    "# number_of_friends\n",
    "base_df['friends'] = base_df['friends'].apply(lambda x: len(x.split(',')))\n",
    "base_df.rename(columns={\"friends\": \"number_of_friends\", \"review_count\": \"user_review_count\", \"average_stars\": \"average_user_rating\"}, inplace=True)\n",
    "\n",
    "#number of tips for popularity measure of business\n",
    "business_numberOfTips = tips[['business_id','user_id']].groupby('business_id').count().reset_index()\n",
    "business_numberOfTips.rename(columns={\"user_id\": \"business_numberOfTips\"}, inplace=True)\n",
    "base_df = base_df.merge(business_numberOfTips, on='business_id')\n",
    "\n",
    "#number of photo for popularity measure of business\n",
    "business_numberOfPhotos = photos[['business_id','photo_id']].groupby('business_id').count().reset_index()\n",
    "business_numberOfPhotos.rename(columns={\"photo_id\": \"business_numberOfPhotos\"}, inplace=True)\n",
    "base_df = base_df.merge(business_numberOfPhotos, on='business_id')"
   ]
  },
  {
   "cell_type": "code",
   "execution_count": 31,
   "metadata": {},
   "outputs": [
    {
     "data": {
      "text/html": [
       "<div>\n",
       "<style scoped>\n",
       "    .dataframe tbody tr th:only-of-type {\n",
       "        vertical-align: middle;\n",
       "    }\n",
       "\n",
       "    .dataframe tbody tr th {\n",
       "        vertical-align: top;\n",
       "    }\n",
       "\n",
       "    .dataframe thead th {\n",
       "        text-align: right;\n",
       "    }\n",
       "</style>\n",
       "<table border=\"1\" class=\"dataframe\">\n",
       "  <thead>\n",
       "    <tr style=\"text-align: right;\">\n",
       "      <th></th>\n",
       "      <th>user_id</th>\n",
       "      <th>business_id</th>\n",
       "      <th>rating</th>\n",
       "      <th>date</th>\n",
       "      <th>average_business_rating</th>\n",
       "      <th>state</th>\n",
       "      <th>business_review_count</th>\n",
       "      <th>is_open</th>\n",
       "      <th>days_per_week_open</th>\n",
       "      <th>cat</th>\n",
       "      <th>Restaurants</th>\n",
       "      <th>Shopping</th>\n",
       "      <th>Food</th>\n",
       "      <th>Home Services</th>\n",
       "      <th>Beauty &amp; Spas</th>\n",
       "      <th>average_user_rating</th>\n",
       "      <th>user_review_count</th>\n",
       "      <th>number_of_friends</th>\n",
       "      <th>business_numberOfTips</th>\n",
       "      <th>business_numberOfPhotos</th>\n",
       "    </tr>\n",
       "  </thead>\n",
       "  <tbody>\n",
       "    <tr>\n",
       "      <th>0</th>\n",
       "      <td>-nxh-PAw8TcDR2CwPOIdwA</td>\n",
       "      <td>L9pTWWAATj7HoLaRe6ZA1Q</td>\n",
       "      <td>3.0</td>\n",
       "      <td>2016-11-09 23:35:25</td>\n",
       "      <td>3.0</td>\n",
       "      <td>AZ</td>\n",
       "      <td>444</td>\n",
       "      <td>Y</td>\n",
       "      <td>6</td>\n",
       "      <td>[Cheesesteaks,  Sandwiches,  Restaurants,  Ame...</td>\n",
       "      <td>Y</td>\n",
       "      <td>N</td>\n",
       "      <td>N</td>\n",
       "      <td>N</td>\n",
       "      <td>N</td>\n",
       "      <td>4.55</td>\n",
       "      <td>11</td>\n",
       "      <td>14</td>\n",
       "      <td>76</td>\n",
       "      <td>2</td>\n",
       "    </tr>\n",
       "    <tr>\n",
       "      <th>1</th>\n",
       "      <td>-nxh-PAw8TcDR2CwPOIdwA</td>\n",
       "      <td>13KW8P5n1jAxxHB7Bl_obg</td>\n",
       "      <td>5.0</td>\n",
       "      <td>2017-05-28 08:15:37</td>\n",
       "      <td>4.0</td>\n",
       "      <td>AZ</td>\n",
       "      <td>415</td>\n",
       "      <td>Y</td>\n",
       "      <td>5</td>\n",
       "      <td>[Sandwiches,  Polish,  Japanese,  Gluten-Free,...</td>\n",
       "      <td>Y</td>\n",
       "      <td>N</td>\n",
       "      <td>N</td>\n",
       "      <td>N</td>\n",
       "      <td>N</td>\n",
       "      <td>4.55</td>\n",
       "      <td>11</td>\n",
       "      <td>14</td>\n",
       "      <td>49</td>\n",
       "      <td>6</td>\n",
       "    </tr>\n",
       "    <tr>\n",
       "      <th>2</th>\n",
       "      <td>8SgjU2fID9VqKQooFt1DIQ</td>\n",
       "      <td>13KW8P5n1jAxxHB7Bl_obg</td>\n",
       "      <td>3.0</td>\n",
       "      <td>2013-08-05 14:25:58</td>\n",
       "      <td>4.0</td>\n",
       "      <td>AZ</td>\n",
       "      <td>415</td>\n",
       "      <td>Y</td>\n",
       "      <td>5</td>\n",
       "      <td>[Sandwiches,  Polish,  Japanese,  Gluten-Free,...</td>\n",
       "      <td>Y</td>\n",
       "      <td>N</td>\n",
       "      <td>N</td>\n",
       "      <td>N</td>\n",
       "      <td>N</td>\n",
       "      <td>3.97</td>\n",
       "      <td>306</td>\n",
       "      <td>2607</td>\n",
       "      <td>49</td>\n",
       "      <td>6</td>\n",
       "    </tr>\n",
       "    <tr>\n",
       "      <th>3</th>\n",
       "      <td>-nxh-PAw8TcDR2CwPOIdwA</td>\n",
       "      <td>KEwpIojt2zYIIt47FTlGCA</td>\n",
       "      <td>5.0</td>\n",
       "      <td>2016-09-22 21:42:46</td>\n",
       "      <td>5.0</td>\n",
       "      <td>AZ</td>\n",
       "      <td>41</td>\n",
       "      <td>N</td>\n",
       "      <td>6</td>\n",
       "      <td>[Lebanese,  Restaurants,  Middle Eastern,  Med...</td>\n",
       "      <td>Y</td>\n",
       "      <td>N</td>\n",
       "      <td>N</td>\n",
       "      <td>N</td>\n",
       "      <td>N</td>\n",
       "      <td>4.55</td>\n",
       "      <td>11</td>\n",
       "      <td>14</td>\n",
       "      <td>8</td>\n",
       "      <td>3</td>\n",
       "    </tr>\n",
       "    <tr>\n",
       "      <th>4</th>\n",
       "      <td>-nxh-PAw8TcDR2CwPOIdwA</td>\n",
       "      <td>i066yR2IDP4FWt6p-k9aFg</td>\n",
       "      <td>5.0</td>\n",
       "      <td>2015-10-24 23:34:06</td>\n",
       "      <td>5.0</td>\n",
       "      <td>AZ</td>\n",
       "      <td>454</td>\n",
       "      <td>Y</td>\n",
       "      <td>7</td>\n",
       "      <td>[Sandwiches,  Restaurants,  Vegan,  Gluten-Fre...</td>\n",
       "      <td>Y</td>\n",
       "      <td>N</td>\n",
       "      <td>N</td>\n",
       "      <td>N</td>\n",
       "      <td>N</td>\n",
       "      <td>4.55</td>\n",
       "      <td>11</td>\n",
       "      <td>14</td>\n",
       "      <td>112</td>\n",
       "      <td>3</td>\n",
       "    </tr>\n",
       "  </tbody>\n",
       "</table>\n",
       "</div>"
      ],
      "text/plain": [
       "                  user_id             business_id  rating  \\\n",
       "0  -nxh-PAw8TcDR2CwPOIdwA  L9pTWWAATj7HoLaRe6ZA1Q     3.0   \n",
       "1  -nxh-PAw8TcDR2CwPOIdwA  13KW8P5n1jAxxHB7Bl_obg     5.0   \n",
       "2  8SgjU2fID9VqKQooFt1DIQ  13KW8P5n1jAxxHB7Bl_obg     3.0   \n",
       "3  -nxh-PAw8TcDR2CwPOIdwA  KEwpIojt2zYIIt47FTlGCA     5.0   \n",
       "4  -nxh-PAw8TcDR2CwPOIdwA  i066yR2IDP4FWt6p-k9aFg     5.0   \n",
       "\n",
       "                  date  average_business_rating state  business_review_count  \\\n",
       "0  2016-11-09 23:35:25                      3.0    AZ                    444   \n",
       "1  2017-05-28 08:15:37                      4.0    AZ                    415   \n",
       "2  2013-08-05 14:25:58                      4.0    AZ                    415   \n",
       "3  2016-09-22 21:42:46                      5.0    AZ                     41   \n",
       "4  2015-10-24 23:34:06                      5.0    AZ                    454   \n",
       "\n",
       "  is_open  days_per_week_open  \\\n",
       "0       Y                   6   \n",
       "1       Y                   5   \n",
       "2       Y                   5   \n",
       "3       N                   6   \n",
       "4       Y                   7   \n",
       "\n",
       "                                                 cat Restaurants Shopping  \\\n",
       "0  [Cheesesteaks,  Sandwiches,  Restaurants,  Ame...           Y        N   \n",
       "1  [Sandwiches,  Polish,  Japanese,  Gluten-Free,...           Y        N   \n",
       "2  [Sandwiches,  Polish,  Japanese,  Gluten-Free,...           Y        N   \n",
       "3  [Lebanese,  Restaurants,  Middle Eastern,  Med...           Y        N   \n",
       "4  [Sandwiches,  Restaurants,  Vegan,  Gluten-Fre...           Y        N   \n",
       "\n",
       "  Food Home Services Beauty & Spas  average_user_rating  user_review_count  \\\n",
       "0    N             N             N                 4.55                 11   \n",
       "1    N             N             N                 4.55                 11   \n",
       "2    N             N             N                 3.97                306   \n",
       "3    N             N             N                 4.55                 11   \n",
       "4    N             N             N                 4.55                 11   \n",
       "\n",
       "   number_of_friends  business_numberOfTips  business_numberOfPhotos  \n",
       "0                 14                     76                        2  \n",
       "1                 14                     49                        6  \n",
       "2               2607                     49                        6  \n",
       "3                 14                      8                        3  \n",
       "4                 14                    112                        3  "
      ]
     },
     "execution_count": 31,
     "metadata": {},
     "output_type": "execute_result"
    }
   ],
   "source": [
    "base_df.head()"
   ]
  },
  {
   "cell_type": "markdown",
   "metadata": {},
   "source": [
    "# 4. Evaluation <a class=\"anchor\" id=\"4\"></a>"
   ]
  },
  {
   "cell_type": "markdown",
   "metadata": {},
   "source": [
    "## 4.1 Accuracy <a class=\"anchor\" id=\"4-1\"></a>"
   ]
  },
  {
   "cell_type": "markdown",
   "metadata": {},
   "source": [
    "## 4.2 Coverage <a class=\"anchor\" id=\"4-2\"></a>"
   ]
  },
  {
   "cell_type": "markdown",
   "metadata": {},
   "source": [
    "# 5. Conclusion <a class=\"anchor\" id=\"5\"></a>"
   ]
  }
 ],
 "metadata": {
  "kernelspec": {
   "display_name": "Python 3",
   "language": "python",
   "name": "python3"
  },
  "language_info": {
   "codemirror_mode": {
    "name": "ipython",
    "version": 3
   },
   "file_extension": ".py",
   "mimetype": "text/x-python",
   "name": "python",
   "nbconvert_exporter": "python",
   "pygments_lexer": "ipython3",
   "version": "3.7.3"
  }
 },
 "nbformat": 4,
 "nbformat_minor": 2
}
