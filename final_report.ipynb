{
 "cells": [
  {
   "cell_type": "markdown",
   "metadata": {},
   "source": [
    "# IEOR 4571 - Personalization - Final Project\n",
    "\n",
    "#### Team members: \n",
    "Name, UNI/email, Github ID\n",
    "* Megala Kannan, msk2245@columbia.edu, thisismeg\n",
    "* Hojin Lee, hl3328@columbia.edu, hjlee9295\n",
    "* Jung Ah Shin, js5569@columbia.edu, juliajungahshin\n",
    "* Tiffany Zhu, tz2196@columbia.edu, tlzhu19\n"
   ]
  },
  {
   "cell_type": "markdown",
   "metadata": {},
   "source": [
    "# TOC:\n",
    "* [1. Introduction](#1)\n",
    "* [2. Data Exploration](#2)\n",
    "* [3. Modeling](#3)\n",
    "    * [3.1 Baseline Model: Learned Bias](#3-1)\n",
    "        * [3.1.1 Accuracy of Learned Bias Model](#3-1-1)\n",
    "        * [3.1.2 Coverage of Learned Bias Model](#3-1-2)\n",
    "    * [3.2 Baseline Model: Vanilla Matrix Factorization](#3-2)\n",
    "        * [3.2.1 Tuning Hyperparameters](#3-2-1)\n",
    "        * [3.2.2 Accuracy of Vanilla Matrix Factorization Model](#3-2-2)\n",
    "        * [3.2.3 Coverage of Vanilla Matrix Factorization Model](#3-2-3)\n",
    "    * [3.3 SVD and Nonnegative Matrix Factorization](#3-3)\n",
    "    * [3.4 Wide and Deep Model](#3-4)\n",
    "        * [3.4.1 Feature Selection](#3-4-1)\n",
    "        * [3.4.2 Feature Engineering](#3-4-2)\n",
    "        * [3.4.3 Modeling](#3-4-3)\n",
    "        * [3.4.4 Accuracy](#3-4-4)    \n",
    "        * [3.4.5 Coverage](#3-4-5)    \n",
    "* [4. Evaluation](#4)\n",
    "    * [4.1 Accuracy](#4-1)\n",
    "    * [4.2 Coverage](#4-2)\n",
    "    * [4.3 Hold out](#4-3)\n",
    "* [5. Conclusion](#5)\n"
   ]
  },
  {
   "cell_type": "markdown",
   "metadata": {},
   "source": [
    "# 1. Introduction <a class=\"anchor\" id=\"1\"></a>"
   ]
  },
  {
   "cell_type": "markdown",
   "metadata": {},
   "source": [
    "Yelp is a crowd-sourced review platform where users interact with businesses and other users through writing reviews and discovering new businesses. To make this platform more effective, we leverage various attributes of users, businesses, and reviews to provide better business recommendation for users. Our initial goal is to predict the last rating (final review) for each active user, where active users are those that gave 5 or more reviews. While aiming towards minimizing the difference between the actual rating and our prediction, we also want our recommendation model to provide diverse recommendations so that many users have an opportunity to explore new contents.\n",
    "\n",
    "In line with our objectives, we decided to explore several recommendation algorithms to gain a better understanding of the advantages and disadvantages each model provides.\n",
    "We chose Singular Value Decomposition (SVD), Non-negative Matrix Factorization (NMF), and Wide and Deep algorithms. We compare the aforementioned models with two baseline models, which are user and item bias baseline, and a vanilla Matrix Factorization model.\n",
    "\n",
    "To evaluate and compare the accuracy of our models, we used RMSE. These values would indicate how well our models perform compared to the baseline models. To evaluate the quality and diversity of our models, we used catalog coverage. This would indicate how diverse our business recommendations are. Detailed descriptions of each process is provided below."
   ]
  },
  {
   "cell_type": "markdown",
   "metadata": {},
   "source": [
    "# 2. Data Exploration <a class=\"anchor\" id=\"2\"></a>"
   ]
  },
  {
   "cell_type": "code",
   "execution_count": 1,
   "metadata": {},
   "outputs": [],
   "source": [
    "import pandas as pd\n",
    "import json\n",
    "from tqdm import tqdm\n",
    "\n",
    "import numpy as np # linear algebra\n",
    "import matplotlib.pyplot as plt\n",
    "import seaborn as sns\n",
    "%matplotlib inline\n",
    "plt.style.use('fivethirtyeight')\n",
    "\n",
    "import itertools\n",
    "from collections import Counter\n",
    "\n",
    "import warnings\n",
    "warnings.filterwarnings(\"ignore\")"
   ]
  },
  {
   "cell_type": "markdown",
   "metadata": {},
   "source": [
    "First, we convert all of our json files to Pandas dataframes. We will use review.json, business.json, user.json, tip.json, and photo.json. "
   ]
  },
  {
   "cell_type": "code",
   "execution_count": 2,
   "metadata": {},
   "outputs": [],
   "source": [
    "def convert_json_to_df(path, file_name, column_names):\n",
    "    '''\n",
    "    converts the json file into a pandas dataframe\n",
    "    path: string of path\n",
    "    file_name: string of json file name\n",
    "    column_names: the names of the json file attributes (used as the dataframe column names)\n",
    "    returns: dataframe\n",
    "    '''\n",
    "    line_count = len(open(path + file_name).readlines())    \n",
    "    columns_dict = {name: [] for name in column_names}\n",
    "\n",
    "    with open(path + file_name) as f:\n",
    "        for line in tqdm(f, total=line_count):\n",
    "            blob = json.loads(line)\n",
    "            \n",
    "            for key in column_names:\n",
    "                columns_dict[key].append(blob[key])\n",
    "    \n",
    "    return pd.DataFrame(columns_dict)"
   ]
  },
  {
   "cell_type": "code",
   "execution_count": 3,
   "metadata": {},
   "outputs": [],
   "source": [
    "path = \"/Users/tiffanyzhu/Downloads/yelp_dataset/\"\n",
    "file_name = \"review.json\""
   ]
  },
  {
   "cell_type": "code",
   "execution_count": 4,
   "metadata": {},
   "outputs": [
    {
     "name": "stderr",
     "output_type": "stream",
     "text": [
      "100%|██████████| 6685900/6685900 [01:20<00:00, 83031.22it/s]\n"
     ]
    }
   ],
   "source": [
    "# review.json\n",
    "ratings = convert_json_to_df(path, file_name, ['user_id', 'business_id', 'stars', 'date'])\n",
    "\n",
    "user_counts = ratings[\"user_id\"].value_counts()\n",
    "active_users = user_counts.loc[user_counts >= 5].index.tolist()"
   ]
  },
  {
   "cell_type": "code",
   "execution_count": 5,
   "metadata": {},
   "outputs": [
    {
     "data": {
      "text/plain": [
       "286130"
      ]
     },
     "execution_count": 5,
     "metadata": {},
     "output_type": "execute_result"
    }
   ],
   "source": [
    "len(active_users)"
   ]
  },
  {
   "cell_type": "code",
   "execution_count": 6,
   "metadata": {
    "scrolled": true
   },
   "outputs": [
    {
     "data": {
      "text/html": [
       "<div>\n",
       "<style scoped>\n",
       "    .dataframe tbody tr th:only-of-type {\n",
       "        vertical-align: middle;\n",
       "    }\n",
       "\n",
       "    .dataframe tbody tr th {\n",
       "        vertical-align: top;\n",
       "    }\n",
       "\n",
       "    .dataframe thead th {\n",
       "        text-align: right;\n",
       "    }\n",
       "</style>\n",
       "<table border=\"1\" class=\"dataframe\">\n",
       "  <thead>\n",
       "    <tr style=\"text-align: right;\">\n",
       "      <th></th>\n",
       "      <th>user_id</th>\n",
       "      <th>business_id</th>\n",
       "      <th>rating</th>\n",
       "      <th>date</th>\n",
       "    </tr>\n",
       "  </thead>\n",
       "  <tbody>\n",
       "    <tr>\n",
       "      <th>0</th>\n",
       "      <td>hG7b0MtEbXx5QzbzE6C_VA</td>\n",
       "      <td>ujmEBvifdJM6h6RLv4wQIg</td>\n",
       "      <td>1.0</td>\n",
       "      <td>2013-05-07 04:34:36</td>\n",
       "    </tr>\n",
       "    <tr>\n",
       "      <th>1</th>\n",
       "      <td>yXQM5uF2jS6es16SJzNHfg</td>\n",
       "      <td>NZnhc2sEQy3RmzKTZnqtwQ</td>\n",
       "      <td>5.0</td>\n",
       "      <td>2017-01-14 21:30:33</td>\n",
       "    </tr>\n",
       "    <tr>\n",
       "      <th>2</th>\n",
       "      <td>n6-Gk65cPZL6Uz8qRm3NYw</td>\n",
       "      <td>WTqjgwHlXbSFevF32_DJVw</td>\n",
       "      <td>5.0</td>\n",
       "      <td>2016-11-09 20:09:03</td>\n",
       "    </tr>\n",
       "    <tr>\n",
       "      <th>3</th>\n",
       "      <td>dacAIZ6fTM6mqwW5uxkskg</td>\n",
       "      <td>ikCg8xy5JIg_NGPx-MSIDA</td>\n",
       "      <td>5.0</td>\n",
       "      <td>2018-01-09 20:56:38</td>\n",
       "    </tr>\n",
       "    <tr>\n",
       "      <th>4</th>\n",
       "      <td>ssoyf2_x0EQMed6fgHeMyQ</td>\n",
       "      <td>b1b1eb3uo-w561D0ZfCEiQ</td>\n",
       "      <td>1.0</td>\n",
       "      <td>2018-01-30 23:07:38</td>\n",
       "    </tr>\n",
       "  </tbody>\n",
       "</table>\n",
       "</div>"
      ],
      "text/plain": [
       "                  user_id             business_id  rating                 date\n",
       "0  hG7b0MtEbXx5QzbzE6C_VA  ujmEBvifdJM6h6RLv4wQIg     1.0  2013-05-07 04:34:36\n",
       "1  yXQM5uF2jS6es16SJzNHfg  NZnhc2sEQy3RmzKTZnqtwQ     5.0  2017-01-14 21:30:33\n",
       "2  n6-Gk65cPZL6Uz8qRm3NYw  WTqjgwHlXbSFevF32_DJVw     5.0  2016-11-09 20:09:03\n",
       "3  dacAIZ6fTM6mqwW5uxkskg  ikCg8xy5JIg_NGPx-MSIDA     5.0  2018-01-09 20:56:38\n",
       "4  ssoyf2_x0EQMed6fgHeMyQ  b1b1eb3uo-w561D0ZfCEiQ     1.0  2018-01-30 23:07:38"
      ]
     },
     "execution_count": 6,
     "metadata": {},
     "output_type": "execute_result"
    }
   ],
   "source": [
    "ratings.rename(columns={'stars': 'rating'}, inplace=True)\n",
    "ratings.head()"
   ]
  },
  {
   "cell_type": "code",
   "execution_count": 7,
   "metadata": {},
   "outputs": [],
   "source": [
    "# for metadata info see https://www.yelp.com/dataset/documentation/main"
   ]
  },
  {
   "cell_type": "code",
   "execution_count": 8,
   "metadata": {},
   "outputs": [
    {
     "name": "stderr",
     "output_type": "stream",
     "text": [
      "100%|██████████| 192609/192609 [00:03<00:00, 52207.81it/s]\n"
     ]
    }
   ],
   "source": [
    "# business.json\n",
    "# todo: how to add 'attributes'?\n",
    "'''\n",
    "\"attributes\": {\n",
    "        \"RestaurantsTakeOut\": true,\n",
    "        \"BusinessParking\": {\n",
    "            \"garage\": false,\n",
    "            \"street\": true,\n",
    "            \"validated\": false,\n",
    "            \"lot\": false,\n",
    "            \"valet\": false\n",
    "        },\n",
    "'''\n",
    "\n",
    "businesses = convert_json_to_df(path, 'business.json', ['business_id', 'city', 'state', 'stars', \n",
    "                                                        'review_count', 'is_open', 'attributes', \n",
    "                                                        'categories', 'hours', 'latitude', 'longitude', 'name'])"
   ]
  },
  {
   "cell_type": "code",
   "execution_count": 9,
   "metadata": {},
   "outputs": [
    {
     "data": {
      "text/html": [
       "<div>\n",
       "<style scoped>\n",
       "    .dataframe tbody tr th:only-of-type {\n",
       "        vertical-align: middle;\n",
       "    }\n",
       "\n",
       "    .dataframe tbody tr th {\n",
       "        vertical-align: top;\n",
       "    }\n",
       "\n",
       "    .dataframe thead th {\n",
       "        text-align: right;\n",
       "    }\n",
       "</style>\n",
       "<table border=\"1\" class=\"dataframe\">\n",
       "  <thead>\n",
       "    <tr style=\"text-align: right;\">\n",
       "      <th></th>\n",
       "      <th>business_id</th>\n",
       "      <th>city</th>\n",
       "      <th>state</th>\n",
       "      <th>stars</th>\n",
       "      <th>review_count</th>\n",
       "      <th>is_open</th>\n",
       "      <th>attributes</th>\n",
       "      <th>categories</th>\n",
       "      <th>hours</th>\n",
       "      <th>latitude</th>\n",
       "      <th>longitude</th>\n",
       "      <th>name</th>\n",
       "    </tr>\n",
       "  </thead>\n",
       "  <tbody>\n",
       "    <tr>\n",
       "      <th>0</th>\n",
       "      <td>1SWheh84yJXfytovILXOAQ</td>\n",
       "      <td>Phoenix</td>\n",
       "      <td>AZ</td>\n",
       "      <td>3.0</td>\n",
       "      <td>5</td>\n",
       "      <td>0</td>\n",
       "      <td>{'GoodForKids': 'False'}</td>\n",
       "      <td>Golf, Active Life</td>\n",
       "      <td>None</td>\n",
       "      <td>33.522143</td>\n",
       "      <td>-112.018481</td>\n",
       "      <td>Arizona Biltmore Golf Club</td>\n",
       "    </tr>\n",
       "    <tr>\n",
       "      <th>1</th>\n",
       "      <td>QXAEGFB4oINsVuTFxEYKFQ</td>\n",
       "      <td>Mississauga</td>\n",
       "      <td>ON</td>\n",
       "      <td>2.5</td>\n",
       "      <td>128</td>\n",
       "      <td>1</td>\n",
       "      <td>{'RestaurantsReservations': 'True', 'GoodForMe...</td>\n",
       "      <td>Specialty Food, Restaurants, Dim Sum, Imported...</td>\n",
       "      <td>{'Monday': '9:0-0:0', 'Tuesday': '9:0-0:0', 'W...</td>\n",
       "      <td>43.605499</td>\n",
       "      <td>-79.652289</td>\n",
       "      <td>Emerald Chinese Restaurant</td>\n",
       "    </tr>\n",
       "    <tr>\n",
       "      <th>2</th>\n",
       "      <td>gnKjwL_1w79qoiV3IC_xQQ</td>\n",
       "      <td>Charlotte</td>\n",
       "      <td>NC</td>\n",
       "      <td>4.0</td>\n",
       "      <td>170</td>\n",
       "      <td>1</td>\n",
       "      <td>{'GoodForKids': 'True', 'NoiseLevel': 'u'avera...</td>\n",
       "      <td>Sushi Bars, Restaurants, Japanese</td>\n",
       "      <td>{'Monday': '17:30-21:30', 'Wednesday': '17:30-...</td>\n",
       "      <td>35.092564</td>\n",
       "      <td>-80.859132</td>\n",
       "      <td>Musashi Japanese Restaurant</td>\n",
       "    </tr>\n",
       "    <tr>\n",
       "      <th>3</th>\n",
       "      <td>xvX2CttrVhyG2z1dFg_0xw</td>\n",
       "      <td>Goodyear</td>\n",
       "      <td>AZ</td>\n",
       "      <td>5.0</td>\n",
       "      <td>3</td>\n",
       "      <td>1</td>\n",
       "      <td>None</td>\n",
       "      <td>Insurance, Financial Services</td>\n",
       "      <td>{'Monday': '8:0-17:0', 'Tuesday': '8:0-17:0', ...</td>\n",
       "      <td>33.455613</td>\n",
       "      <td>-112.395596</td>\n",
       "      <td>Farmers Insurance - Paul Lorenz</td>\n",
       "    </tr>\n",
       "    <tr>\n",
       "      <th>4</th>\n",
       "      <td>HhyxOkGAM07SRYtlQ4wMFQ</td>\n",
       "      <td>Charlotte</td>\n",
       "      <td>NC</td>\n",
       "      <td>4.0</td>\n",
       "      <td>4</td>\n",
       "      <td>1</td>\n",
       "      <td>{'BusinessAcceptsBitcoin': 'False', 'ByAppoint...</td>\n",
       "      <td>Plumbing, Shopping, Local Services, Home Servi...</td>\n",
       "      <td>{'Monday': '7:0-23:0', 'Tuesday': '7:0-23:0', ...</td>\n",
       "      <td>35.190012</td>\n",
       "      <td>-80.887223</td>\n",
       "      <td>Queen City Plumbing</td>\n",
       "    </tr>\n",
       "  </tbody>\n",
       "</table>\n",
       "</div>"
      ],
      "text/plain": [
       "              business_id         city state  stars  review_count  is_open  \\\n",
       "0  1SWheh84yJXfytovILXOAQ      Phoenix    AZ    3.0             5        0   \n",
       "1  QXAEGFB4oINsVuTFxEYKFQ  Mississauga    ON    2.5           128        1   \n",
       "2  gnKjwL_1w79qoiV3IC_xQQ    Charlotte    NC    4.0           170        1   \n",
       "3  xvX2CttrVhyG2z1dFg_0xw     Goodyear    AZ    5.0             3        1   \n",
       "4  HhyxOkGAM07SRYtlQ4wMFQ    Charlotte    NC    4.0             4        1   \n",
       "\n",
       "                                          attributes  \\\n",
       "0                           {'GoodForKids': 'False'}   \n",
       "1  {'RestaurantsReservations': 'True', 'GoodForMe...   \n",
       "2  {'GoodForKids': 'True', 'NoiseLevel': 'u'avera...   \n",
       "3                                               None   \n",
       "4  {'BusinessAcceptsBitcoin': 'False', 'ByAppoint...   \n",
       "\n",
       "                                          categories  \\\n",
       "0                                  Golf, Active Life   \n",
       "1  Specialty Food, Restaurants, Dim Sum, Imported...   \n",
       "2                  Sushi Bars, Restaurants, Japanese   \n",
       "3                      Insurance, Financial Services   \n",
       "4  Plumbing, Shopping, Local Services, Home Servi...   \n",
       "\n",
       "                                               hours   latitude   longitude  \\\n",
       "0                                               None  33.522143 -112.018481   \n",
       "1  {'Monday': '9:0-0:0', 'Tuesday': '9:0-0:0', 'W...  43.605499  -79.652289   \n",
       "2  {'Monday': '17:30-21:30', 'Wednesday': '17:30-...  35.092564  -80.859132   \n",
       "3  {'Monday': '8:0-17:0', 'Tuesday': '8:0-17:0', ...  33.455613 -112.395596   \n",
       "4  {'Monday': '7:0-23:0', 'Tuesday': '7:0-23:0', ...  35.190012  -80.887223   \n",
       "\n",
       "                              name  \n",
       "0       Arizona Biltmore Golf Club  \n",
       "1       Emerald Chinese Restaurant  \n",
       "2      Musashi Japanese Restaurant  \n",
       "3  Farmers Insurance - Paul Lorenz  \n",
       "4              Queen City Plumbing  "
      ]
     },
     "execution_count": 9,
     "metadata": {},
     "output_type": "execute_result"
    }
   ],
   "source": [
    "businesses.head()"
   ]
  },
  {
   "cell_type": "code",
   "execution_count": 10,
   "metadata": {},
   "outputs": [
    {
     "name": "stderr",
     "output_type": "stream",
     "text": [
      "100%|██████████| 1637138/1637138 [00:42<00:00, 38463.04it/s]\n"
     ]
    }
   ],
   "source": [
    "# user.json\n",
    "users = convert_json_to_df(path, 'user.json', ['user_id', 'review_count', 'friends', 'useful', \n",
    "                                               'funny', 'cool', 'fans', 'elite', 'average_stars', \n",
    "                                               'compliment_hot', 'compliment_more', 'compliment_profile',\n",
    "                                               'compliment_cute', 'compliment_list', 'compliment_note',\n",
    "                                               'compliment_plain', 'compliment_cool', 'compliment_funny',\n",
    "                                               'compliment_writer', 'compliment_photos'\n",
    "                                              ])"
   ]
  },
  {
   "cell_type": "code",
   "execution_count": 11,
   "metadata": {},
   "outputs": [
    {
     "data": {
      "text/html": [
       "<div>\n",
       "<style scoped>\n",
       "    .dataframe tbody tr th:only-of-type {\n",
       "        vertical-align: middle;\n",
       "    }\n",
       "\n",
       "    .dataframe tbody tr th {\n",
       "        vertical-align: top;\n",
       "    }\n",
       "\n",
       "    .dataframe thead th {\n",
       "        text-align: right;\n",
       "    }\n",
       "</style>\n",
       "<table border=\"1\" class=\"dataframe\">\n",
       "  <thead>\n",
       "    <tr style=\"text-align: right;\">\n",
       "      <th></th>\n",
       "      <th>user_id</th>\n",
       "      <th>review_count</th>\n",
       "      <th>friends</th>\n",
       "      <th>useful</th>\n",
       "      <th>funny</th>\n",
       "      <th>cool</th>\n",
       "      <th>fans</th>\n",
       "      <th>elite</th>\n",
       "      <th>average_stars</th>\n",
       "      <th>compliment_hot</th>\n",
       "      <th>compliment_more</th>\n",
       "      <th>compliment_profile</th>\n",
       "      <th>compliment_cute</th>\n",
       "      <th>compliment_list</th>\n",
       "      <th>compliment_note</th>\n",
       "      <th>compliment_plain</th>\n",
       "      <th>compliment_cool</th>\n",
       "      <th>compliment_funny</th>\n",
       "      <th>compliment_writer</th>\n",
       "      <th>compliment_photos</th>\n",
       "    </tr>\n",
       "  </thead>\n",
       "  <tbody>\n",
       "    <tr>\n",
       "      <th>0</th>\n",
       "      <td>l6BmjZMeQD3rDxWUbiAiow</td>\n",
       "      <td>95</td>\n",
       "      <td>c78V-rj8NQcQjOI8KP3UEA, alRMgPcngYSCJ5naFRBz5g...</td>\n",
       "      <td>84</td>\n",
       "      <td>17</td>\n",
       "      <td>25</td>\n",
       "      <td>5</td>\n",
       "      <td>2015,2016,2017</td>\n",
       "      <td>4.03</td>\n",
       "      <td>2</td>\n",
       "      <td>0</td>\n",
       "      <td>0</td>\n",
       "      <td>0</td>\n",
       "      <td>0</td>\n",
       "      <td>1</td>\n",
       "      <td>1</td>\n",
       "      <td>1</td>\n",
       "      <td>1</td>\n",
       "      <td>2</td>\n",
       "      <td>0</td>\n",
       "    </tr>\n",
       "    <tr>\n",
       "      <th>1</th>\n",
       "      <td>4XChL029mKr5hydo79Ljxg</td>\n",
       "      <td>33</td>\n",
       "      <td>kEBTgDvFX754S68FllfCaA, aB2DynOxNOJK9st2ZeGTPg...</td>\n",
       "      <td>48</td>\n",
       "      <td>22</td>\n",
       "      <td>16</td>\n",
       "      <td>4</td>\n",
       "      <td></td>\n",
       "      <td>3.63</td>\n",
       "      <td>1</td>\n",
       "      <td>0</td>\n",
       "      <td>0</td>\n",
       "      <td>0</td>\n",
       "      <td>0</td>\n",
       "      <td>0</td>\n",
       "      <td>0</td>\n",
       "      <td>1</td>\n",
       "      <td>1</td>\n",
       "      <td>0</td>\n",
       "      <td>0</td>\n",
       "    </tr>\n",
       "    <tr>\n",
       "      <th>2</th>\n",
       "      <td>bc8C_eETBWL0olvFSJJd0w</td>\n",
       "      <td>16</td>\n",
       "      <td>4N-HU_T32hLENLntsNKNBg, pSY2vwWLgWfGVAAiKQzMng...</td>\n",
       "      <td>28</td>\n",
       "      <td>8</td>\n",
       "      <td>10</td>\n",
       "      <td>0</td>\n",
       "      <td></td>\n",
       "      <td>3.71</td>\n",
       "      <td>0</td>\n",
       "      <td>0</td>\n",
       "      <td>0</td>\n",
       "      <td>0</td>\n",
       "      <td>0</td>\n",
       "      <td>1</td>\n",
       "      <td>0</td>\n",
       "      <td>0</td>\n",
       "      <td>0</td>\n",
       "      <td>0</td>\n",
       "      <td>0</td>\n",
       "    </tr>\n",
       "    <tr>\n",
       "      <th>3</th>\n",
       "      <td>dD0gZpBctWGdWo9WlGuhlA</td>\n",
       "      <td>17</td>\n",
       "      <td>RZ6wS38wnlXyj-OOdTzBxA, l5jxZh1KsgI8rMunm-GN6A...</td>\n",
       "      <td>30</td>\n",
       "      <td>4</td>\n",
       "      <td>14</td>\n",
       "      <td>5</td>\n",
       "      <td></td>\n",
       "      <td>4.85</td>\n",
       "      <td>1</td>\n",
       "      <td>0</td>\n",
       "      <td>0</td>\n",
       "      <td>0</td>\n",
       "      <td>0</td>\n",
       "      <td>0</td>\n",
       "      <td>2</td>\n",
       "      <td>0</td>\n",
       "      <td>0</td>\n",
       "      <td>1</td>\n",
       "      <td>0</td>\n",
       "    </tr>\n",
       "    <tr>\n",
       "      <th>4</th>\n",
       "      <td>MM4RJAeH6yuaN8oZDSt0RA</td>\n",
       "      <td>361</td>\n",
       "      <td>mbwrZ-RS76V1HoJ0bF_Geg, g64lOV39xSLRZO0aQQ6DeQ...</td>\n",
       "      <td>1114</td>\n",
       "      <td>279</td>\n",
       "      <td>665</td>\n",
       "      <td>39</td>\n",
       "      <td>2015,2016,2017,2018</td>\n",
       "      <td>4.08</td>\n",
       "      <td>28</td>\n",
       "      <td>1</td>\n",
       "      <td>0</td>\n",
       "      <td>0</td>\n",
       "      <td>1</td>\n",
       "      <td>16</td>\n",
       "      <td>57</td>\n",
       "      <td>80</td>\n",
       "      <td>80</td>\n",
       "      <td>25</td>\n",
       "      <td>5</td>\n",
       "    </tr>\n",
       "  </tbody>\n",
       "</table>\n",
       "</div>"
      ],
      "text/plain": [
       "                  user_id  review_count  \\\n",
       "0  l6BmjZMeQD3rDxWUbiAiow            95   \n",
       "1  4XChL029mKr5hydo79Ljxg            33   \n",
       "2  bc8C_eETBWL0olvFSJJd0w            16   \n",
       "3  dD0gZpBctWGdWo9WlGuhlA            17   \n",
       "4  MM4RJAeH6yuaN8oZDSt0RA           361   \n",
       "\n",
       "                                             friends  useful  funny  cool  \\\n",
       "0  c78V-rj8NQcQjOI8KP3UEA, alRMgPcngYSCJ5naFRBz5g...      84     17    25   \n",
       "1  kEBTgDvFX754S68FllfCaA, aB2DynOxNOJK9st2ZeGTPg...      48     22    16   \n",
       "2  4N-HU_T32hLENLntsNKNBg, pSY2vwWLgWfGVAAiKQzMng...      28      8    10   \n",
       "3  RZ6wS38wnlXyj-OOdTzBxA, l5jxZh1KsgI8rMunm-GN6A...      30      4    14   \n",
       "4  mbwrZ-RS76V1HoJ0bF_Geg, g64lOV39xSLRZO0aQQ6DeQ...    1114    279   665   \n",
       "\n",
       "   fans                elite  average_stars  compliment_hot  compliment_more  \\\n",
       "0     5       2015,2016,2017           4.03               2                0   \n",
       "1     4                                3.63               1                0   \n",
       "2     0                                3.71               0                0   \n",
       "3     5                                4.85               1                0   \n",
       "4    39  2015,2016,2017,2018           4.08              28                1   \n",
       "\n",
       "   compliment_profile  compliment_cute  compliment_list  compliment_note  \\\n",
       "0                   0                0                0                1   \n",
       "1                   0                0                0                0   \n",
       "2                   0                0                0                1   \n",
       "3                   0                0                0                0   \n",
       "4                   0                0                1               16   \n",
       "\n",
       "   compliment_plain  compliment_cool  compliment_funny  compliment_writer  \\\n",
       "0                 1                1                 1                  2   \n",
       "1                 0                1                 1                  0   \n",
       "2                 0                0                 0                  0   \n",
       "3                 2                0                 0                  1   \n",
       "4                57               80                80                 25   \n",
       "\n",
       "   compliment_photos  \n",
       "0                  0  \n",
       "1                  0  \n",
       "2                  0  \n",
       "3                  0  \n",
       "4                  5  "
      ]
     },
     "execution_count": 11,
     "metadata": {},
     "output_type": "execute_result"
    }
   ],
   "source": [
    "users.head()"
   ]
  },
  {
   "cell_type": "code",
   "execution_count": 12,
   "metadata": {},
   "outputs": [
    {
     "name": "stderr",
     "output_type": "stream",
     "text": [
      "100%|██████████| 1223094/1223094 [00:12<00:00, 99101.99it/s] \n"
     ]
    }
   ],
   "source": [
    "# tip.json\n",
    "tips =  convert_json_to_df(path, 'tip.json', ['text', 'date', 'compliment_count', 'business_id', 'user_id'])"
   ]
  },
  {
   "cell_type": "code",
   "execution_count": 13,
   "metadata": {},
   "outputs": [
    {
     "name": "stderr",
     "output_type": "stream",
     "text": [
      "100%|██████████| 200000/200000 [00:01<00:00, 149443.01it/s]\n"
     ]
    }
   ],
   "source": [
    "photos = convert_json_to_df(path, 'photo.json', ['photo_id', 'business_id'])"
   ]
  },
  {
   "cell_type": "markdown",
   "metadata": {},
   "source": [
    "Exploratory analysis of our data shows some interesting patterns.\n",
    "The average ratings received by businesses imply that a large number of businesses received 3.5-5.0 stars from users, while only a small number of businesses received a low rating (rating <  3.0). Similarly, by looking at the distribution of ratings by users, the majority of the ratings are concentrated in the upper-half, indicating that most users gave 4.0 to 5.0 in their reviews. It shows that most ratings are positive, whereas only a small amount of ratings were negative (rating <  3.0).  We can hypothesize from this evaluation that since our models will be trained primarily by positive ratings,  it might perform better at predicting ratings for businesses they are likely to enjoy than those they are less likely to enjoy. "
   ]
  },
  {
   "cell_type": "code",
   "execution_count": 14,
   "metadata": {},
   "outputs": [
    {
     "data": {
      "image/png": "[encoded data removed]",
      "text/plain": [
       "<Figure size 432x288 with 1 Axes>"
      ]
     },
     "metadata": {
      "needs_background": "light"
     },
     "output_type": "display_data"
    }
   ],
   "source": [
    "chart = sns.countplot(x='stars',data=businesses)\n",
    "var = chart.set(xlabel='Rating', title='Average Ratings of Businesses')"
   ]
  },
  {
   "cell_type": "code",
   "execution_count": 15,
   "metadata": {},
   "outputs": [
    {
     "data": {
      "image/png": "[encoded data removed]",
      "text/plain": [
       "<Figure size 432x288 with 1 Axes>"
      ]
     },
     "metadata": {
      "needs_background": "light"
     },
     "output_type": "display_data"
    }
   ],
   "source": [
    "chart = sns.countplot(x='rating',data=ratings)\n",
    "var = chart.set(xlabel='Rating', title='Distribution of Ratings by Users')"
   ]
  },
  {
   "cell_type": "markdown",
   "metadata": {},
   "source": [
    "In addition, we also looked at which categories the businesses belong in. Our analysis indicate that the top-5 most common categories are restaurants, shopping, food, home services, and beauty & spas. \n",
    "Furthermore, the top-5 most common categories cover approximately 71% of the data, hence these categories are used as features for our Wide and Deep model."
   ]
  },
  {
   "cell_type": "code",
   "execution_count": 16,
   "metadata": {},
   "outputs": [
    {
     "data": {
      "image/png": "[encoded data removed]",
      "text/plain": [
       "<Figure size 432x288 with 1 Axes>"
      ]
     },
     "metadata": {
      "needs_background": "light"
     },
     "output_type": "display_data"
    }
   ],
   "source": [
    "catList = []\n",
    "businesses['categories'].fillna(value='',inplace=True)\n",
    "businesses['cat'] = businesses['categories'].apply(lambda x: x.split(','))\n",
    "catList.extend(businesses['cat'])\n",
    "merged = [x.strip() for x in list(itertools.chain(*catList))]\n",
    "\n",
    "mostCommon = Counter(merged).most_common(15)\n",
    "mostCommonKeys = [x for x in list(itertools.chain(*mostCommon)) if type(x) != int]\n",
    "mostCommonValues = [x for x in list(itertools.chain(*mostCommon)) if type(x) == int]\n",
    "\n",
    "df = pd.DataFrame({'y': mostCommonValues, 'categories': mostCommonKeys})\n",
    "ax = df.plot.barh(x='categories', y='y')\n",
    "ax.invert_yaxis()"
   ]
  },
  {
   "cell_type": "code",
   "execution_count": 17,
   "metadata": {},
   "outputs": [
    {
     "name": "stdout",
     "output_type": "stream",
     "text": [
      "business covered percentage when k = 5 : 0.7069243908643936\n",
      "business covered percentage when k = 10 : 0.8770670114065282\n",
      "business covered percentage when k = 20 : 0.9306418703175864\n"
     ]
    }
   ],
   "source": [
    "topKBusiness = [5,10,20]\n",
    "\n",
    "for n in topKBusiness:\n",
    "    catList = []\n",
    "    businesses['categories'].fillna(value='',inplace=True)\n",
    "    businesses['cat'] = businesses['categories'].apply(lambda x: x.split(','))\n",
    "    catList.extend(businesses['cat'])\n",
    "    merged = [x.strip() for x in list(itertools.chain(*catList))]\n",
    "    mostCommon = Counter(merged).most_common(n)\n",
    "    mostCommonKeys = [x for x in list(itertools.chain(*mostCommon)) if type(x) != int]\n",
    "    mostCommonValues = [x for x in list(itertools.chain(*mostCommon)) if type(x) == int]\n",
    "\n",
    "    colName = 'Top' + str(n)\n",
    "    businesses[colName] = businesses['cat'].apply(lambda categories: 1 if bool(set([y.strip() for y in categories]).intersection(mostCommonKeys)) else 0)   \n",
    "    print('business covered percentage when k =', n, \":\", businesses[colName].mean())"
   ]
  },
  {
   "cell_type": "markdown",
   "metadata": {},
   "source": [
    "To see which specific businesses might have received the highest number of ratings, Starbucks overall received the most number of ratings,  followed by McDonald’s and Hash House A Go Go. We could observe that franchise businesses tend to have many reviews due to having branches in various locations."
   ]
  },
  {
   "cell_type": "code",
   "execution_count": 18,
   "metadata": {},
   "outputs": [
    {
     "data": {
      "image/png": "[encoded data removed]",
      "text/plain": [
       "<Figure size 864x432 with 1 Axes>"
      ]
     },
     "metadata": {
      "needs_background": "light"
     },
     "output_type": "display_data"
    }
   ],
   "source": [
    "df = ratings.merge(businesses[['business_id', 'name']], on='business_id')\n",
    "plt.figure(figsize=(12,6))\n",
    "\n",
    "chart = sns.countplot(x='name',data=df, order=pd.value_counts(df['name']).iloc[:10].index)\n",
    "chart.set(title='Distribution of Ratings by Business')\n",
    "var = chart.set_xticklabels(chart.get_xticklabels(), rotation=45)"
   ]
  },
  {
   "cell_type": "markdown",
   "metadata": {},
   "source": [
    "The distribution of ratings of active users indicate that while there are a small number of users who have reviewed around 4000 times (Maximum is 4129), the vast majority of the users have reviewed around 5 times."
   ]
  },
  {
   "cell_type": "code",
   "execution_count": 19,
   "metadata": {},
   "outputs": [
    {
     "data": {
      "text/plain": [
       "count    286130.000000\n",
       "mean         15.860874\n",
       "std          32.607378\n",
       "min           5.000000\n",
       "25%           6.000000\n",
       "50%           8.000000\n",
       "75%          15.000000\n",
       "max        4129.000000\n",
       "Name: user_id, dtype: float64"
      ]
     },
     "execution_count": 19,
     "metadata": {},
     "output_type": "execute_result"
    }
   ],
   "source": [
    "user_counts[user_counts.values >= 5].describe()"
   ]
  },
  {
   "cell_type": "code",
   "execution_count": 20,
   "metadata": {},
   "outputs": [
    {
     "data": {
      "image/png": "[encoded data removed]",
      "text/plain": [
       "<Figure size 432x288 with 1 Axes>"
      ]
     },
     "metadata": {
      "needs_background": "light"
     },
     "output_type": "display_data"
    }
   ],
   "source": [
    "chart = sns.distplot(user_counts.values[user_counts.values > 15], norm_hist=True, hist=False, bins=5)\n",
    "chart.set(title='Distribution of Ratings of Active Users', xlabel='Ratings');"
   ]
  },
  {
   "cell_type": "markdown",
   "metadata": {},
   "source": [
    "# 3. Modeling <a class=\"anchor\" id=\"3\"></a>"
   ]
  },
  {
   "cell_type": "markdown",
   "metadata": {},
   "source": [
    "## 3.0 Sampling Data"
   ]
  },
  {
   "cell_type": "markdown",
   "metadata": {},
   "source": [
    "By identifying and filtering the users who gave 5 or more reviews, there are 286,130 active users and about 4.5 million ratings. Since we wanted to evaluate the performance on several models, we first sampled the active user data where there are 1000, 10,000, and 50,000 users (where 50,000 users account for approximately 17.5% of the entire data). For this given dataset, we wanted to sample by users to ensure that our sample dataset would contain an entire user-business interaction history of the sampled users. That way, it would align with our goal of predicting the last rating for each active user based on the entire user-business interaction history.\n",
    "\n",
    "Furthermore, since users’ preference towards restaurants could gradually change over time, we believe that it would be reasonable to split our train and test data so that the train data would contain the earlier reviews, and the test data would consist of the latter reviews given by the users. That way, while we are supposedly predicting “future” reviews,  it is also consistent with our objective of predicting the final star rating (by date) given by the user. \n",
    "We also analyzed the categories for each business. As stated earlier, we decided to use the top-5 categories to feed into our model. This is because they account for approximately 70% of the businesses in our data.\n"
   ]
  },
  {
   "cell_type": "code",
   "execution_count": 21,
   "metadata": {},
   "outputs": [
    {
     "data": {
      "text/plain": [
       "4538272"
      ]
     },
     "execution_count": 21,
     "metadata": {},
     "output_type": "execute_result"
    }
   ],
   "source": [
    "active_user_only_ratings_df = ratings[ratings['user_id'].isin(active_users)]\n",
    "len(active_user_only_ratings_df)"
   ]
  },
  {
   "cell_type": "code",
   "execution_count": 22,
   "metadata": {},
   "outputs": [
    {
     "data": {
      "text/plain": [
       "286130"
      ]
     },
     "execution_count": 22,
     "metadata": {},
     "output_type": "execute_result"
    }
   ],
   "source": [
    "len(active_user_only_ratings_df['user_id'].unique())"
   ]
  },
  {
   "cell_type": "code",
   "execution_count": 23,
   "metadata": {},
   "outputs": [],
   "source": [
    "import datetime as dt\n",
    "\n",
    "def get_sample_size_n(active_user_only_ratings_df, n): \n",
    "    sample_size = [n]\n",
    "\n",
    "    for s in sample_size:\n",
    "        sampleUID = active_user_only_ratings_df['user_id'].unique()[np.random.randint(active_user_only_ratings_df['user_id'].unique().shape[0], size=s)]\n",
    "        active_user_only_ratings_df_sample = active_user_only_ratings_df[active_user_only_ratings_df['user_id'].isin(sampleUID)]\n",
    "    \n",
    "    active_user_only_ratings_df_sample['date'] = pd.to_datetime(active_user_only_ratings_df_sample['date'])\n",
    "\n",
    "    # take 80% of reviews for each user sampled\n",
    "    training_data = active_user_only_ratings_df_sample.sort_values(by=['user_id', 'date']).groupby('user_id').apply(lambda x: x[:round(len(x)*.8)]).reset_index(drop=True)\n",
    "\n",
    "    # take 20% of reviews for each user sampled\n",
    "    testing_data = active_user_only_ratings_df_sample.sort_values(by=['user_id', 'date']).groupby('user_id').apply(lambda x: x[round(len(x)*.8):]).reset_index(drop=True)\n",
    "    \n",
    "    return active_user_only_ratings_df_sample, training_data, testing_data"
   ]
  },
  {
   "cell_type": "code",
   "execution_count": 24,
   "metadata": {},
   "outputs": [],
   "source": [
    "def print_df_info(n, total_df, training_df, testing_df):\n",
    "    print('Total Number of Ratings: ', len(total_df))\n",
    "    print('Total Number of Users: ', n)\n",
    "    print(\"Training Size: \", len(training_df))\n",
    "    print(\"Testing Size: \", len(testing_df))"
   ]
  },
  {
   "cell_type": "code",
   "execution_count": 25,
   "metadata": {},
   "outputs": [
    {
     "name": "stdout",
     "output_type": "stream",
     "text": [
      "Total Number of Ratings:  16404\n",
      "Total Number of Users:  1000\n",
      "Training Size:  13144\n",
      "Testing Size:  3260\n"
     ]
    }
   ],
   "source": [
    "sample_sizes = [1000, 10000, 50000]\n",
    "active_user_only_ratings_df_sample, training_data, testing_data = get_sample_size_n(active_user_only_ratings_df, sample_sizes[0])\n",
    "print_df_info(sample_sizes[0], active_user_only_ratings_df_sample, training_data, testing_data)"
   ]
  },
  {
   "cell_type": "code",
   "execution_count": 26,
   "metadata": {},
   "outputs": [
    {
     "name": "stdout",
     "output_type": "stream",
     "text": [
      "Total Number of Ratings:  150722\n",
      "Total Number of Users:  10000\n",
      "Training Size:  120959\n",
      "Testing Size:  29763\n"
     ]
    }
   ],
   "source": [
    "active_user_only_ratings_df_sample2, training_data2, testing_data2 = get_sample_size_n(active_user_only_ratings_df, sample_sizes[1])\n",
    "print_df_info(sample_sizes[1], active_user_only_ratings_df_sample2, training_data2, testing_data2)"
   ]
  },
  {
   "cell_type": "code",
   "execution_count": 27,
   "metadata": {},
   "outputs": [
    {
     "name": "stdout",
     "output_type": "stream",
     "text": [
      "Total Number of Ratings:  725909\n",
      "Total Number of Users:  50000\n",
      "Training Size:  582297\n",
      "Testing Size:  143612\n"
     ]
    }
   ],
   "source": [
    "active_user_only_ratings_df_sample3, training_data3, testing_data3 = get_sample_size_n(active_user_only_ratings_df, sample_sizes[2])\n",
    "print_df_info(sample_sizes[2], active_user_only_ratings_df_sample3, training_data3, testing_data3)"
   ]
  },
  {
   "cell_type": "code",
   "execution_count": 28,
   "metadata": {},
   "outputs": [],
   "source": [
    "all_samples = [active_user_only_ratings_df_sample, \n",
    "                  active_user_only_ratings_df_sample2, \n",
    "                  active_user_only_ratings_df_sample3]\n",
    "\n",
    "all_training_samples = [training_data, training_data2, training_data3]\n",
    "\n",
    "all_testing_samples = [testing_data, testing_data2, testing_data3]"
   ]
  },
  {
   "cell_type": "markdown",
   "metadata": {},
   "source": [
    "## 3.1 Baseline Model: Learned Bias <a class=\"anchor\" id=\"3-1\"></a>"
   ]
  },
  {
   "cell_type": "markdown",
   "metadata": {},
   "source": [
    "Our first baseline model is learned bias, where for each user and business pair, we take the user's average rating and the business's average rating and take their mean to get a predicted rating. "
   ]
  },
  {
   "cell_type": "code",
   "execution_count": 29,
   "metadata": {},
   "outputs": [],
   "source": [
    "def find_average_user_ratings(ratings_df):\n",
    "    ratings_series = ratings_df.groupby('user_id')['rating'].mean()\n",
    "    return pd.DataFrame({'user_id':ratings_series.index, 'avg_user_rating':ratings_series.values})\n"
   ]
  },
  {
   "cell_type": "code",
   "execution_count": 30,
   "metadata": {},
   "outputs": [],
   "source": [
    "def find_average_business_ratings(ratings_df):    \n",
    "    ratings_series = ratings_df.groupby('business_id')['rating'].mean()\n",
    "    return pd.DataFrame({'business_id':ratings_series.index, 'avg_business_rating':ratings_series.values})\n"
   ]
  },
  {
   "cell_type": "code",
   "execution_count": 31,
   "metadata": {},
   "outputs": [],
   "source": [
    "def predict_learned_bias(df, average_user_ratings, average_business_ratings, missingVal=3.0):\n",
    "    \n",
    "    baseline_line_predictions = df.merge(average_user_ratings, how ='left', on='user_id')\n",
    "    baseline_line_predictions = baseline_line_predictions.merge(average_business_ratings, how ='left', on='business_id')\n",
    "    baseline_line_predictions['avg_business_rating'] = baseline_line_predictions['avg_business_rating'].fillna(value=missingVal)\n",
    "    baseline_line_predictions['avg_user_rating'] = baseline_line_predictions['avg_user_rating'].astype(float)\n",
    "    baseline_line_predictions['avg_business_rating'] = baseline_line_predictions['avg_business_rating'].astype(float)\n",
    "    baseline_line_predictions['predicted_rating'] = (baseline_line_predictions['avg_user_rating'] + baseline_line_predictions['avg_business_rating']) / 2\n",
    "    \n",
    "    return baseline_line_predictions"
   ]
  },
  {
   "cell_type": "code",
   "execution_count": 32,
   "metadata": {},
   "outputs": [],
   "source": [
    "def calculate_catalog_coverage(ratingsDict, N, k=3, pred_col_name='predicted_rating'):\n",
    "    '''\n",
    "    k: top k businesses\n",
    "    N: total number of businesses\n",
    "    '''\n",
    "    \n",
    "    recList = []\n",
    "    for keys in ratingsDict.keys():\n",
    "        \n",
    "        if k >= len(ratingsDict[keys]):\n",
    "            for row in ratingsDict[keys]:\n",
    "                recList.append(row['business_id'])\n",
    "        else:\n",
    "            for index, item in enumerate(sorted(ratingsDict[keys], key=lambda x: -x[pred_col_name])):\n",
    "                if index+1 <= k:\n",
    "                    recList.append(item['business_id'])\n",
    "                else:\n",
    "                    pass\n",
    "\n",
    "    recommended_set = set(recList)\n",
    "\n",
    "    coverage = (len(recommended_set) / N) * 100\n",
    "    print('Catalog Coverage: {}%'.format(coverage))\n",
    "    return coverage"
   ]
  },
  {
   "cell_type": "code",
   "execution_count": 33,
   "metadata": {},
   "outputs": [],
   "source": [
    "def run_baseline_model(X_data, y_data):\n",
    "    average_user_ratings = find_average_user_ratings(X_data)\n",
    "    average_business_ratings = find_average_business_ratings(X_data)\n",
    "     \n",
    "    baseline_line_predictions_test = predict_learned_bias(y_data, average_user_ratings, average_business_ratings)\n",
    "    \n",
    "    N = len(baseline_line_predictions_test)\n",
    "    baseline_rmse_test = np.sum(np.sqrt(((baseline_line_predictions_test['predicted_rating'] - baseline_line_predictions_test['rating']) / N) ** 2))\n",
    "    \n",
    "    baseline_line_predictions_dict = dict(baseline_line_predictions_test.set_index('user_id').groupby(level = 0).apply(lambda x : x.to_dict(orient= 'records')))\n",
    "    N = len(baseline_line_predictions_test['business_id'].unique())\n",
    "    coverage = calculate_catalog_coverage(baseline_line_predictions_dict, N, k=5)\n",
    "\n",
    "    return baseline_rmse_test, coverage, baseline_line_predictions_test"
   ]
  },
  {
   "cell_type": "code",
   "execution_count": 34,
   "metadata": {},
   "outputs": [
    {
     "name": "stdout",
     "output_type": "stream",
     "text": [
      "Catalog Coverage: 69.65493910690121%\n"
     ]
    }
   ],
   "source": [
    "rmse, coverage, baseline_predictions = run_baseline_model(training_data, testing_data)"
   ]
  },
  {
   "cell_type": "code",
   "execution_count": 35,
   "metadata": {},
   "outputs": [
    {
     "data": {
      "text/plain": [
       "(1.1790384113004118, 69.65493910690121)"
      ]
     },
     "execution_count": 35,
     "metadata": {},
     "output_type": "execute_result"
    }
   ],
   "source": [
    "rmse, coverage "
   ]
  },
  {
   "cell_type": "code",
   "execution_count": 36,
   "metadata": {},
   "outputs": [
    {
     "name": "stdout",
     "output_type": "stream",
     "text": [
      "Catalog Coverage: 75.10193933366484%\n"
     ]
    }
   ],
   "source": [
    "rmse2, coverage2, baseline_predictions2 = run_baseline_model(training_data2, testing_data2)"
   ]
  },
  {
   "cell_type": "code",
   "execution_count": 37,
   "metadata": {},
   "outputs": [
    {
     "data": {
      "text/plain": [
       "(1.084912746514116, 75.10193933366484)"
      ]
     },
     "execution_count": 37,
     "metadata": {},
     "output_type": "execute_result"
    }
   ],
   "source": [
    "rmse2, coverage2"
   ]
  },
  {
   "cell_type": "code",
   "execution_count": 38,
   "metadata": {},
   "outputs": [
    {
     "name": "stdout",
     "output_type": "stream",
     "text": [
      "Catalog Coverage: 80.38108553810855%\n"
     ]
    }
   ],
   "source": [
    "rmse3, coverage3, baseline_predictions3 = run_baseline_model(training_data3, testing_data3)"
   ]
  },
  {
   "cell_type": "code",
   "execution_count": 39,
   "metadata": {},
   "outputs": [
    {
     "data": {
      "text/plain": [
       "(1.0360132065826084, 80.38108553810855)"
      ]
     },
     "execution_count": 39,
     "metadata": {},
     "output_type": "execute_result"
    }
   ],
   "source": [
    "rmse3, coverage3"
   ]
  },
  {
   "cell_type": "markdown",
   "metadata": {},
   "source": [
    "### 3.1.1 Accuracy of Learned Bias Model<a class=\"anchor\" id=\"3-1-1\"></a>\n",
    "\n",
    "We look at RMSE as a measure of accuracy. The first RMSE is for the sample with 1000 users, the second is for 10000 users and the third is when we sampled 50000 users. We can see that as the sample size increased, the RMSE improved (decreased)."
   ]
  },
  {
   "cell_type": "code",
   "execution_count": 40,
   "metadata": {},
   "outputs": [
    {
     "data": {
      "text/plain": [
       "[1.1790384113004118, 1.084912746514116, 1.0360132065826084]"
      ]
     },
     "execution_count": 40,
     "metadata": {},
     "output_type": "execute_result"
    }
   ],
   "source": [
    "baseline_rmses = [rmse, rmse2, rmse3]\n",
    "baseline_rmses"
   ]
  },
  {
   "cell_type": "markdown",
   "metadata": {},
   "source": [
    "### 3.1.2 Coverage of Learned Bias Model<a class=\"anchor\" id=\"3-1-2\"></a>\n",
    "\n",
    "We additionally looked at catalog coverage. The first catalog coverage is for the sample with 1000 users, the second is for 10000 users and the third is when we sampled 50000 users. We can see that as the sample size increased, the catalog coverage improved (increased)."
   ]
  },
  {
   "cell_type": "code",
   "execution_count": 41,
   "metadata": {},
   "outputs": [
    {
     "data": {
      "text/plain": [
       "[69.65493910690121, 75.10193933366484, 80.38108553810855]"
      ]
     },
     "execution_count": 41,
     "metadata": {},
     "output_type": "execute_result"
    }
   ],
   "source": [
    "baseline_coverages = [coverage, coverage2, coverage3]\n",
    "baseline_coverages"
   ]
  },
  {
   "cell_type": "markdown",
   "metadata": {},
   "source": [
    "### 3.2 Baseline Model: Vanilla Matrix Factorization <a class=\"anchor\" id=\"3-2\"></a>"
   ]
  },
  {
   "cell_type": "markdown",
   "metadata": {},
   "source": [
    "As a second baseline model, we used vanilla matrix factorization "
   ]
  },
  {
   "cell_type": "code",
   "execution_count": 42,
   "metadata": {},
   "outputs": [],
   "source": [
    "from pyspark.mllib.recommendation import ALS\n",
    "from pyspark.sql import SparkSession\n",
    "from pyspark.sql import SQLContext\n",
    "from pyspark.ml.tuning import (CrossValidator, ParamGridBuilder)\n",
    "\n",
    "import pyspark.sql.functions as sql_func\n",
    "from pyspark.sql.types import *\n",
    "from pyspark.ml.recommendation import ALS, ALSModel\n",
    "from pyspark.context import SparkContext\n",
    "from pyspark.sql.session import SparkSession\n",
    "from pyspark.mllib.evaluation import RegressionMetrics, RankingMetrics\n",
    "from pyspark.ml.evaluation import RegressionEvaluator, BinaryClassificationEvaluator, MulticlassClassificationEvaluator\n",
    "from pyspark.sql.functions import col\n",
    "\n",
    "# Load ratings data into PySpark dataframe\n",
    "data_schema = StructType([\n",
    "    StructField('numeric_user_id', IntegerType(), False),\n",
    "    StructField('numeric_business_id', IntegerType(), False),\n",
    "    StructField('rating',FloatType(), False)])\n",
    "\n",
    "#Spark Session\n",
    "spark =SparkSession.builder.appName('ALS').getOrCreate()\n",
    "sc = spark.sparkContext\n",
    "sqlContext = SQLContext(sc)\n"
   ]
  },
  {
   "cell_type": "code",
   "execution_count": 43,
   "metadata": {},
   "outputs": [],
   "source": [
    "all_sample_dfs = [active_user_only_ratings_df_sample, active_user_only_ratings_df_sample2, active_user_only_ratings_df_sample3]\n",
    "all_training_dfs = [training_data, training_data2, training_data3]\n",
    "all_testing_dfs = [testing_data, testing_data2, testing_data3]\n",
    "\n",
    "\n",
    "for df in [all_training_dfs, all_testing_dfs]:\n",
    "    for train in df:\n",
    "        numeric_user_id_dict = {key: value + 1 for value, key in enumerate(train['user_id'].unique())}\n",
    "        numeric_business_id_dict = {key: value + 1 for value, key in enumerate(train['business_id'].unique())}\n",
    "\n",
    "        train['numeric_user_id'] = train['user_id'].apply(lambda u: numeric_user_id_dict[u])\n",
    "        train['numeric_business_id'] = train['business_id'].apply(lambda b: numeric_business_id_dict[b])"
   ]
  },
  {
   "cell_type": "code",
   "execution_count": 44,
   "metadata": {},
   "outputs": [],
   "source": [
    "# Create Spark DF from Pandas DF\n",
    "all_sample_spark_dfs_train = []\n",
    "all_sample_spark_dfs_test = []\n",
    "\n",
    "for sample_df in all_training_dfs:\n",
    "    new_sample_df = sample_df[['numeric_user_id', 'numeric_business_id', 'rating']]\n",
    "    spark_sample_df = spark.createDataFrame(new_sample_df, schema=data_schema)\n",
    "    all_sample_spark_dfs_train.append(spark_sample_df)\n",
    "\n",
    "for sample_df in all_testing_dfs:\n",
    "    new_sample_df = sample_df[['numeric_user_id', 'numeric_business_id', 'rating']]\n",
    "    spark_sample_df = spark.createDataFrame(new_sample_df, schema=data_schema)\n",
    "    all_sample_spark_dfs_test.append(spark_sample_df)"
   ]
  },
  {
   "cell_type": "code",
   "execution_count": 45,
   "metadata": {},
   "outputs": [],
   "source": [
    "def plot_rmse_vs_param(cvModels, param_list, xlabel):\n",
    "    plt.figure(figsize=(10, 6))\n",
    "    for cvModel in cvModels: \n",
    "        plt.plot(param_list, cvModel.avgMetrics, marker='o')\n",
    "\n",
    "    plt.xlabel(xlabel)\n",
    "    plt.ylabel('RMSE')\n",
    "    plt.title('RMSE vs {} by Number of Active Users'.format(xlabel))\n",
    "    plt.legend(['{} Active Users'.format(n) for n in sample_sizes])\n",
    "    plt.grid(True)\n",
    "    plt.show()"
   ]
  },
  {
   "cell_type": "markdown",
   "metadata": {},
   "source": [
    "### 3.2.1 Tuning Hyperparameters  <a class=\"anchor\" id=\"3-2-1\"></a>"
   ]
  },
  {
   "cell_type": "markdown",
   "metadata": {},
   "source": [
    "**Regularization Parameter**"
   ]
  },
  {
   "cell_type": "code",
   "execution_count": 46,
   "metadata": {},
   "outputs": [
    {
     "name": "stdout",
     "output_type": "stream",
     "text": [
      "RMSEs (tuning RegParam): [3.182061397411228, 2.0441366702852806, 1.987522157706846]\n",
      "RMSEs (tuning RegParam): [3.8560588923231442, 1.7424215836149237, 1.655989164770081]\n",
      "RMSEs (tuning RegParam): [3.612037802588028, 1.5457387527610602, 1.4780722464985914]\n"
     ]
    }
   ],
   "source": [
    "als = ALS(maxIter=5, userCol=\"numeric_user_id\", itemCol=\"numeric_business_id\", ratingCol=\"rating\",\n",
    "              coldStartStrategy=\"drop\", nonnegative= True)\n",
    "\n",
    "reg_list = [0.001, 0.1, 0.2]\n",
    "paramGrid = ParamGridBuilder().addGrid(als.regParam, reg_list).build()\n",
    "    \n",
    "crossval = CrossValidator(estimator=als,\n",
    "                              estimatorParamMaps=paramGrid,\n",
    "                              evaluator=RegressionEvaluator(metricName=\"rmse\",\n",
    "                                                            labelCol=\"rating\"),\n",
    "                              numFolds=3)\n",
    "\n",
    "cvs = []\n",
    "for i in range(3):\n",
    "    cv = crossval.fit(all_sample_spark_dfs_train[i])\n",
    "    cvs.append(cv)\n",
    "    print('RMSEs (tuning RegParam):', cv.avgMetrics)"
   ]
  },
  {
   "cell_type": "code",
   "execution_count": 47,
   "metadata": {},
   "outputs": [
    {
     "data": {
      "image/png": "[encoded data removed]",
      "text/plain": [
       "<Figure size 720x432 with 1 Axes>"
      ]
     },
     "metadata": {
      "needs_background": "light"
     },
     "output_type": "display_data"
    }
   ],
   "source": [
    "plot_rmse_vs_param(cvs, reg_list, 'RegParam')"
   ]
  },
  {
   "cell_type": "code",
   "execution_count": 48,
   "metadata": {},
   "outputs": [],
   "source": [
    "best_reg = 0.2"
   ]
  },
  {
   "cell_type": "markdown",
   "metadata": {},
   "source": [
    "**Rank**"
   ]
  },
  {
   "cell_type": "code",
   "execution_count": 49,
   "metadata": {},
   "outputs": [
    {
     "name": "stdout",
     "output_type": "stream",
     "text": [
      "RMSEs (tuning Rank): [1.9795415279380575, 1.9875221577068463, 2.0196830374919377] Time:  54.69717979431152\n",
      "RMSEs (tuning Rank): [1.6467891256719405, 1.655989164770081, 1.654779850719891] Time:  134.6790840625763\n",
      "RMSEs (tuning Rank): [1.4729708803070627, 1.4780722464985914, 1.4775676566107976] Time:  229.45668387413025\n"
     ]
    }
   ],
   "source": [
    "import time\n",
    "\n",
    "als = ALS(regParam=best_reg, maxIter=5, userCol=\"numeric_user_id\", itemCol=\"numeric_business_id\", ratingCol=\"rating\",\n",
    "          coldStartStrategy=\"drop\", nonnegative= True)\n",
    "\n",
    "rank_list = [5, 10, 20]\n",
    "paramGrid = ParamGridBuilder().addGrid(als.rank, rank_list).build()\n",
    "crossval_rank = CrossValidator(estimator=als,\n",
    "                          estimatorParamMaps=paramGrid,\n",
    "                          evaluator=RegressionEvaluator(metricName=\"rmse\",\n",
    "                                                        labelCol=\"rating\"),\n",
    "                          numFolds=3)\n",
    "\n",
    "cv_ranks = []\n",
    "for i in range(3):\n",
    "    start = time.time()\n",
    "    cv_rank = crossval_rank.fit(all_sample_spark_dfs_train[i])\n",
    "    cv_ranks.append(cv_rank)\n",
    "    end = time.time()\n",
    "    print('RMSEs (tuning Rank):', cv_rank.avgMetrics, 'Time: ', end - start)"
   ]
  },
  {
   "cell_type": "code",
   "execution_count": 50,
   "metadata": {},
   "outputs": [
    {
     "data": {
      "image/png": "[encoded data removed]",
      "text/plain": [
       "<Figure size 720x432 with 1 Axes>"
      ]
     },
     "metadata": {
      "needs_background": "light"
     },
     "output_type": "display_data"
    }
   ],
   "source": [
    "plot_rmse_vs_param(cv_ranks, reg_list, 'Rank')"
   ]
  },
  {
   "cell_type": "code",
   "execution_count": 51,
   "metadata": {},
   "outputs": [],
   "source": [
    "best_rank = 20"
   ]
  },
  {
   "cell_type": "code",
   "execution_count": 52,
   "metadata": {},
   "outputs": [],
   "source": [
    "# Final model\n",
    "als = ALS(regParam=best_reg, rank=best_rank, maxIter=5, userCol=\"numeric_user_id\", itemCol=\"numeric_business_id\", ratingCol=\"rating\",\n",
    "          coldStartStrategy=\"drop\", nonnegative= True)\n",
    "\n",
    "\n",
    "final_models = []\n",
    "for i in range(3):\n",
    "    final_model = als.fit(all_sample_spark_dfs_train[i])\n",
    "    final_models.append(final_model)"
   ]
  },
  {
   "cell_type": "markdown",
   "metadata": {},
   "source": [
    "### 3.2.2 Accuracy of Vanilla Matrix Factorization  <a class=\"anchor\" id=\"3-2-2\"></a>"
   ]
  },
  {
   "cell_type": "code",
   "execution_count": 53,
   "metadata": {},
   "outputs": [
    {
     "name": "stdout",
     "output_type": "stream",
     "text": [
      "RMSEs (after tuning): 1.888621491292947\n",
      "RMSEs (after tuning): 1.8714080111560851\n",
      "RMSEs (after tuning): 1.7314241587469161\n"
     ]
    }
   ],
   "source": [
    "evaluator = RegressionEvaluator(metricName=\"rmse\", labelCol=\"rating\", predictionCol=\"prediction\")\n",
    "\n",
    "final_rmses = []\n",
    "final_predictions_tests = []\n",
    "for i in range(3):\n",
    "    final_predictions_test = final_model.transform(all_sample_spark_dfs_test[i])\n",
    "    final_predictions_tests.append(final_predictions_test)\n",
    "    \n",
    "    final_rmse = evaluator.evaluate(final_predictions_test)\n",
    "    final_rmses.append(final_rmse)\n",
    "    \n",
    "    print('RMSEs (after tuning):', final_rmse)"
   ]
  },
  {
   "cell_type": "code",
   "execution_count": 54,
   "metadata": {},
   "outputs": [],
   "source": [
    "baseline_MF_rmses = final_rmses"
   ]
  },
  {
   "cell_type": "markdown",
   "metadata": {},
   "source": [
    "### 3.2.3 Coverage of Vanilla Matrix Factorization  <a class=\"anchor\" id=\"3-2-3\"></a>"
   ]
  },
  {
   "cell_type": "code",
   "execution_count": 55,
   "metadata": {},
   "outputs": [
    {
     "name": "stdout",
     "output_type": "stream",
     "text": [
      "Catalog Coverage: 59.67523680649527%\n",
      "Catalog Coverage: 66.9617105917454%\n",
      "Catalog Coverage: 73.29174732917473%\n"
     ]
    }
   ],
   "source": [
    "als_catalog_coverages = []\n",
    "for spark_test_df in final_predictions_tests:\n",
    "    pandas_test_df = spark_test_df.toPandas()\n",
    "    pandas_test_df.rename(columns={\"numeric_user_id\": \"user_id\", 'numeric_business_id': 'business_id'}, inplace=True)\n",
    "    pandas_test_df.sort_values(by=['user_id', 'rating'])\n",
    "    ratings_dictionary = dict(pandas_test_df.set_index('user_id').groupby(level = 0).apply(lambda x : x.to_dict(orient= 'records')))\n",
    "    N = len(pandas_test_df['business_id'].unique())    \n",
    "    als_catalog_coverages.append(calculate_catalog_coverage(ratings_dictionary, N, pred_col_name='prediction'))\n",
    "    "
   ]
  },
  {
   "cell_type": "markdown",
   "metadata": {},
   "source": [
    "## 3.3 SVD and Nonnegative Matrix Factorization <a class=\"anchor\" id=\"3-3\"></a>"
   ]
  },
  {
   "cell_type": "code",
   "execution_count": 56,
   "metadata": {},
   "outputs": [],
   "source": [
    "from surprise import SVD\n",
    "from surprise import SVDpp\n",
    "from surprise import NMF\n",
    "from surprise.model_selection.validation import cross_validate\n",
    "from surprise import Dataset\n",
    "from surprise import accuracy\n",
    "from surprise.model_selection import train_test_split as s_train_test_split\n",
    "from surprise.model_selection import KFold\n",
    "from surprise import Reader"
   ]
  },
  {
   "cell_type": "code",
   "execution_count": 57,
   "metadata": {},
   "outputs": [],
   "source": [
    "def create_result_df(predictions):\n",
    "    predictions_list = []\n",
    "    for i in range(len(predictions)):\n",
    "        predictions_list.append(list(predictions[i][:-1]))\n",
    "        \n",
    "    return pd.DataFrame(predictions_list, columns = ['user_id', 'business_id', 'rating', 'predicted'])"
   ]
  },
  {
   "cell_type": "code",
   "execution_count": 58,
   "metadata": {},
   "outputs": [
    {
     "name": "stdout",
     "output_type": "stream",
     "text": [
      "RMSE: 1.3300\n",
      "test_rmse     1.376487\n",
      "train_rmse    0.927012\n",
      "fit_time      0.167469\n",
      "test_time     0.009678\n",
      "dtype: float64\n",
      "Catalog Coverage: 70.09472259810555%\n",
      "RMSE: 1.4679\n",
      "test_rmse     1.439888\n",
      "train_rmse    0.231915\n",
      "fit_time      0.369497\n",
      "test_time     0.008066\n",
      "dtype: float64\n",
      "Catalog Coverage: 69.89174560216509%\n",
      "RMSE: 1.2969\n",
      "test_rmse     1.360029\n",
      "train_rmse    0.916481\n",
      "fit_time      1.425921\n",
      "test_time     0.074692\n",
      "dtype: float64\n",
      "Catalog Coverage: 75.05718547986076%\n",
      "RMSE: 1.4579\n",
      "test_rmse     1.491098\n",
      "train_rmse    0.218256\n",
      "fit_time      3.049628\n",
      "test_time     0.067269\n",
      "dtype: float64\n",
      "Catalog Coverage: 75.61909497762306%\n",
      "RMSE: 1.2699\n",
      "test_rmse     1.334221\n",
      "train_rmse    0.908531\n",
      "fit_time      7.496847\n",
      "test_time     0.511887\n",
      "dtype: float64\n",
      "Catalog Coverage: 79.4507779450778%\n",
      "RMSE: 1.4108\n",
      "test_rmse      1.516199\n",
      "train_rmse     0.197688\n",
      "fit_time      14.670921\n",
      "test_time      0.371674\n",
      "dtype: float64\n",
      "Catalog Coverage: 80.2753280275328%\n"
     ]
    }
   ],
   "source": [
    "all_mf_prediction_dfs = []\n",
    "all_benchmark_dfs = []\n",
    "\n",
    "mf_algo_dict = {'SVD': 0, 'NMF': 1, 'SVD++': 2}\n",
    "all_mf_coverages = {mf_algo_dict['SVD']: [], mf_algo_dict['NMF']: [], mf_algo_dict['SVD++']: []}\n",
    "all_mf_rmses = {mf_algo_dict['SVD']: [], mf_algo_dict['NMF']: [], mf_algo_dict['SVD++']: []}\n",
    "\n",
    "MF_algorithms = [SVD(), NMF()]\n",
    "# MF_algorithms = [SVD(), NMF(), SVDpp()]\n",
    "\n",
    "\n",
    "for i in range(len(all_training_samples)):\n",
    "    training_sample = all_training_samples[i]\n",
    "    testing_sample = all_testing_samples[i]\n",
    "    \n",
    "    reader = Reader(rating_scale=(1.0, 5.0))\n",
    "    \n",
    "    train_df = Dataset.load_from_df(training_sample[['user_id', 'business_id', 'rating']], reader)\n",
    "    test_df = Dataset.load_from_df(testing_sample[['user_id', 'business_id', 'rating']], reader)\n",
    "\n",
    "    benchmark = []\n",
    "    prediction_dfs = []\n",
    "\n",
    "    for j in range(len(MF_algorithms)):\n",
    "        algorithm = MF_algorithms[j]\n",
    "        # cross validation\n",
    "        # measures available: RMSE, MAE\n",
    "        # cv: determines how the train & test is split: 3-fold \n",
    "        # If verbose = True: accuracy measures for each split are printed, as well as train and test times\n",
    "        results = cross_validate(algorithm, test_df, measures=['RMSE'], cv=3, return_train_measures=True,verbose=False)\n",
    "        algorithm.fit(train_df.build_full_trainset())\n",
    "        predictions_test = algorithm.test(test_df.build_full_trainset().build_testset())\n",
    "        rmse = accuracy.rmse(predictions_test)\n",
    "        \n",
    "        # save predictions \n",
    "        prediction_df = create_result_df(predictions_test)\n",
    "        prediction_dfs.append(prediction_df)\n",
    "        all_mf_prediction_dfs.append(prediction_dfs)\n",
    "\n",
    "        # Get results & algorithm\n",
    "        tmp = pd.DataFrame.from_dict(results).mean(axis=0) #test_rmse, fit_time, test_time    \n",
    "        print(tmp)\n",
    "        tmp = tmp.append(pd.Series([str(algorithm).split(' ')[0].split('.')[-1]], index=['Algorithm']))\n",
    "        benchmark.append(tmp)\n",
    "\n",
    "        # save rmses\n",
    "        all_mf_rmses[j].append(rmse)\n",
    "        \n",
    "        # save coverages\n",
    "        predictions_dict = dict(prediction_df.set_index('user_id').groupby(level = 0).apply(lambda x : x.to_dict(orient= 'records')))\n",
    "        N = len(prediction_df['business_id'].unique())\n",
    "        coverage = calculate_catalog_coverage(predictions_dict, N, k=5, pred_col_name='predicted')\n",
    "        all_mf_coverages[j].append(coverage)\n",
    "\n",
    "    # save RMSEs\n",
    "    benchmark_df = pd.DataFrame(benchmark).set_index('Algorithm').sort_values('test_rmse')  \n",
    "    all_benchmark_dfs.append(benchmark_df)\n",
    "\n",
    "    "
   ]
  },
  {
   "cell_type": "code",
   "execution_count": 59,
   "metadata": {},
   "outputs": [
    {
     "data": {
      "text/plain": [
       "{0: [1.3300349516841978, 1.2968613438218224, 1.269869370220067],\n",
       " 1: [1.4678744693057757, 1.4579039995055583, 1.410763512160192],\n",
       " 2: []}"
      ]
     },
     "execution_count": 59,
     "metadata": {},
     "output_type": "execute_result"
    }
   ],
   "source": [
    "all_mf_rmses"
   ]
  },
  {
   "cell_type": "code",
   "execution_count": 60,
   "metadata": {},
   "outputs": [
    {
     "data": {
      "text/plain": [
       "{0: [70.09472259810555, 75.05718547986076, 79.4507779450778],\n",
       " 1: [69.89174560216509, 75.61909497762306, 80.2753280275328],\n",
       " 2: []}"
      ]
     },
     "execution_count": 60,
     "metadata": {},
     "output_type": "execute_result"
    }
   ],
   "source": [
    "all_mf_coverages"
   ]
  },
  {
   "cell_type": "markdown",
   "metadata": {},
   "source": [
    "## 3.4 Wide and Deep Model <a class=\"anchor\" id=\"3-4\"></a>"
   ]
  },
  {
   "cell_type": "markdown",
   "metadata": {},
   "source": [
    "In this model a wide linear model and deep neural network are jointly trained to combine the benefits of memorization and generalization for recommender systems. Wide linear models can effectively memorize sparse feature interactions using cross-product feature transformations, while deep neural networks can generalize previously unseen feature interactions through low-dimensional embeddings."
   ]
  },
  {
   "cell_type": "markdown",
   "metadata": {},
   "source": [
    "### 3.4.1 Feature Selection <a class=\"anchor\" id=\"3-4-1\"></a>\n",
    "\n",
    "A set of relevant features are selected from the original dataset to be used for training the model. We notice that the dataset is highly imbalanced hence we perform oversampling ( Up-sampling) to create a balanced dataset for the traning data only."
   ]
  },
  {
   "cell_type": "code",
   "execution_count": 61,
   "metadata": {},
   "outputs": [],
   "source": [
    "def create_features(active_user_only_ratings_df_sample):\n",
    "    base_df = active_user_only_ratings_df_sample\n",
    "\n",
    "    #sparse alert - hopefully with bigger dataset, we will see some weird ratings..\n",
    "    real_average = base_df[['business_id','rating']].groupby('business_id').mean().reset_index()\n",
    "    real_average.rename(columns={\"rating\": \"average_business_rating\"}, inplace=True)\n",
    "\n",
    "    #Average ratings for business added\n",
    "    base_df = base_df.merge(real_average, how='left', on='business_id')\n",
    "\n",
    "    #one-hot encoding for top5 categories\n",
    "    catList = []\n",
    "    businesses['categories'].fillna(value='',inplace=True)\n",
    "    businesses['cat'] = businesses['categories'].apply(lambda x: x.split(','))\n",
    "    catList.extend(businesses['cat'])\n",
    "    merged = [x.strip() for x in list(itertools.chain(*catList))]\n",
    "\n",
    "    #Adding state, review_count, is_open\n",
    "    base_df = base_df.merge(businesses[['business_id','state','city', 'latitude', 'longitude','review_count','is_open', 'hours', 'cat']], on='business_id')\n",
    "    base_df.rename(columns={\"review_count\": \"business_review_count\"}, inplace=True)\n",
    "\n",
    "    #getting top 5 common categories items\n",
    "    top5List = [x for x in list(itertools.chain(*Counter(merged).most_common(5))) if type(x) != int]\n",
    "\n",
    "    #one-hot encoding if the business in top 5 common category\n",
    "    for item in top5List:\n",
    "        base_df[item] = base_df['cat'].apply(lambda categories: 'Y' if bool(set([y.strip() for y in categories]).intersection([item])) else 'N')\n",
    "        #base_df[item] = base_df['cat'].apply(lambda categories: 'Y' if bool(set([y.strip() for y in categories]).intersection(set(item))) else 'N')\n",
    "\n",
    "    # is_open (categorical) change from 1 and 0 to Y and N\n",
    "    base_df['is_open'] = base_df['is_open'].apply(lambda x: 'Y' if x else 'N')\n",
    "\n",
    "    # hours: how many days per week it's open\n",
    "    base_df['hours'] = base_df['hours'].apply(lambda x: len(x.keys()) if x else 0)\n",
    "    base_df.rename(columns={\"hours\": \"days_per_week_open\"}, inplace=True)\n",
    "\n",
    "    # user information\n",
    "    base_df = base_df.merge(users[['user_id', 'average_stars', 'review_count', 'friends']],  on='user_id')\n",
    "\n",
    "    # number_of_friends\n",
    "    base_df['friends'] = base_df['friends'].apply(lambda x: len(x.split(',')))\n",
    "    base_df.rename(columns={\"friends\": \"number_of_friends\", \"review_count\": \"user_review_count\", \"average_stars\": \"average_user_rating\"}, inplace=True)\n",
    "\n",
    "    #number of tips for popularity measure of business\n",
    "    business_numberOfTips = tips[['business_id','user_id']].groupby('business_id').count().reset_index()\n",
    "    business_numberOfTips.rename(columns={\"user_id\": \"business_numberOfTips\"}, inplace=True)\n",
    "    base_df = base_df.merge(business_numberOfTips, on='business_id')\n",
    "\n",
    "    #number of photo for popularity measure of business\n",
    "    business_numberOfPhotos = photos[['business_id','photo_id']].groupby('business_id').count().reset_index()\n",
    "    business_numberOfPhotos.rename(columns={\"photo_id\": \"business_numberOfPhotos\"}, inplace=True)\n",
    "    base_df = base_df.merge(business_numberOfPhotos, on='business_id')\n",
    "    \n",
    "    return base_df"
   ]
  },
  {
   "cell_type": "code",
   "execution_count": 62,
   "metadata": {},
   "outputs": [],
   "source": [
    "training_features = create_features(training_data)\n",
    "testing_features = create_features(testing_data)"
   ]
  },
  {
   "cell_type": "code",
   "execution_count": 63,
   "metadata": {},
   "outputs": [],
   "source": [
    "training_features2 = create_features(training_data2)\n",
    "testing_features2 = create_features(testing_data2)"
   ]
  },
  {
   "cell_type": "code",
   "execution_count": 64,
   "metadata": {},
   "outputs": [],
   "source": [
    "training_features3 = create_features(training_data3)\n",
    "testing_features3 = create_features(testing_data3)"
   ]
  },
  {
   "cell_type": "code",
   "execution_count": 65,
   "metadata": {},
   "outputs": [
    {
     "data": {
      "text/plain": [
       "Index(['user_id', 'business_id', 'rating', 'date', 'numeric_user_id',\n",
       "       'numeric_business_id', 'average_business_rating', 'state', 'city',\n",
       "       'latitude', 'longitude', 'business_review_count', 'is_open',\n",
       "       'days_per_week_open', 'cat', 'Restaurants', 'Shopping', 'Food',\n",
       "       'Home Services', 'Beauty & Spas', 'average_user_rating',\n",
       "       'user_review_count', 'number_of_friends', 'business_numberOfTips',\n",
       "       'business_numberOfPhotos'],\n",
       "      dtype='object')"
      ]
     },
     "execution_count": 65,
     "metadata": {},
     "output_type": "execute_result"
    }
   ],
   "source": [
    "training_features3.columns"
   ]
  },
  {
   "cell_type": "code",
   "execution_count": 66,
   "metadata": {},
   "outputs": [],
   "source": [
    "train_nn = training_features3[['user_id','business_id','average_business_rating','state','city','latitude','longitude',\n",
    "                           'business_review_count','days_per_week_open','Restaurants','Shopping','Food','Home Services',\n",
    "                            'Beauty & Spas','average_user_rating','user_review_count','business_numberOfPhotos', 'rating']]\n",
    "\n",
    "train_nn= train_nn.rename(columns= {'Home Services': 'Home_Services', 'Beauty & Spas': 'Beauty_and_Spas'})"
   ]
  },
  {
   "cell_type": "code",
   "execution_count": 67,
   "metadata": {},
   "outputs": [],
   "source": [
    "labels = train_nn.pop('rating')"
   ]
  },
  {
   "cell_type": "code",
   "execution_count": 68,
   "metadata": {},
   "outputs": [],
   "source": [
    "class1 = np.where(labels==1)[0]\n",
    "class2= np.where(labels==2)[0]\n",
    "class3 = np.where(labels==3)[0]\n",
    "class4= np.where(labels==4)[0]\n",
    "class5 = np.where(labels==5)[0]\n",
    "\n",
    "class1_upsampled = np.random.choice(class1, size = 100000, replace= True)\n",
    "class2_upsampled = np.random.choice(class2, size = 100000, replace= True)\n",
    "class3_upsampled = np.random.choice(class3, size = 100000, replace= True)\n",
    "class4_upsampled = np.random.choice(class4, size = 100000, replace= True)\n",
    "\n",
    "train_nn_1 = train_nn.iloc[class1_upsampled]\n",
    "train_nn_2 = train_nn.iloc[class2_upsampled]\n",
    "train_nn_3 = train_nn.iloc[class3_upsampled]\n",
    "train_nn_4 = train_nn.iloc[class4_upsampled]\n",
    "train_nn_5 = train_nn.iloc[class5]\n",
    "\n",
    "labels_1 = labels.iloc[class1_upsampled]\n",
    "labels_2 = labels.iloc[class2_upsampled]\n",
    "labels_3 = labels.iloc[class3_upsampled]\n",
    "labels_4 = labels.iloc[class4_upsampled]\n",
    "labels_5 = labels.iloc[class5]\n",
    "\n",
    "train_nn_balanced = train_nn_1\n",
    "train_nn_balanced = train_nn_balanced.append(train_nn_2, ignore_index = True)\n",
    "train_nn_balanced= train_nn_balanced.append(train_nn_3, ignore_index = True)\n",
    "train_nn_balanced= train_nn_balanced.append(train_nn_4, ignore_index = True)\n",
    "train_nn_balanced= train_nn_balanced.append(train_nn_5, ignore_index = True)\n",
    "\n",
    "labels_balanced = labels_1\n",
    "labels_balanced = labels_balanced.append(labels_2, ignore_index = True)\n",
    "labels_balanced = labels_balanced.append(labels_3, ignore_index = True)\n",
    "labels_balanced = labels_balanced.append(labels_4, ignore_index = True)\n",
    "labels_balanced = labels_balanced.append(labels_5, ignore_index = True)"
   ]
  },
  {
   "cell_type": "code",
   "execution_count": 69,
   "metadata": {},
   "outputs": [],
   "source": [
    "assert len(train_nn_balanced) == len(labels_balanced)"
   ]
  },
  {
   "cell_type": "code",
   "execution_count": 70,
   "metadata": {},
   "outputs": [
    {
     "data": {
      "text/html": [
       "<div>\n",
       "<style scoped>\n",
       "    .dataframe tbody tr th:only-of-type {\n",
       "        vertical-align: middle;\n",
       "    }\n",
       "\n",
       "    .dataframe tbody tr th {\n",
       "        vertical-align: top;\n",
       "    }\n",
       "\n",
       "    .dataframe thead th {\n",
       "        text-align: right;\n",
       "    }\n",
       "</style>\n",
       "<table border=\"1\" class=\"dataframe\">\n",
       "  <thead>\n",
       "    <tr style=\"text-align: right;\">\n",
       "      <th></th>\n",
       "      <th>user_id</th>\n",
       "      <th>business_id</th>\n",
       "      <th>average_business_rating</th>\n",
       "      <th>state</th>\n",
       "      <th>city</th>\n",
       "      <th>latitude</th>\n",
       "      <th>longitude</th>\n",
       "      <th>business_review_count</th>\n",
       "      <th>days_per_week_open</th>\n",
       "      <th>Restaurants</th>\n",
       "      <th>Shopping</th>\n",
       "      <th>Food</th>\n",
       "      <th>Home_Services</th>\n",
       "      <th>Beauty_and_Spas</th>\n",
       "      <th>average_user_rating</th>\n",
       "      <th>user_review_count</th>\n",
       "      <th>business_numberOfPhotos</th>\n",
       "    </tr>\n",
       "  </thead>\n",
       "  <tbody>\n",
       "    <tr>\n",
       "      <th>0</th>\n",
       "      <td>9MAN39lsFciXRLMZ0_jDYQ</td>\n",
       "      <td>fgrMJzwI-AcdvhNZgFCgvw</td>\n",
       "      <td>3.200</td>\n",
       "      <td>NV</td>\n",
       "      <td>Henderson</td>\n",
       "      <td>36.063284</td>\n",
       "      <td>-115.046862</td>\n",
       "      <td>68</td>\n",
       "      <td>7</td>\n",
       "      <td>Y</td>\n",
       "      <td>N</td>\n",
       "      <td>N</td>\n",
       "      <td>N</td>\n",
       "      <td>N</td>\n",
       "      <td>2.00</td>\n",
       "      <td>5</td>\n",
       "      <td>2</td>\n",
       "    </tr>\n",
       "    <tr>\n",
       "      <th>1</th>\n",
       "      <td>X6RLuqHTInbdfhke6yC0TQ</td>\n",
       "      <td>WKs7BvLVGrXbjVbzHey6kw</td>\n",
       "      <td>2.900</td>\n",
       "      <td>NV</td>\n",
       "      <td>North Las Vegas</td>\n",
       "      <td>36.240446</td>\n",
       "      <td>-115.116300</td>\n",
       "      <td>139</td>\n",
       "      <td>6</td>\n",
       "      <td>Y</td>\n",
       "      <td>N</td>\n",
       "      <td>N</td>\n",
       "      <td>N</td>\n",
       "      <td>N</td>\n",
       "      <td>2.70</td>\n",
       "      <td>9</td>\n",
       "      <td>5</td>\n",
       "    </tr>\n",
       "    <tr>\n",
       "      <th>2</th>\n",
       "      <td>ScwVhHmUFLZwVW9E5fvKjw</td>\n",
       "      <td>OPSNdO3LNPMt7qz1MNb42g</td>\n",
       "      <td>3.520</td>\n",
       "      <td>NV</td>\n",
       "      <td>Las Vegas</td>\n",
       "      <td>36.118909</td>\n",
       "      <td>-115.154332</td>\n",
       "      <td>681</td>\n",
       "      <td>0</td>\n",
       "      <td>Y</td>\n",
       "      <td>N</td>\n",
       "      <td>Y</td>\n",
       "      <td>N</td>\n",
       "      <td>N</td>\n",
       "      <td>3.55</td>\n",
       "      <td>72</td>\n",
       "      <td>38</td>\n",
       "    </tr>\n",
       "    <tr>\n",
       "      <th>3</th>\n",
       "      <td>_ZPWsEDaH5492T5YQ0eGXA</td>\n",
       "      <td>8QYOnNLFTrpfPip44eMheg</td>\n",
       "      <td>3.650</td>\n",
       "      <td>AZ</td>\n",
       "      <td>Gilbert</td>\n",
       "      <td>33.334549</td>\n",
       "      <td>-111.804860</td>\n",
       "      <td>146</td>\n",
       "      <td>7</td>\n",
       "      <td>Y</td>\n",
       "      <td>N</td>\n",
       "      <td>N</td>\n",
       "      <td>N</td>\n",
       "      <td>N</td>\n",
       "      <td>4.11</td>\n",
       "      <td>43</td>\n",
       "      <td>1</td>\n",
       "    </tr>\n",
       "    <tr>\n",
       "      <th>4</th>\n",
       "      <td>HVOA8lVvoZBUibJe743uQQ</td>\n",
       "      <td>7ibuDLfx8gEhESAufYIySw</td>\n",
       "      <td>3.872</td>\n",
       "      <td>NV</td>\n",
       "      <td>Las Vegas</td>\n",
       "      <td>36.011732</td>\n",
       "      <td>-115.135982</td>\n",
       "      <td>1051</td>\n",
       "      <td>7</td>\n",
       "      <td>Y</td>\n",
       "      <td>N</td>\n",
       "      <td>N</td>\n",
       "      <td>N</td>\n",
       "      <td>N</td>\n",
       "      <td>4.13</td>\n",
       "      <td>66</td>\n",
       "      <td>39</td>\n",
       "    </tr>\n",
       "  </tbody>\n",
       "</table>\n",
       "</div>"
      ],
      "text/plain": [
       "                  user_id             business_id  average_business_rating  \\\n",
       "0  9MAN39lsFciXRLMZ0_jDYQ  fgrMJzwI-AcdvhNZgFCgvw                    3.200   \n",
       "1  X6RLuqHTInbdfhke6yC0TQ  WKs7BvLVGrXbjVbzHey6kw                    2.900   \n",
       "2  ScwVhHmUFLZwVW9E5fvKjw  OPSNdO3LNPMt7qz1MNb42g                    3.520   \n",
       "3  _ZPWsEDaH5492T5YQ0eGXA  8QYOnNLFTrpfPip44eMheg                    3.650   \n",
       "4  HVOA8lVvoZBUibJe743uQQ  7ibuDLfx8gEhESAufYIySw                    3.872   \n",
       "\n",
       "  state             city   latitude   longitude  business_review_count  \\\n",
       "0    NV        Henderson  36.063284 -115.046862                     68   \n",
       "1    NV  North Las Vegas  36.240446 -115.116300                    139   \n",
       "2    NV        Las Vegas  36.118909 -115.154332                    681   \n",
       "3    AZ          Gilbert  33.334549 -111.804860                    146   \n",
       "4    NV        Las Vegas  36.011732 -115.135982                   1051   \n",
       "\n",
       "   days_per_week_open Restaurants Shopping Food Home_Services Beauty_and_Spas  \\\n",
       "0                   7           Y        N    N             N               N   \n",
       "1                   6           Y        N    N             N               N   \n",
       "2                   0           Y        N    Y             N               N   \n",
       "3                   7           Y        N    N             N               N   \n",
       "4                   7           Y        N    N             N               N   \n",
       "\n",
       "   average_user_rating  user_review_count  business_numberOfPhotos  \n",
       "0                 2.00                  5                        2  \n",
       "1                 2.70                  9                        5  \n",
       "2                 3.55                 72                       38  \n",
       "3                 4.11                 43                        1  \n",
       "4                 4.13                 66                       39  "
      ]
     },
     "execution_count": 70,
     "metadata": {},
     "output_type": "execute_result"
    }
   ],
   "source": [
    "train_nn = train_nn_balanced\n",
    "labels = labels_balanced\n",
    "\n",
    "train_nn.head()"
   ]
  },
  {
   "cell_type": "code",
   "execution_count": 71,
   "metadata": {},
   "outputs": [],
   "source": [
    "labels = labels.apply(lambda x: int(x)-1)\n",
    "test_nn = testing_features3[['user_id','business_id','average_business_rating','state','city','latitude','longitude',\n",
    "                           'business_review_count','days_per_week_open','Restaurants','Shopping','Food','Home Services',\n",
    "                            'Beauty & Spas','average_user_rating','user_review_count','business_numberOfPhotos', 'rating']]\n",
    "\n",
    "test_nn= test_nn.rename(columns= {'Home Services': 'Home_Services', 'Beauty & Spas': 'Beauty_and_Spas'})\n",
    "test_nn['rating']= test_nn['rating'].apply(lambda x: int(x)-1)\n",
    "test_labels = test_nn.pop('rating')"
   ]
  },
  {
   "cell_type": "markdown",
   "metadata": {},
   "source": [
    "### 3.4.2 Feature Engineering  <a class=\"anchor\" id=\"3-4-2\"></a>\n",
    "\n",
    "For the wide component the feature set includes raw input features and transformed features. The sparse features are one hot encoded and cross product transformation was implemented on certain features. This captures the interaction between binary features and adds non-linearity to the generalized linear model.\n",
    "\n",
    "For the deep component each of the sparse high dimensional categorical features are first converted into low dimensional and dense real valued vector with the help of embeddings.\n"
   ]
  },
  {
   "cell_type": "code",
   "execution_count": 130,
   "metadata": {},
   "outputs": [],
   "source": [
    "import tensorflow as tf\n",
    "tf.get_logger().setLevel('ERROR')\n",
    "from tensorflow import feature_column\n",
    "from tensorflow.keras import layers"
   ]
  },
  {
   "cell_type": "code",
   "execution_count": 116,
   "metadata": {},
   "outputs": [],
   "source": [
    "numeric_features = ['average_business_rating','business_review_count','average_user_rating',\n",
    "                    'user_review_count', 'days_per_week_open','business_numberOfPhotos','latitude','longitude']\n",
    "cat_features = ['user_id','business_id','state','city','Restaurants','Shopping','Food',\n",
    "                'Home_Services', 'Beauty_and_Spas']\n",
    "\n",
    "#continuous features\n",
    "cont = {\n",
    "        colname : feature_column.numeric_column(colname) for colname in numeric_features\n",
    "}\n",
    "\n",
    "#categorical features\n",
    "cat = {\n",
    "        'user_id' : feature_column.categorical_column_with_hash_bucket('user_id', hash_bucket_size=10000),\n",
    "        'business_id' : feature_column.categorical_column_with_hash_bucket('business_id', hash_bucket_size=10000),\n",
    "        'state' : feature_column.categorical_column_with_hash_bucket('state', hash_bucket_size=1000),\n",
    "        'city' : feature_column.categorical_column_with_hash_bucket('city', hash_bucket_size=1000),\n",
    "        'Restaurants' : feature_column.categorical_column_with_vocabulary_list('Restaurants', ['Y', 'N'], default_value = 0),\n",
    "        'Shopping' : feature_column.categorical_column_with_vocabulary_list('Shopping', ['Y', 'N'], default_value = 0),\n",
    "        'Food' : feature_column.categorical_column_with_vocabulary_list('Food', ['Y', 'N'], default_value = 0),\n",
    "        'Home_Services' : feature_column.categorical_column_with_vocabulary_list('Home_Services', ['Y', 'N'], default_value = 0),\n",
    "        'Beauty_and_Spas' : feature_column.categorical_column_with_vocabulary_list('Beauty_and_Spas', ['Y', 'N'], default_value = 0)\n",
    "}"
   ]
  },
  {
   "cell_type": "code",
   "execution_count": 117,
   "metadata": {},
   "outputs": [],
   "source": [
    "#embed sparse columns for dense layer\n",
    "embed = {\n",
    "       'embed_{}'.format(colname) : tf.feature_column.embedding_column(col, 10)\n",
    "          for colname, col in cat.items()\n",
    "}\n",
    "\n",
    "#columns for dense network\n",
    "dense = cont.copy()\n",
    "dense.update(embed)"
   ]
  },
  {
   "cell_type": "code",
   "execution_count": 118,
   "metadata": {},
   "outputs": [],
   "source": [
    "#one hot encode sparse columns for wide network\n",
    "wide = {\n",
    "    'ohe_{}'.format(colname)  : tf.feature_column.indicator_column(col)\n",
    "          for colname, col in cat.items()\n",
    "}\n",
    "\n",
    "#crossed columns\n",
    "lat_boundary = list(train_nn.latitude.sort_values().unique())\n",
    "long_boundary = list(train_nn.longitude.sort_values().unique())\n",
    "\n",
    "latitude_bucket_fc = feature_column.bucketized_column(cont.get('latitude'), lat_boundary)\n",
    "longitude_bucket_fc = feature_column.bucketized_column(cont.get('longitude'), long_boundary)\n",
    "\n",
    "#crossed_lat_lon = feature_column.crossed_column([latitude_bucket_fc, longitude_bucket_fc], 5000)\n",
    "wide['crossed_lat_lon'] = feature_column.crossed_column([latitude_bucket_fc, longitude_bucket_fc], 5000)\n",
    "#print(wide.keys())"
   ]
  },
  {
   "cell_type": "code",
   "execution_count": 119,
   "metadata": {},
   "outputs": [],
   "source": [
    "def df_to_dataset_train(dataframe, labels,  shuffle = True, batch_size = 32):\n",
    "    ds = tf.data.Dataset.from_tensor_slices((dict(dataframe), labels))\n",
    "    if shuffle:\n",
    "        ds = ds.shuffle(buffer_size=len(dataframe))\n",
    "    ds = ds.batch(batch_size)\n",
    "    return ds\n"
   ]
  },
  {
   "cell_type": "code",
   "execution_count": 120,
   "metadata": {},
   "outputs": [],
   "source": [
    "def df_to_dataset_eval(dataframe, labels, batch_size= 32):\n",
    "    if labels is None:\n",
    "        ds = tf.data.Dataset.from_tensor_slices(dict(dataframe))\n",
    "    else:\n",
    "        ds = tf.data.Dataset.from_tensor_slices((dict(dataframe), labels))\n",
    "    ds = ds.batch(batch_size)\n",
    "    return ds"
   ]
  },
  {
   "cell_type": "code",
   "execution_count": 121,
   "metadata": {},
   "outputs": [
    {
     "data": {
      "text/plain": [
       "['ohe_user_id',\n",
       " 'ohe_business_id',\n",
       " 'ohe_state',\n",
       " 'ohe_city',\n",
       " 'ohe_Restaurants',\n",
       " 'ohe_Shopping',\n",
       " 'ohe_Food',\n",
       " 'ohe_Home_Services',\n",
       " 'ohe_Beauty_and_Spas',\n",
       " 'crossed_lat_lon']"
      ]
     },
     "execution_count": 121,
     "metadata": {},
     "output_type": "execute_result"
    }
   ],
   "source": [
    "list(wide.keys())"
   ]
  },
  {
   "cell_type": "code",
   "execution_count": 122,
   "metadata": {},
   "outputs": [
    {
     "data": {
      "text/plain": [
       "['average_business_rating',\n",
       " 'business_review_count',\n",
       " 'average_user_rating',\n",
       " 'user_review_count',\n",
       " 'days_per_week_open',\n",
       " 'business_numberOfPhotos',\n",
       " 'latitude',\n",
       " 'longitude',\n",
       " 'embed_user_id',\n",
       " 'embed_business_id',\n",
       " 'embed_state',\n",
       " 'embed_city',\n",
       " 'embed_Restaurants',\n",
       " 'embed_Shopping',\n",
       " 'embed_Food',\n",
       " 'embed_Home_Services',\n",
       " 'embed_Beauty_and_Spas']"
      ]
     },
     "execution_count": 122,
     "metadata": {},
     "output_type": "execute_result"
    }
   ],
   "source": [
    "list(dense.keys())"
   ]
  },
  {
   "cell_type": "markdown",
   "metadata": {},
   "source": [
    "### 3.4.3 Modeling <a class=\"anchor\" id=\"3-4-3\"></a>\n",
    "\n",
    "The wide component consists of a generalized linear model and the deep component is a feed forward neural network. The wide and deep component are combined using a weighted sum of their output log odds at the prediction which is then fed into a common logistic loss function during training.\n",
    "\n",
    "Joint training is done by back-propagating the gradients from the output to both wide and deep part of the model using stochastic mini batch descent. The regularizers and optimizer parameters were set to the values used in the paper 'Wide and Deep Learning for Recommender Systems'. The number of hidden units were tuned."
   ]
  },
  {
   "cell_type": "code",
   "execution_count": 131,
   "metadata": {},
   "outputs": [],
   "source": [
    "estimator = tf.estimator.DNNLinearCombinedClassifier(\n",
    "    # wide settings\n",
    "    linear_feature_columns=list(wide.values()),\n",
    "    linear_optimizer='Ftrl',\n",
    "    # deep settings\n",
    "    dnn_feature_columns=list(dense.values()),\n",
    "    dnn_hidden_units=[1000, 500, 100],\n",
    "#     dnn_optimizer=tf.train.ProximalAdagradOptimizer(learning_rate = 0.1),\n",
    "    n_classes = 5)"
   ]
  },
  {
   "cell_type": "code",
   "execution_count": 124,
   "metadata": {},
   "outputs": [],
   "source": [
    "# To apply L1 and L2 regularization, you can set dnn_optimizer to:\n",
    "# tf.train.ProximalAdagradOptimizer(\n",
    "#     learning_rate=0.1,\n",
    "#     l1_regularization_strength=0.001,\n",
    "#     l2_regularization_strength=0.001)\n",
    "\n",
    "# To apply learning rate decay, you can set dnn_optimizer to a callable:\n",
    "# lambda: tf.AdamOptimizer(\n",
    "#     learning_rate=tf.exponential_decay(\n",
    "#         learning_rate=0.1,\n",
    "#         global_step=tf.get_global_step(),\n",
    "#         decay_steps=10000,\n",
    "#         decay_rate=0.96))"
   ]
  },
  {
   "cell_type": "code",
   "execution_count": 82,
   "metadata": {},
   "outputs": [],
   "source": [
    "def input_fn_train():\n",
    "    return df_to_dataset_train(train_nn, labels)"
   ]
  },
  {
   "cell_type": "code",
   "execution_count": 83,
   "metadata": {},
   "outputs": [],
   "source": [
    "def input_fn_eval():\n",
    "    return df_to_dataset_eval(test_nn, test_labels)"
   ]
  },
  {
   "cell_type": "code",
   "execution_count": 84,
   "metadata": {},
   "outputs": [],
   "source": [
    "def input_fn_pred():\n",
    "    return df_to_dataset_eval(test_nn)"
   ]
  },
  {
   "cell_type": "code",
   "execution_count": 132,
   "metadata": {},
   "outputs": [
    {
     "data": {
      "text/plain": [
       "<tensorflow_estimator.python.estimator.canned.dnn_linear_combined.DNNLinearCombinedClassifierV2 at 0x1ae69869b0>"
      ]
     },
     "execution_count": 132,
     "metadata": {},
     "output_type": "execute_result"
    }
   ],
   "source": [
    "estimator.train(input_fn=input_fn_train, steps=100)"
   ]
  },
  {
   "cell_type": "code",
   "execution_count": 133,
   "metadata": {},
   "outputs": [],
   "source": [
    "results = estimator.evaluate(input_fn=input_fn_eval, steps = 100)"
   ]
  },
  {
   "cell_type": "markdown",
   "metadata": {},
   "source": [
    "## 3.4.4 Accuracy <a class=\"anchor\" id=\"3-4-4\"></a>"
   ]
  },
  {
   "cell_type": "markdown",
   "metadata": {},
   "source": [
    "We notice that our model does not outperform the baseline model. This could be due to several reasons. The deep component of the model can be improved in several ways. We can include droput, change the optimizers to find the best parameters that fit our model. The highly imbalanced dataset also affects the accuracy of the test set. Other metrics can be used to better represent the results. "
   ]
  },
  {
   "cell_type": "code",
   "execution_count": 87,
   "metadata": {},
   "outputs": [
    {
     "name": "stdout",
     "output_type": "stream",
     "text": [
      "accuracy: 0.080625\n",
      "average_loss: 11.883461\n",
      "global_step: 100\n",
      "loss: 11.883461\n"
     ]
    }
   ],
   "source": [
    "for key in sorted(results):\n",
    "    print( \"%s: %s\" % (key, results[key]))"
   ]
  },
  {
   "cell_type": "code",
   "execution_count": 134,
   "metadata": {},
   "outputs": [],
   "source": [
    "predictor = estimator.predict( input_fn = input_fn_eval)"
   ]
  },
  {
   "cell_type": "code",
   "execution_count": 135,
   "metadata": {},
   "outputs": [
    {
     "data": {
      "text/plain": [
       "(77191, 77191)"
      ]
     },
     "execution_count": 135,
     "metadata": {},
     "output_type": "execute_result"
    }
   ],
   "source": [
    "pred = list(predictor)\n",
    "len(pred), len(test_labels)"
   ]
  },
  {
   "cell_type": "code",
   "execution_count": 136,
   "metadata": {},
   "outputs": [],
   "source": [
    "prededictions = [val['class_ids'][0] + 1 for val in pred]"
   ]
  },
  {
   "cell_type": "code",
   "execution_count": 137,
   "metadata": {},
   "outputs": [],
   "source": [
    "prededictions_df = test_nn[['user_id', 'business_id']]\n",
    "prededictions_df['rating'] = test_labels + 1\n",
    "prededictions_df['predicted_rating'] = prededictions"
   ]
  },
  {
   "cell_type": "code",
   "execution_count": 138,
   "metadata": {},
   "outputs": [],
   "source": [
    "predictions_size = len(prededictions_df)\n",
    "rmse_wd = (sum( (prededictions_df['rating'] - prededictions_df['predicted_rating']) ** 2 ) / predictions_size) ** 0.5"
   ]
  },
  {
   "cell_type": "code",
   "execution_count": 139,
   "metadata": {},
   "outputs": [
    {
     "data": {
      "text/plain": [
       "2.5971679163331833"
      ]
     },
     "execution_count": 139,
     "metadata": {},
     "output_type": "execute_result"
    }
   ],
   "source": [
    "rmse_wd"
   ]
  },
  {
   "cell_type": "markdown",
   "metadata": {},
   "source": [
    "## 3.4.5 Coverage <a class=\"anchor\" id=\"3-4-5\"></a>"
   ]
  },
  {
   "cell_type": "code",
   "execution_count": 94,
   "metadata": {},
   "outputs": [
    {
     "name": "stdout",
     "output_type": "stream",
     "text": [
      "Catalog Coverage: 87.98264403800736%\n"
     ]
    }
   ],
   "source": [
    "prededictions_wd_dict = dict(prededictions_df.set_index('user_id').groupby(level = 0).apply(lambda x : x.to_dict(orient= 'records')))\n",
    "N = len(prededictions_df['business_id'].unique())\n",
    "coverage_wd = calculate_catalog_coverage(prededictions_wd_dict, N, k=5)"
   ]
  },
  {
   "cell_type": "markdown",
   "metadata": {},
   "source": [
    "# 4. Evaluation <a class=\"anchor\" id=\"4\"></a>"
   ]
  },
  {
   "cell_type": "markdown",
   "metadata": {},
   "source": [
    "## 4.1 Accuracy <a class=\"anchor\" id=\"4-1\"></a>"
   ]
  },
  {
   "cell_type": "code",
   "execution_count": 114,
   "metadata": {},
   "outputs": [
    {
     "data": {
      "image/png": "[encoded data removed]",
      "text/plain": [
       "<Figure size 720x432 with 1 Axes>"
      ]
     },
     "metadata": {
      "needs_background": "light"
     },
     "output_type": "display_data"
    }
   ],
   "source": [
    "LEGEND = ['Baseline Model - Learned Bias', 'Baseline Model - MF', 'SVD', 'NMF', 'Wide and Deep']\n",
    "\n",
    "plt.figure(figsize=(10, 6))\n",
    "\n",
    "plt.plot(sample_sizes, baseline_rmses, marker='o')\n",
    "plt.plot(sample_sizes, baseline_MF_rmses, marker='o')\n",
    "plt.plot(sample_sizes, all_mf_rmses[0], marker='o')\n",
    "plt.plot(sample_sizes, all_mf_rmses[1], marker='o')\n",
    "\n",
    "plt.xlabel('Number of Active Users Sampled')\n",
    "plt.ylabel('RMSE')\n",
    "plt.title('RMSE Test vs Sample Size')\n",
    "plt.legend(LEGEND, loc='upper center', bbox_to_anchor=(1.2, 0.8), ncol=1,fancybox=True, framealpha=0.1)\n",
    "plt.grid(True)\n",
    "plt.show()"
   ]
  },
  {
   "cell_type": "markdown",
   "metadata": {},
   "source": [
    "## 4.2 Coverage <a class=\"anchor\" id=\"4-2\"></a>"
   ]
  },
  {
   "cell_type": "code",
   "execution_count": 108,
   "metadata": {
    "scrolled": true
   },
   "outputs": [
    {
     "data": {
      "image/png": "[encoded data removed]",
      "text/plain": [
       "<Figure size 720x432 with 1 Axes>"
      ]
     },
     "metadata": {
      "needs_background": "light"
     },
     "output_type": "display_data"
    }
   ],
   "source": [
    "plt.figure(figsize=(10, 6))\n",
    "plt.plot(sample_sizes, baseline_coverages, marker='o')\n",
    "plt.plot(sample_sizes, als_catalog_coverages, marker='o')\n",
    "plt.plot(sample_sizes, all_mf_coverages[0], marker='o')\n",
    "plt.plot(sample_sizes, all_mf_coverages[1], marker='o')\n",
    "\n",
    "plt.xlabel('Number of Active Users')\n",
    "plt.ylabel('Catalog Coverage')\n",
    "plt.title('Catalog Coverage Test vs Sample Size')\n",
    "plt.legend(LEGEND)\n",
    "plt.grid(True)\n",
    "plt.show()"
   ]
  },
  {
   "cell_type": "markdown",
   "metadata": {},
   "source": [
    "## 4.3 Hold Out <a class=\"anchor\" id=\"4-3\"></a>"
   ]
  },
  {
   "cell_type": "code",
   "execution_count": 97,
   "metadata": {},
   "outputs": [],
   "source": [
    "def calculate_rmse(df, predicted_col='predicted_rating', rating_col='rating'):\n",
    "    return np.sqrt( sum( (df[predicted_col] - df[rating_col]) ** 2  / len(df) ))"
   ]
  },
  {
   "cell_type": "code",
   "execution_count": 98,
   "metadata": {},
   "outputs": [],
   "source": [
    "bs_hold_outs = baseline_predictions3.sort_values(by=['user_id']).groupby('user_id').apply(lambda x: x[-1:]).reset_index(drop=True)\n",
    "rmse_bs_hold_out = calculate_rmse(bs_hold_outs)\n",
    "\n",
    "als_predicted = final_predictions_tests[-1].toPandas()\n",
    "als_hold_outs = als_predicted.sort_values(by=['numeric_user_id']).groupby('numeric_user_id').apply(lambda x: x[-1:]).reset_index(drop=True)\n",
    "rmse_als_hold_out = calculate_rmse(als_hold_outs, predicted_col='prediction', rating_col='rating')\n",
    "\n",
    "svd_hold_outs = prediction_dfs[0].sort_values(by=['user_id']).groupby('user_id').apply(lambda x: x[-1:]).reset_index(drop=True)\n",
    "rmse_svd_hold_out = calculate_rmse(svd_hold_outs, predicted_col='predicted', rating_col='rating')\n",
    "\n",
    "nmf_hold_outs = prediction_dfs[1].sort_values(by=['user_id']).groupby('user_id').apply(lambda x: x[-1:]).reset_index(drop=True)\n",
    "rmse_nmf_hold_out = calculate_rmse(nmf_hold_outs, predicted_col='predicted', rating_col='rating')\n",
    "\n",
    "wd_hold_outs = prededictions_df.sort_values(by=['user_id']).groupby('user_id').apply(lambda x: x[-1:]).reset_index(drop=True)\n",
    "rmse_wd_hold_out = calculate_rmse(wd_hold_outs)"
   ]
  },
  {
   "cell_type": "code",
   "execution_count": 99,
   "metadata": {},
   "outputs": [
    {
     "data": {
      "text/html": [
       "<div>\n",
       "<style scoped>\n",
       "    .dataframe tbody tr th:only-of-type {\n",
       "        vertical-align: middle;\n",
       "    }\n",
       "\n",
       "    .dataframe tbody tr th {\n",
       "        vertical-align: top;\n",
       "    }\n",
       "\n",
       "    .dataframe thead th {\n",
       "        text-align: right;\n",
       "    }\n",
       "</style>\n",
       "<table border=\"1\" class=\"dataframe\">\n",
       "  <thead>\n",
       "    <tr style=\"text-align: right;\">\n",
       "      <th></th>\n",
       "      <th>Baseline Model - Learned Bias</th>\n",
       "      <th>Baseline Model - MF</th>\n",
       "      <th>SVD</th>\n",
       "      <th>NMF</th>\n",
       "      <th>Wide and Deep</th>\n",
       "    </tr>\n",
       "  </thead>\n",
       "  <tbody>\n",
       "    <tr>\n",
       "      <th>RMSE</th>\n",
       "      <td>1.368302</td>\n",
       "      <td>1.848548</td>\n",
       "      <td>1.365759</td>\n",
       "      <td>1.519074</td>\n",
       "      <td>2.411925</td>\n",
       "    </tr>\n",
       "  </tbody>\n",
       "</table>\n",
       "</div>"
      ],
      "text/plain": [
       "      Baseline Model - Learned Bias  Baseline Model - MF       SVD       NMF  \\\n",
       "RMSE                       1.368302             1.848548  1.365759  1.519074   \n",
       "\n",
       "      Wide and Deep  \n",
       "RMSE       2.411925  "
      ]
     },
     "execution_count": 99,
     "metadata": {},
     "output_type": "execute_result"
    }
   ],
   "source": [
    "holds_outs = pd.DataFrame({'Baseline Model - Learned Bias': rmse_bs_hold_out, \n",
    "                           'Baseline Model - MF': rmse_als_hold_out,\n",
    "                           'SVD': rmse_svd_hold_out, \n",
    "                           'NMF': rmse_nmf_hold_out, \n",
    "                           'Wide and Deep': rmse_wd_hold_out}, \n",
    "                          index=['RMSE'])\n",
    "\n",
    "holds_outs"
   ]
  },
  {
   "cell_type": "markdown",
   "metadata": {},
   "source": [
    "## Final Results Table"
   ]
  },
  {
   "cell_type": "code",
   "execution_count": 100,
   "metadata": {},
   "outputs": [],
   "source": [
    "all_rmses = [baseline_rmses, baseline_MF_rmses, all_mf_rmses[0], all_mf_rmses[1]]\n",
    "all_rmses = [rmses[-1] for rmses in all_rmses]\n",
    "all_rmses.append(rmse_wd)\n",
    "\n",
    "all_coverages = [baseline_coverages, als_catalog_coverages, all_mf_coverages[0], all_mf_coverages[1]]\n",
    "all_coverages = [all_coverages[-1] for all_coverages in all_coverages]\n",
    "all_coverages.append(coverage_wd)\n",
    "\n",
    "results = pd.DataFrame({'RMSE': all_rmses, 'Catalog Coverage (%)': all_coverages}, \n",
    "                       index=['Baseline Model - Learned Bias', 'Baseline Model - MF', 'SVD', 'NMF', \"Wide and Deep\"])"
   ]
  },
  {
   "cell_type": "code",
   "execution_count": 101,
   "metadata": {},
   "outputs": [
    {
     "data": {
      "text/html": [
       "<div>\n",
       "<style scoped>\n",
       "    .dataframe tbody tr th:only-of-type {\n",
       "        vertical-align: middle;\n",
       "    }\n",
       "\n",
       "    .dataframe tbody tr th {\n",
       "        vertical-align: top;\n",
       "    }\n",
       "\n",
       "    .dataframe thead th {\n",
       "        text-align: right;\n",
       "    }\n",
       "</style>\n",
       "<table border=\"1\" class=\"dataframe\">\n",
       "  <thead>\n",
       "    <tr style=\"text-align: right;\">\n",
       "      <th></th>\n",
       "      <th>RMSE</th>\n",
       "      <th>Catalog Coverage (%)</th>\n",
       "    </tr>\n",
       "  </thead>\n",
       "  <tbody>\n",
       "    <tr>\n",
       "      <th>Baseline Model - Learned Bias</th>\n",
       "      <td>1.036013</td>\n",
       "      <td>80.381086</td>\n",
       "    </tr>\n",
       "    <tr>\n",
       "      <th>Baseline Model - MF</th>\n",
       "      <td>1.731424</td>\n",
       "      <td>73.291747</td>\n",
       "    </tr>\n",
       "    <tr>\n",
       "      <th>SVD</th>\n",
       "      <td>1.269869</td>\n",
       "      <td>79.450778</td>\n",
       "    </tr>\n",
       "    <tr>\n",
       "      <th>NMF</th>\n",
       "      <td>1.410764</td>\n",
       "      <td>80.275328</td>\n",
       "    </tr>\n",
       "    <tr>\n",
       "      <th>Wide and Deep</th>\n",
       "      <td>2.312520</td>\n",
       "      <td>87.982644</td>\n",
       "    </tr>\n",
       "  </tbody>\n",
       "</table>\n",
       "</div>"
      ],
      "text/plain": [
       "                                   RMSE  Catalog Coverage (%)\n",
       "Baseline Model - Learned Bias  1.036013             80.381086\n",
       "Baseline Model - MF            1.731424             73.291747\n",
       "SVD                            1.269869             79.450778\n",
       "NMF                            1.410764             80.275328\n",
       "Wide and Deep                  2.312520             87.982644"
      ]
     },
     "execution_count": 101,
     "metadata": {},
     "output_type": "execute_result"
    }
   ],
   "source": [
    "results"
   ]
  },
  {
   "cell_type": "markdown",
   "metadata": {},
   "source": [
    "# 5. Conclusion <a class=\"anchor\" id=\"5\"></a>"
   ]
  },
  {
   "cell_type": "code",
   "execution_count": null,
   "metadata": {},
   "outputs": [],
   "source": []
  }
 ],
 "metadata": {
  "kernelspec": {
   "display_name": "Python 3",
   "language": "python",
   "name": "python3"
  },
  "language_info": {
   "codemirror_mode": {
    "name": "ipython",
    "version": 3
   },
   "file_extension": ".py",
   "mimetype": "text/x-python",
   "name": "python",
   "nbconvert_exporter": "python",
   "pygments_lexer": "ipython3",
   "version": "3.7.3"
  }
 },
 "nbformat": 4,
 "nbformat_minor": 2
}
