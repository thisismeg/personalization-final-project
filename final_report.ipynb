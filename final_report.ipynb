{
 "cells": [
  {
   "cell_type": "markdown",
   "metadata": {},
   "source": [
    "# IEOR 4571 - Personalization - Final Project\n",
    "\n",
    "#### Team members: \n",
    "Name, UNI/email, Github ID\n",
    "* Megala Kannan, msk2245@columbia.edu, thisismeg\n",
    "* Hojin Lee, hl3328@columbia.edu, hjlee9295\n",
    "* Jung Ah Shin, js5569@columbia.edu, juliajungahshin\n",
    "* Tiffany Zhu, tz2196@columbia.edu, tlzhu19\n"
   ]
  },
  {
   "cell_type": "markdown",
   "metadata": {},
   "source": [
    "# TOC:\n",
    "* [1. Introduction](#1)\n",
    "* [2. Data Exploration](#2)\n",
    "* [3. Modeling](#3)\n",
    "    * [3.1 Baseline Model: Learned Bias](#3-1)\n",
    "        * [3.1.1 Accuracy of Learned Bias Model](#3-1-1)\n",
    "        * [3.1.2 Coverage of Learned Bias Model](#3-1-2)\n",
    "    * [3.2 Baseline Model: Vanilla Matrix Factorization](#3-2)\n",
    "        * [3.2.1 Tuning Hyperparameters](#3-2-1)\n",
    "        * [3.2.2 Accuracy of Vanilla Matrix Factorization Model](#3-2-2)\n",
    "        * [3.2.3 Coverage of Vanilla Matrix Factorization Model](#3-2-3)\n",
    "    * [3.3 SVD++](#3-3)\n",
    "    * [3.4 Wide and Deep Model](#3-4)\n",
    "        * [3.4.1 Feature Selection](#3-4-1)\n",
    "        * [3.4.2 Modeling](#3-4-2)\n",
    "        * [3.4.3 Accuracy](#3-4-3)\n",
    "        * [3.4.4 Coverage](#3-4-4)     \n",
    "* [4. Evaluation](#4)\n",
    "    * [4.1 Accuracy](#4-1)\n",
    "    * [4.2 Coverage](#4-2)\n",
    "* [5. Conclusion](#5)\n"
   ]
  },
  {
   "cell_type": "markdown",
   "metadata": {},
   "source": [
    "# 1. Introduction <a class=\"anchor\" id=\"1\"></a>"
   ]
  },
  {
   "cell_type": "markdown",
   "metadata": {},
   "source": [
    "Yelp is a crowd-sourced review platform where users interact with businesses and other users through writing reviews and discovering new businesses.\n",
    "\n",
    "To make this platform more effective, we leverage various attributes of users, businesses, and reviews to provide better business recommendation for users. \n",
    "\n",
    "Our initial goal is to predict the last rating (final review) for each active user, where active users are those that gave 5 or more reviews. While aiming towards minimizing the difference between the actual rating and our prediction, we also want our recommendation model to provide diverse recommendations so that many users have an opportunity to explore new contents.\n",
    "\n",
    "In line with our objectives, we decided to explore several recommendation algorithms to gain a better understanding of the advantages and disadvantages each model provides.\n",
    "We chose SVD++, Non-negative Matrix Factorization(NMF), and Wide and Deep algorithms.\n",
    "\n",
    "We compare the aforementioned models with two baseline models, which are user and item bias baseline, and a vanilla Matrix Factorization model.\n",
    "\n",
    "To evaluate and compare the accuracy of our models, we used the following metrics: \n",
    "* RMSE \n",
    "\n",
    "These values would indicate how well our models perform compared to the baseline models.\n",
    "\n",
    "To evaluate the quality and diversity of our models, the following metrics are used:\n",
    "* Coverage\n",
    "* … \n",
    "\n",
    "Detailed description of each process is provided below."
   ]
  },
  {
   "cell_type": "markdown",
   "metadata": {},
   "source": [
    "# 2. Data Exploration <a class=\"anchor\" id=\"2\"></a>"
   ]
  },
  {
   "cell_type": "code",
   "execution_count": 1,
   "metadata": {},
   "outputs": [],
   "source": [
    "import pandas as pd\n",
    "import json\n",
    "from tqdm import tqdm\n",
    "\n",
    "import numpy as np # linear algebra\n",
    "import matplotlib.pyplot as plt\n",
    "import seaborn as sns\n",
    "%matplotlib inline\n",
    "plt.style.use('fivethirtyeight')\n",
    "\n",
    "import itertools\n",
    "from collections import Counter\n",
    "\n",
    "import warnings\n",
    "warnings.filterwarnings(\"ignore\")"
   ]
  },
  {
   "cell_type": "code",
   "execution_count": 2,
   "metadata": {},
   "outputs": [],
   "source": [
    "def convert_json_to_df(path, file_name, column_names):\n",
    "    '''\n",
    "    converts the json file into a pandas dataframe\n",
    "    path: string of path\n",
    "    file_name: string of json file name\n",
    "    column_names: the names of the json file attributes (used as the dataframe column names)\n",
    "    returns: dataframe\n",
    "    '''\n",
    "    line_count = len(open(path + file_name).readlines())    \n",
    "    columns_dict = {name: [] for name in column_names}\n",
    "\n",
    "    with open(path + file_name) as f:\n",
    "        for line in tqdm(f, total=line_count):\n",
    "            blob = json.loads(line)\n",
    "            \n",
    "            for key in column_names:\n",
    "                columns_dict[key].append(blob[key])\n",
    "    \n",
    "    return pd.DataFrame(columns_dict)"
   ]
  },
  {
   "cell_type": "code",
   "execution_count": 3,
   "metadata": {},
   "outputs": [],
   "source": [
    "path = \"/Users/tiffanyzhu/Downloads/yelp_dataset/\"\n",
    "file_name = \"review.json\""
   ]
  },
  {
   "cell_type": "code",
   "execution_count": 4,
   "metadata": {},
   "outputs": [
    {
     "name": "stderr",
     "output_type": "stream",
     "text": [
      "100%|██████████| 6685900/6685900 [01:07<00:00, 98363.87it/s] \n"
     ]
    }
   ],
   "source": [
    "# review.json\n",
    "ratings = convert_json_to_df(path, file_name, ['user_id', 'business_id', 'stars', 'date'])\n",
    "\n",
    "user_counts = ratings[\"user_id\"].value_counts()\n",
    "active_users = user_counts.loc[user_counts >= 5].index.tolist()"
   ]
  },
  {
   "cell_type": "code",
   "execution_count": 5,
   "metadata": {},
   "outputs": [
    {
     "data": {
      "text/plain": [
       "286130"
      ]
     },
     "execution_count": 5,
     "metadata": {},
     "output_type": "execute_result"
    }
   ],
   "source": [
    "len(active_users)"
   ]
  },
  {
   "cell_type": "code",
   "execution_count": 6,
   "metadata": {
    "scrolled": true
   },
   "outputs": [
    {
     "data": {
      "text/html": [
       "<div>\n",
       "<style scoped>\n",
       "    .dataframe tbody tr th:only-of-type {\n",
       "        vertical-align: middle;\n",
       "    }\n",
       "\n",
       "    .dataframe tbody tr th {\n",
       "        vertical-align: top;\n",
       "    }\n",
       "\n",
       "    .dataframe thead th {\n",
       "        text-align: right;\n",
       "    }\n",
       "</style>\n",
       "<table border=\"1\" class=\"dataframe\">\n",
       "  <thead>\n",
       "    <tr style=\"text-align: right;\">\n",
       "      <th></th>\n",
       "      <th>user_id</th>\n",
       "      <th>business_id</th>\n",
       "      <th>rating</th>\n",
       "      <th>date</th>\n",
       "    </tr>\n",
       "  </thead>\n",
       "  <tbody>\n",
       "    <tr>\n",
       "      <th>0</th>\n",
       "      <td>hG7b0MtEbXx5QzbzE6C_VA</td>\n",
       "      <td>ujmEBvifdJM6h6RLv4wQIg</td>\n",
       "      <td>1.0</td>\n",
       "      <td>2013-05-07 04:34:36</td>\n",
       "    </tr>\n",
       "    <tr>\n",
       "      <th>1</th>\n",
       "      <td>yXQM5uF2jS6es16SJzNHfg</td>\n",
       "      <td>NZnhc2sEQy3RmzKTZnqtwQ</td>\n",
       "      <td>5.0</td>\n",
       "      <td>2017-01-14 21:30:33</td>\n",
       "    </tr>\n",
       "    <tr>\n",
       "      <th>2</th>\n",
       "      <td>n6-Gk65cPZL6Uz8qRm3NYw</td>\n",
       "      <td>WTqjgwHlXbSFevF32_DJVw</td>\n",
       "      <td>5.0</td>\n",
       "      <td>2016-11-09 20:09:03</td>\n",
       "    </tr>\n",
       "    <tr>\n",
       "      <th>3</th>\n",
       "      <td>dacAIZ6fTM6mqwW5uxkskg</td>\n",
       "      <td>ikCg8xy5JIg_NGPx-MSIDA</td>\n",
       "      <td>5.0</td>\n",
       "      <td>2018-01-09 20:56:38</td>\n",
       "    </tr>\n",
       "    <tr>\n",
       "      <th>4</th>\n",
       "      <td>ssoyf2_x0EQMed6fgHeMyQ</td>\n",
       "      <td>b1b1eb3uo-w561D0ZfCEiQ</td>\n",
       "      <td>1.0</td>\n",
       "      <td>2018-01-30 23:07:38</td>\n",
       "    </tr>\n",
       "  </tbody>\n",
       "</table>\n",
       "</div>"
      ],
      "text/plain": [
       "                  user_id             business_id  rating                 date\n",
       "0  hG7b0MtEbXx5QzbzE6C_VA  ujmEBvifdJM6h6RLv4wQIg     1.0  2013-05-07 04:34:36\n",
       "1  yXQM5uF2jS6es16SJzNHfg  NZnhc2sEQy3RmzKTZnqtwQ     5.0  2017-01-14 21:30:33\n",
       "2  n6-Gk65cPZL6Uz8qRm3NYw  WTqjgwHlXbSFevF32_DJVw     5.0  2016-11-09 20:09:03\n",
       "3  dacAIZ6fTM6mqwW5uxkskg  ikCg8xy5JIg_NGPx-MSIDA     5.0  2018-01-09 20:56:38\n",
       "4  ssoyf2_x0EQMed6fgHeMyQ  b1b1eb3uo-w561D0ZfCEiQ     1.0  2018-01-30 23:07:38"
      ]
     },
     "execution_count": 6,
     "metadata": {},
     "output_type": "execute_result"
    }
   ],
   "source": [
    "ratings.rename(columns={'stars': 'rating'}, inplace=True)\n",
    "ratings.head()"
   ]
  },
  {
   "cell_type": "code",
   "execution_count": 7,
   "metadata": {},
   "outputs": [],
   "source": [
    "# can do the same for business.json, user.json, tip.json \n",
    "# for metadata info see https://www.yelp.com/dataset/documentation/main"
   ]
  },
  {
   "cell_type": "code",
   "execution_count": 8,
   "metadata": {},
   "outputs": [
    {
     "name": "stderr",
     "output_type": "stream",
     "text": [
      "100%|██████████| 192609/192609 [00:05<00:00, 34063.75it/s]\n"
     ]
    }
   ],
   "source": [
    "# business.json\n",
    "# todo: how to add 'attributes'?\n",
    "'''\n",
    "\"attributes\": {\n",
    "        \"RestaurantsTakeOut\": true,\n",
    "        \"BusinessParking\": {\n",
    "            \"garage\": false,\n",
    "            \"street\": true,\n",
    "            \"validated\": false,\n",
    "            \"lot\": false,\n",
    "            \"valet\": false\n",
    "        },\n",
    "'''\n",
    "\n",
    "businesses = convert_json_to_df(path, 'business.json', ['business_id', 'city', 'state', 'stars', \n",
    "                                                        'review_count', 'is_open', 'attributes', \n",
    "                                                        'categories', 'hours', 'latitude', 'longitude', 'name'])"
   ]
  },
  {
   "cell_type": "code",
   "execution_count": 9,
   "metadata": {},
   "outputs": [
    {
     "data": {
      "text/html": [
       "<div>\n",
       "<style scoped>\n",
       "    .dataframe tbody tr th:only-of-type {\n",
       "        vertical-align: middle;\n",
       "    }\n",
       "\n",
       "    .dataframe tbody tr th {\n",
       "        vertical-align: top;\n",
       "    }\n",
       "\n",
       "    .dataframe thead th {\n",
       "        text-align: right;\n",
       "    }\n",
       "</style>\n",
       "<table border=\"1\" class=\"dataframe\">\n",
       "  <thead>\n",
       "    <tr style=\"text-align: right;\">\n",
       "      <th></th>\n",
       "      <th>business_id</th>\n",
       "      <th>city</th>\n",
       "      <th>state</th>\n",
       "      <th>stars</th>\n",
       "      <th>review_count</th>\n",
       "      <th>is_open</th>\n",
       "      <th>attributes</th>\n",
       "      <th>categories</th>\n",
       "      <th>hours</th>\n",
       "      <th>latitude</th>\n",
       "      <th>longitude</th>\n",
       "      <th>name</th>\n",
       "    </tr>\n",
       "  </thead>\n",
       "  <tbody>\n",
       "    <tr>\n",
       "      <th>0</th>\n",
       "      <td>1SWheh84yJXfytovILXOAQ</td>\n",
       "      <td>Phoenix</td>\n",
       "      <td>AZ</td>\n",
       "      <td>3.0</td>\n",
       "      <td>5</td>\n",
       "      <td>0</td>\n",
       "      <td>{'GoodForKids': 'False'}</td>\n",
       "      <td>Golf, Active Life</td>\n",
       "      <td>None</td>\n",
       "      <td>33.522143</td>\n",
       "      <td>-112.018481</td>\n",
       "      <td>Arizona Biltmore Golf Club</td>\n",
       "    </tr>\n",
       "    <tr>\n",
       "      <th>1</th>\n",
       "      <td>QXAEGFB4oINsVuTFxEYKFQ</td>\n",
       "      <td>Mississauga</td>\n",
       "      <td>ON</td>\n",
       "      <td>2.5</td>\n",
       "      <td>128</td>\n",
       "      <td>1</td>\n",
       "      <td>{'RestaurantsReservations': 'True', 'GoodForMe...</td>\n",
       "      <td>Specialty Food, Restaurants, Dim Sum, Imported...</td>\n",
       "      <td>{'Monday': '9:0-0:0', 'Tuesday': '9:0-0:0', 'W...</td>\n",
       "      <td>43.605499</td>\n",
       "      <td>-79.652289</td>\n",
       "      <td>Emerald Chinese Restaurant</td>\n",
       "    </tr>\n",
       "    <tr>\n",
       "      <th>2</th>\n",
       "      <td>gnKjwL_1w79qoiV3IC_xQQ</td>\n",
       "      <td>Charlotte</td>\n",
       "      <td>NC</td>\n",
       "      <td>4.0</td>\n",
       "      <td>170</td>\n",
       "      <td>1</td>\n",
       "      <td>{'GoodForKids': 'True', 'NoiseLevel': 'u'avera...</td>\n",
       "      <td>Sushi Bars, Restaurants, Japanese</td>\n",
       "      <td>{'Monday': '17:30-21:30', 'Wednesday': '17:30-...</td>\n",
       "      <td>35.092564</td>\n",
       "      <td>-80.859132</td>\n",
       "      <td>Musashi Japanese Restaurant</td>\n",
       "    </tr>\n",
       "    <tr>\n",
       "      <th>3</th>\n",
       "      <td>xvX2CttrVhyG2z1dFg_0xw</td>\n",
       "      <td>Goodyear</td>\n",
       "      <td>AZ</td>\n",
       "      <td>5.0</td>\n",
       "      <td>3</td>\n",
       "      <td>1</td>\n",
       "      <td>None</td>\n",
       "      <td>Insurance, Financial Services</td>\n",
       "      <td>{'Monday': '8:0-17:0', 'Tuesday': '8:0-17:0', ...</td>\n",
       "      <td>33.455613</td>\n",
       "      <td>-112.395596</td>\n",
       "      <td>Farmers Insurance - Paul Lorenz</td>\n",
       "    </tr>\n",
       "    <tr>\n",
       "      <th>4</th>\n",
       "      <td>HhyxOkGAM07SRYtlQ4wMFQ</td>\n",
       "      <td>Charlotte</td>\n",
       "      <td>NC</td>\n",
       "      <td>4.0</td>\n",
       "      <td>4</td>\n",
       "      <td>1</td>\n",
       "      <td>{'BusinessAcceptsBitcoin': 'False', 'ByAppoint...</td>\n",
       "      <td>Plumbing, Shopping, Local Services, Home Servi...</td>\n",
       "      <td>{'Monday': '7:0-23:0', 'Tuesday': '7:0-23:0', ...</td>\n",
       "      <td>35.190012</td>\n",
       "      <td>-80.887223</td>\n",
       "      <td>Queen City Plumbing</td>\n",
       "    </tr>\n",
       "  </tbody>\n",
       "</table>\n",
       "</div>"
      ],
      "text/plain": [
       "              business_id         city state  stars  review_count  is_open  \\\n",
       "0  1SWheh84yJXfytovILXOAQ      Phoenix    AZ    3.0             5        0   \n",
       "1  QXAEGFB4oINsVuTFxEYKFQ  Mississauga    ON    2.5           128        1   \n",
       "2  gnKjwL_1w79qoiV3IC_xQQ    Charlotte    NC    4.0           170        1   \n",
       "3  xvX2CttrVhyG2z1dFg_0xw     Goodyear    AZ    5.0             3        1   \n",
       "4  HhyxOkGAM07SRYtlQ4wMFQ    Charlotte    NC    4.0             4        1   \n",
       "\n",
       "                                          attributes  \\\n",
       "0                           {'GoodForKids': 'False'}   \n",
       "1  {'RestaurantsReservations': 'True', 'GoodForMe...   \n",
       "2  {'GoodForKids': 'True', 'NoiseLevel': 'u'avera...   \n",
       "3                                               None   \n",
       "4  {'BusinessAcceptsBitcoin': 'False', 'ByAppoint...   \n",
       "\n",
       "                                          categories  \\\n",
       "0                                  Golf, Active Life   \n",
       "1  Specialty Food, Restaurants, Dim Sum, Imported...   \n",
       "2                  Sushi Bars, Restaurants, Japanese   \n",
       "3                      Insurance, Financial Services   \n",
       "4  Plumbing, Shopping, Local Services, Home Servi...   \n",
       "\n",
       "                                               hours   latitude   longitude  \\\n",
       "0                                               None  33.522143 -112.018481   \n",
       "1  {'Monday': '9:0-0:0', 'Tuesday': '9:0-0:0', 'W...  43.605499  -79.652289   \n",
       "2  {'Monday': '17:30-21:30', 'Wednesday': '17:30-...  35.092564  -80.859132   \n",
       "3  {'Monday': '8:0-17:0', 'Tuesday': '8:0-17:0', ...  33.455613 -112.395596   \n",
       "4  {'Monday': '7:0-23:0', 'Tuesday': '7:0-23:0', ...  35.190012  -80.887223   \n",
       "\n",
       "                              name  \n",
       "0       Arizona Biltmore Golf Club  \n",
       "1       Emerald Chinese Restaurant  \n",
       "2      Musashi Japanese Restaurant  \n",
       "3  Farmers Insurance - Paul Lorenz  \n",
       "4              Queen City Plumbing  "
      ]
     },
     "execution_count": 9,
     "metadata": {},
     "output_type": "execute_result"
    }
   ],
   "source": [
    "businesses.head()"
   ]
  },
  {
   "cell_type": "code",
   "execution_count": 10,
   "metadata": {},
   "outputs": [
    {
     "name": "stderr",
     "output_type": "stream",
     "text": [
      "100%|██████████| 1637138/1637138 [00:43<00:00, 37484.05it/s]\n"
     ]
    }
   ],
   "source": [
    "# user.json\n",
    "users = convert_json_to_df(path, 'user.json', ['user_id', 'review_count', 'friends', 'useful', \n",
    "                                               'funny', 'cool', 'fans', 'elite', 'average_stars', \n",
    "                                               'compliment_hot', 'compliment_more', 'compliment_profile',\n",
    "                                               'compliment_cute', 'compliment_list', 'compliment_note',\n",
    "                                               'compliment_plain', 'compliment_cool', 'compliment_funny',\n",
    "                                               'compliment_writer', 'compliment_photos'\n",
    "                                              ])"
   ]
  },
  {
   "cell_type": "code",
   "execution_count": 11,
   "metadata": {},
   "outputs": [
    {
     "data": {
      "text/html": [
       "<div>\n",
       "<style scoped>\n",
       "    .dataframe tbody tr th:only-of-type {\n",
       "        vertical-align: middle;\n",
       "    }\n",
       "\n",
       "    .dataframe tbody tr th {\n",
       "        vertical-align: top;\n",
       "    }\n",
       "\n",
       "    .dataframe thead th {\n",
       "        text-align: right;\n",
       "    }\n",
       "</style>\n",
       "<table border=\"1\" class=\"dataframe\">\n",
       "  <thead>\n",
       "    <tr style=\"text-align: right;\">\n",
       "      <th></th>\n",
       "      <th>user_id</th>\n",
       "      <th>review_count</th>\n",
       "      <th>friends</th>\n",
       "      <th>useful</th>\n",
       "      <th>funny</th>\n",
       "      <th>cool</th>\n",
       "      <th>fans</th>\n",
       "      <th>elite</th>\n",
       "      <th>average_stars</th>\n",
       "      <th>compliment_hot</th>\n",
       "      <th>compliment_more</th>\n",
       "      <th>compliment_profile</th>\n",
       "      <th>compliment_cute</th>\n",
       "      <th>compliment_list</th>\n",
       "      <th>compliment_note</th>\n",
       "      <th>compliment_plain</th>\n",
       "      <th>compliment_cool</th>\n",
       "      <th>compliment_funny</th>\n",
       "      <th>compliment_writer</th>\n",
       "      <th>compliment_photos</th>\n",
       "    </tr>\n",
       "  </thead>\n",
       "  <tbody>\n",
       "    <tr>\n",
       "      <th>0</th>\n",
       "      <td>l6BmjZMeQD3rDxWUbiAiow</td>\n",
       "      <td>95</td>\n",
       "      <td>c78V-rj8NQcQjOI8KP3UEA, alRMgPcngYSCJ5naFRBz5g...</td>\n",
       "      <td>84</td>\n",
       "      <td>17</td>\n",
       "      <td>25</td>\n",
       "      <td>5</td>\n",
       "      <td>2015,2016,2017</td>\n",
       "      <td>4.03</td>\n",
       "      <td>2</td>\n",
       "      <td>0</td>\n",
       "      <td>0</td>\n",
       "      <td>0</td>\n",
       "      <td>0</td>\n",
       "      <td>1</td>\n",
       "      <td>1</td>\n",
       "      <td>1</td>\n",
       "      <td>1</td>\n",
       "      <td>2</td>\n",
       "      <td>0</td>\n",
       "    </tr>\n",
       "    <tr>\n",
       "      <th>1</th>\n",
       "      <td>4XChL029mKr5hydo79Ljxg</td>\n",
       "      <td>33</td>\n",
       "      <td>kEBTgDvFX754S68FllfCaA, aB2DynOxNOJK9st2ZeGTPg...</td>\n",
       "      <td>48</td>\n",
       "      <td>22</td>\n",
       "      <td>16</td>\n",
       "      <td>4</td>\n",
       "      <td></td>\n",
       "      <td>3.63</td>\n",
       "      <td>1</td>\n",
       "      <td>0</td>\n",
       "      <td>0</td>\n",
       "      <td>0</td>\n",
       "      <td>0</td>\n",
       "      <td>0</td>\n",
       "      <td>0</td>\n",
       "      <td>1</td>\n",
       "      <td>1</td>\n",
       "      <td>0</td>\n",
       "      <td>0</td>\n",
       "    </tr>\n",
       "    <tr>\n",
       "      <th>2</th>\n",
       "      <td>bc8C_eETBWL0olvFSJJd0w</td>\n",
       "      <td>16</td>\n",
       "      <td>4N-HU_T32hLENLntsNKNBg, pSY2vwWLgWfGVAAiKQzMng...</td>\n",
       "      <td>28</td>\n",
       "      <td>8</td>\n",
       "      <td>10</td>\n",
       "      <td>0</td>\n",
       "      <td></td>\n",
       "      <td>3.71</td>\n",
       "      <td>0</td>\n",
       "      <td>0</td>\n",
       "      <td>0</td>\n",
       "      <td>0</td>\n",
       "      <td>0</td>\n",
       "      <td>1</td>\n",
       "      <td>0</td>\n",
       "      <td>0</td>\n",
       "      <td>0</td>\n",
       "      <td>0</td>\n",
       "      <td>0</td>\n",
       "    </tr>\n",
       "    <tr>\n",
       "      <th>3</th>\n",
       "      <td>dD0gZpBctWGdWo9WlGuhlA</td>\n",
       "      <td>17</td>\n",
       "      <td>RZ6wS38wnlXyj-OOdTzBxA, l5jxZh1KsgI8rMunm-GN6A...</td>\n",
       "      <td>30</td>\n",
       "      <td>4</td>\n",
       "      <td>14</td>\n",
       "      <td>5</td>\n",
       "      <td></td>\n",
       "      <td>4.85</td>\n",
       "      <td>1</td>\n",
       "      <td>0</td>\n",
       "      <td>0</td>\n",
       "      <td>0</td>\n",
       "      <td>0</td>\n",
       "      <td>0</td>\n",
       "      <td>2</td>\n",
       "      <td>0</td>\n",
       "      <td>0</td>\n",
       "      <td>1</td>\n",
       "      <td>0</td>\n",
       "    </tr>\n",
       "    <tr>\n",
       "      <th>4</th>\n",
       "      <td>MM4RJAeH6yuaN8oZDSt0RA</td>\n",
       "      <td>361</td>\n",
       "      <td>mbwrZ-RS76V1HoJ0bF_Geg, g64lOV39xSLRZO0aQQ6DeQ...</td>\n",
       "      <td>1114</td>\n",
       "      <td>279</td>\n",
       "      <td>665</td>\n",
       "      <td>39</td>\n",
       "      <td>2015,2016,2017,2018</td>\n",
       "      <td>4.08</td>\n",
       "      <td>28</td>\n",
       "      <td>1</td>\n",
       "      <td>0</td>\n",
       "      <td>0</td>\n",
       "      <td>1</td>\n",
       "      <td>16</td>\n",
       "      <td>57</td>\n",
       "      <td>80</td>\n",
       "      <td>80</td>\n",
       "      <td>25</td>\n",
       "      <td>5</td>\n",
       "    </tr>\n",
       "  </tbody>\n",
       "</table>\n",
       "</div>"
      ],
      "text/plain": [
       "                  user_id  review_count  \\\n",
       "0  l6BmjZMeQD3rDxWUbiAiow            95   \n",
       "1  4XChL029mKr5hydo79Ljxg            33   \n",
       "2  bc8C_eETBWL0olvFSJJd0w            16   \n",
       "3  dD0gZpBctWGdWo9WlGuhlA            17   \n",
       "4  MM4RJAeH6yuaN8oZDSt0RA           361   \n",
       "\n",
       "                                             friends  useful  funny  cool  \\\n",
       "0  c78V-rj8NQcQjOI8KP3UEA, alRMgPcngYSCJ5naFRBz5g...      84     17    25   \n",
       "1  kEBTgDvFX754S68FllfCaA, aB2DynOxNOJK9st2ZeGTPg...      48     22    16   \n",
       "2  4N-HU_T32hLENLntsNKNBg, pSY2vwWLgWfGVAAiKQzMng...      28      8    10   \n",
       "3  RZ6wS38wnlXyj-OOdTzBxA, l5jxZh1KsgI8rMunm-GN6A...      30      4    14   \n",
       "4  mbwrZ-RS76V1HoJ0bF_Geg, g64lOV39xSLRZO0aQQ6DeQ...    1114    279   665   \n",
       "\n",
       "   fans                elite  average_stars  compliment_hot  compliment_more  \\\n",
       "0     5       2015,2016,2017           4.03               2                0   \n",
       "1     4                                3.63               1                0   \n",
       "2     0                                3.71               0                0   \n",
       "3     5                                4.85               1                0   \n",
       "4    39  2015,2016,2017,2018           4.08              28                1   \n",
       "\n",
       "   compliment_profile  compliment_cute  compliment_list  compliment_note  \\\n",
       "0                   0                0                0                1   \n",
       "1                   0                0                0                0   \n",
       "2                   0                0                0                1   \n",
       "3                   0                0                0                0   \n",
       "4                   0                0                1               16   \n",
       "\n",
       "   compliment_plain  compliment_cool  compliment_funny  compliment_writer  \\\n",
       "0                 1                1                 1                  2   \n",
       "1                 0                1                 1                  0   \n",
       "2                 0                0                 0                  0   \n",
       "3                 2                0                 0                  1   \n",
       "4                57               80                80                 25   \n",
       "\n",
       "   compliment_photos  \n",
       "0                  0  \n",
       "1                  0  \n",
       "2                  0  \n",
       "3                  0  \n",
       "4                  5  "
      ]
     },
     "execution_count": 11,
     "metadata": {},
     "output_type": "execute_result"
    }
   ],
   "source": [
    "users.head()"
   ]
  },
  {
   "cell_type": "code",
   "execution_count": 12,
   "metadata": {},
   "outputs": [
    {
     "name": "stderr",
     "output_type": "stream",
     "text": [
      "100%|██████████| 1223094/1223094 [00:09<00:00, 130088.88it/s]\n"
     ]
    }
   ],
   "source": [
    "# tip.json\n",
    "tips =  convert_json_to_df(path, 'tip.json', ['text', 'date', 'compliment_count', 'business_id', 'user_id'])"
   ]
  },
  {
   "cell_type": "code",
   "execution_count": 13,
   "metadata": {},
   "outputs": [
    {
     "name": "stderr",
     "output_type": "stream",
     "text": [
      "100%|██████████| 200000/200000 [00:01<00:00, 193344.70it/s]\n"
     ]
    }
   ],
   "source": [
    "photos = convert_json_to_df(path, 'photo.json', ['photo_id', 'business_id'])"
   ]
  },
  {
   "cell_type": "markdown",
   "metadata": {},
   "source": [
    "Exploratory analysis of our data shows some interesting patterns.\n",
    "By looking at the distribution of ratings, the majority of the ratings are concentrated in the upper-half, indicating that most users gave 3.5 to 5.0 in their reviews.  \n",
    "It shows that most ratings are positive, where as only a small amount of ratings were negative ( rating <  3.0).  \n",
    "We can hypothesize from this evaluation that since our models will be trained primarily by positive ratings,  it might perform better at predicting ratings for businesses they are likely to enjoy than those they are less likely to enjoy. "
   ]
  },
  {
   "cell_type": "code",
   "execution_count": 14,
   "metadata": {},
   "outputs": [
    {
     "data": {
      "image/png": "[encoded data removed]",
      "text/plain": [
       "<Figure size 432x288 with 1 Axes>"
      ]
     },
     "metadata": {
      "needs_background": "light"
     },
     "output_type": "display_data"
    }
   ],
   "source": [
    "chart = sns.countplot(x='stars',data=businesses)\n",
    "var = chart.set(xlabel='Rating', title='Distribution of Ratings')"
   ]
  },
  {
   "cell_type": "markdown",
   "metadata": {},
   "source": [
    "To see which specific businesses might have received the highest number of ratings, Starbucks overall received the most number of ratings,  followed by McDonald’s and Hash House A Go Go. We could observe that franchise businesses tend to have many reviews due to having branches in various locations."
   ]
  },
  {
   "cell_type": "code",
   "execution_count": 15,
   "metadata": {},
   "outputs": [
    {
     "data": {
      "image/png": "[encoded data removed]",
      "text/plain": [
       "<Figure size 432x288 with 1 Axes>"
      ]
     },
     "metadata": {
      "needs_background": "light"
     },
     "output_type": "display_data"
    }
   ],
   "source": [
    "catList = []\n",
    "businesses['categories'].fillna(value='',inplace=True)\n",
    "businesses['cat'] = businesses['categories'].apply(lambda x: x.split(','))\n",
    "catList.extend(businesses['cat'])\n",
    "merged = [x.strip() for x in list(itertools.chain(*catList))]\n",
    "\n",
    "mostCommon = Counter(merged).most_common(15)\n",
    "mostCommonKeys = [x for x in list(itertools.chain(*mostCommon)) if type(x) != int]\n",
    "mostCommonValues = [x for x in list(itertools.chain(*mostCommon)) if type(x) == int]\n",
    "\n",
    "df = pd.DataFrame({'y': mostCommonValues, 'categories': mostCommonKeys})\n",
    "ax = df.plot.barh(x='categories', y='y')\n",
    "ax.invert_yaxis()"
   ]
  },
  {
   "cell_type": "markdown",
   "metadata": {},
   "source": [
    "In addition, we also looked at which categories the businesses belong in. Our analysis indicate \n",
    "that the top-5 most common categories are restaurants, shopping, food, home services, and beauty & spas. Furthermore, the top-5 most common categories cover approximately 71% of the data, hence these categories are used as features for our Wide and Deep model."
   ]
  },
  {
   "cell_type": "code",
   "execution_count": 16,
   "metadata": {},
   "outputs": [
    {
     "name": "stdout",
     "output_type": "stream",
     "text": [
      "business covered percentage when k = 5 : 0.7069243908643936\n",
      "business covered percentage when k = 10 : 0.8770670114065282\n",
      "business covered percentage when k = 20 : 0.9306418703175864\n"
     ]
    }
   ],
   "source": [
    "topKBusiness = [5,10,20]\n",
    "\n",
    "for n in topKBusiness:\n",
    "    catList = []\n",
    "    businesses['categories'].fillna(value='',inplace=True)\n",
    "    businesses['cat'] = businesses['categories'].apply(lambda x: x.split(','))\n",
    "    catList.extend(businesses['cat'])\n",
    "    merged = [x.strip() for x in list(itertools.chain(*catList))]\n",
    "    mostCommon = Counter(merged).most_common(n)\n",
    "    mostCommonKeys = [x for x in list(itertools.chain(*mostCommon)) if type(x) != int]\n",
    "    mostCommonValues = [x for x in list(itertools.chain(*mostCommon)) if type(x) == int]\n",
    "\n",
    "    colName = 'Top' + str(n)\n",
    "    businesses[colName] = businesses['cat'].apply(lambda categories: 1 if bool(set([y.strip() for y in categories]).intersection(mostCommonKeys)) else 0)   \n",
    "    print('business covered percentage when k =', n, \":\", businesses[colName].mean())"
   ]
  },
  {
   "cell_type": "markdown",
   "metadata": {},
   "source": [
    "The distribution of ratings of active users indicate that while there are a small number of users who have reviewed around 4000 times (Max: 4129), the vast majority of the users have reviewed around 5 times."
   ]
  },
  {
   "cell_type": "code",
   "execution_count": 17,
   "metadata": {},
   "outputs": [
    {
     "data": {
      "image/png": "[encoded data removed]",
      "text/plain": [
       "<Figure size 864x432 with 1 Axes>"
      ]
     },
     "metadata": {
      "needs_background": "light"
     },
     "output_type": "display_data"
    }
   ],
   "source": [
    "df = ratings.merge(businesses[['business_id', 'name']], on='business_id')\n",
    "plt.figure(figsize=(12,6))\n",
    "\n",
    "chart = sns.countplot(x='name',data=df, order=pd.value_counts(df['name']).iloc[:10].index)\n",
    "chart.set(title='Distribution of Ratings by Business')\n",
    "var = chart.set_xticklabels(chart.get_xticklabels(), rotation=45)"
   ]
  },
  {
   "cell_type": "code",
   "execution_count": 18,
   "metadata": {},
   "outputs": [
    {
     "data": {
      "text/plain": [
       "count    286130.000000\n",
       "mean         15.860874\n",
       "std          32.607378\n",
       "min           5.000000\n",
       "25%           6.000000\n",
       "50%           8.000000\n",
       "75%          15.000000\n",
       "max        4129.000000\n",
       "Name: user_id, dtype: float64"
      ]
     },
     "execution_count": 18,
     "metadata": {},
     "output_type": "execute_result"
    }
   ],
   "source": [
    "user_counts[user_counts.values >= 5].describe()"
   ]
  },
  {
   "cell_type": "code",
   "execution_count": 19,
   "metadata": {},
   "outputs": [
    {
     "data": {
      "text/plain": [
       "[Text(0.5, 0, 'Ratings'),\n",
       " Text(0.5, 1.0, 'Distribution of Ratings of Active Users')]"
      ]
     },
     "execution_count": 19,
     "metadata": {},
     "output_type": "execute_result"
    },
    {
     "data": {
      "image/png": "[encoded data removed]",
      "text/plain": [
       "<Figure size 432x288 with 1 Axes>"
      ]
     },
     "metadata": {
      "needs_background": "light"
     },
     "output_type": "display_data"
    }
   ],
   "source": [
    "chart = sns.distplot(user_counts.values[user_counts.values > 15], norm_hist=True, hist=False, bins=5)\n",
    "chart.set(title='Distribution of Ratings of Active Users', xlabel='Ratings')"
   ]
  },
  {
   "cell_type": "markdown",
   "metadata": {},
   "source": [
    "# 3. Modeling <a class=\"anchor\" id=\"3\"></a>"
   ]
  },
  {
   "cell_type": "markdown",
   "metadata": {},
   "source": [
    "## 3.0 Sampling Data"
   ]
  },
  {
   "cell_type": "markdown",
   "metadata": {},
   "source": [
    "By identifying and filtering the users who gave 5 or more reviews, there are 286,130 active users and about 4.5 million ratings.\n",
    "\n",
    "Since we wanted to evaluate the performance on several models, we first sampled the active user data where there are 1000, 10,000, and 50,000 users (where 50,000 users account for approximately 17.5% of the entire data).\n",
    "\n",
    "For this given dataset, we wanted to sample by users to ensure that our sample dataset would contain an entire user-business interaction history of the sampled users. That way, it would align with our goal of predicting the last rating for each active user based on the entire user-business interaction history.\n",
    "\n",
    "Furthermore, since users’ preference towards restaurants could gradually change over time, we believe that it would be reasonable to split our train and test data so that the train data would contain the earlier reviews, and the test data would consist of the latter reviews given by the users. That way, while we are supposedly predicting “future” reviews,  it is also consistent with our objective of predicting the final star rating (by date) given by the user. \n",
    "\n",
    "We also analyzed the categories for each business. Based on this analysis, we decided to use the top-5 categories to feed into our model. This is because they account for approximately 70% of the businesses in our data.\n"
   ]
  },
  {
   "cell_type": "code",
   "execution_count": 20,
   "metadata": {},
   "outputs": [
    {
     "data": {
      "text/plain": [
       "4538272"
      ]
     },
     "execution_count": 20,
     "metadata": {},
     "output_type": "execute_result"
    }
   ],
   "source": [
    "active_user_only_ratings_df = ratings[ratings['user_id'].isin(active_users)]\n",
    "len(active_user_only_ratings_df)"
   ]
  },
  {
   "cell_type": "code",
   "execution_count": 21,
   "metadata": {},
   "outputs": [
    {
     "data": {
      "text/plain": [
       "286130"
      ]
     },
     "execution_count": 21,
     "metadata": {},
     "output_type": "execute_result"
    }
   ],
   "source": [
    "len(active_user_only_ratings_df['user_id'].unique())"
   ]
  },
  {
   "cell_type": "code",
   "execution_count": 22,
   "metadata": {},
   "outputs": [],
   "source": [
    "import datetime as dt\n",
    "\n",
    "def get_sample_size_n(active_user_only_ratings_df, n): \n",
    "    sample_size = [n]\n",
    "\n",
    "    for s in sample_size:\n",
    "        sampleUID = active_user_only_ratings_df['user_id'].unique()[np.random.randint(active_user_only_ratings_df['user_id'].unique().shape[0], size=s)]\n",
    "        active_user_only_ratings_df_sample = active_user_only_ratings_df[active_user_only_ratings_df['user_id'].isin(sampleUID)]\n",
    "    \n",
    "    active_user_only_ratings_df_sample['date'] = pd.to_datetime(active_user_only_ratings_df_sample['date'])\n",
    "\n",
    "    # take 80% of reviews for each user sampled\n",
    "    training_data = active_user_only_ratings_df_sample.sort_values(by=['user_id', 'date']).groupby('user_id').apply(lambda x: x[:round(len(x)*.8)]).reset_index(drop=True)\n",
    "\n",
    "    # take 20% of reviews for each user sampled\n",
    "    testing_data = active_user_only_ratings_df_sample.sort_values(by=['user_id', 'date']).groupby('user_id').apply(lambda x: x[round(len(x)*.8):]).reset_index(drop=True)\n",
    "    \n",
    "    return active_user_only_ratings_df_sample, training_data, testing_data"
   ]
  },
  {
   "cell_type": "code",
   "execution_count": 23,
   "metadata": {},
   "outputs": [],
   "source": [
    "def print_df_info(n, total_df, training_df, testing_df):\n",
    "    print('Total Number of Ratings: ', len(total_df))\n",
    "    print('Total Number of Users: ', n)\n",
    "    print(\"Training Size: \", len(training_df))\n",
    "    print(\"Testing Size: \", len(testing_df))"
   ]
  },
  {
   "cell_type": "code",
   "execution_count": 24,
   "metadata": {},
   "outputs": [
    {
     "name": "stdout",
     "output_type": "stream",
     "text": [
      "Total Number of Ratings:  16617\n",
      "Total Number of Users:  1000\n",
      "Training Size:  13322\n",
      "Testing Size:  3295\n"
     ]
    }
   ],
   "source": [
    "sample_sizes = [1000, 10000, 50000]\n",
    "active_user_only_ratings_df_sample, training_data, testing_data = get_sample_size_n(active_user_only_ratings_df, sample_sizes[0])\n",
    "print_df_info(sample_sizes[0], active_user_only_ratings_df_sample, training_data, testing_data)"
   ]
  },
  {
   "cell_type": "code",
   "execution_count": 25,
   "metadata": {},
   "outputs": [
    {
     "name": "stdout",
     "output_type": "stream",
     "text": [
      "Total Number of Ratings:  161080\n",
      "Total Number of Users:  10000\n",
      "Training Size:  129148\n",
      "Testing Size:  31932\n"
     ]
    }
   ],
   "source": [
    "active_user_only_ratings_df_sample2, training_data2, testing_data2 = get_sample_size_n(active_user_only_ratings_df, sample_sizes[1])\n",
    "print_df_info(sample_sizes[1], active_user_only_ratings_df_sample2, training_data2, testing_data2)"
   ]
  },
  {
   "cell_type": "code",
   "execution_count": 26,
   "metadata": {},
   "outputs": [
    {
     "name": "stdout",
     "output_type": "stream",
     "text": [
      "Total Number of Ratings:  732327\n",
      "Total Number of Users:  50000\n",
      "Training Size:  587338\n",
      "Testing Size:  144989\n"
     ]
    }
   ],
   "source": [
    "active_user_only_ratings_df_sample3, training_data3, testing_data3 = get_sample_size_n(active_user_only_ratings_df, sample_sizes[2])\n",
    "print_df_info(sample_sizes[2], active_user_only_ratings_df_sample3, training_data3, testing_data3)"
   ]
  },
  {
   "cell_type": "markdown",
   "metadata": {},
   "source": [
    "## 3.1 Baseline Model: Learned Bias <a class=\"anchor\" id=\"3-1\"></a>"
   ]
  },
  {
   "cell_type": "code",
   "execution_count": 27,
   "metadata": {},
   "outputs": [],
   "source": [
    "def find_average_user_ratings(ratings_df):\n",
    "    ratings_series = ratings_df.groupby('user_id')['rating'].mean()\n",
    "    return pd.DataFrame({'user_id':ratings_series.index, 'rating':ratings_series.values})\n",
    "\n",
    "# average_user_ratings = find_average_user_ratings(X_data)"
   ]
  },
  {
   "cell_type": "code",
   "execution_count": 28,
   "metadata": {},
   "outputs": [],
   "source": [
    "def find_average_business_ratings(ratings_df):    \n",
    "    ratings_series = ratings_df.groupby('business_id')['rating'].mean()\n",
    "    return pd.DataFrame({'business_id':ratings_series.index, 'rating':ratings_series.values})\n",
    "\n",
    "# average_business_ratings = find_average_business_ratings(X_data)"
   ]
  },
  {
   "cell_type": "code",
   "execution_count": 29,
   "metadata": {},
   "outputs": [],
   "source": [
    "# ratings_df - for each user need to remove its last review\n",
    "\n",
    "def predict_learned_bias(actual_ratings, average_user_ratings, average_business_ratings):\n",
    "\n",
    "    avg_business_ratings_dict = dict(zip(average_business_ratings.business_id, average_business_ratings.rating))\n",
    "    \n",
    "    def find_business_avg(row):\n",
    "        #todo: what if business we are trying to predict was not seen? give it 3 (out of 5)?\n",
    "        return avg_business_ratings_dict.get(row['business_id'], 4)  \n",
    "    \n",
    "    avg_business_ratings = actual_ratings.apply(find_business_avg, axis=1)\n",
    "    print('avg_business_ratings created!')\n",
    "    \n",
    "    # we are assuming that the order is the same in each avg_business_ratings and average_user_ratings\n",
    "    predicted_rating = (avg_business_ratings + average_user_ratings['rating']) / 2\n",
    "    print('predicted_rating created!')\n",
    "    \n",
    "    actual_ratings['predicted_rating'] = predicted_rating.values\n",
    "    \n",
    "    return actual_ratings\n",
    "    \n",
    "# baseline_line_predictions_test = predict_learned_bias(y_data, average_user_ratings, average_business_ratings)\n",
    "# baseline_line_predictions_train = predict_learned_bias(X_data, average_user_ratings, average_business_ratings)"
   ]
  },
  {
   "cell_type": "code",
   "execution_count": 30,
   "metadata": {},
   "outputs": [],
   "source": [
    "def calculate_catalog_coverage(ratingsDict, N, k=3, pred_col_name='predicted_rating'):\n",
    "    '''\n",
    "    k: top k businesses\n",
    "    N: total number of businesses\n",
    "    '''\n",
    "    \n",
    "    recList = []\n",
    "    for keys in ratingsDict.keys():\n",
    "        \n",
    "        if k >= len(ratingsDict[keys]):\n",
    "            for row in ratingsDict[keys]:\n",
    "                recList.append(row['business_id'])\n",
    "        else:\n",
    "            for index, item in enumerate(sorted(ratingsDict[keys], key=lambda x: -x[pred_col_name])):\n",
    "                if index+1 <= k:\n",
    "                    recList.append(item['business_id'])\n",
    "                else:\n",
    "                    pass\n",
    "\n",
    "    recommended_set = set(recList)\n",
    "\n",
    "    coverage = (len(recommended_set) / N) * 100\n",
    "    print('Catalog Coverage: {}%'.format(coverage))\n",
    "    return coverage"
   ]
  },
  {
   "cell_type": "code",
   "execution_count": 31,
   "metadata": {},
   "outputs": [],
   "source": [
    "def run_baseline_model(df):\n",
    "    X_data = df.sort_values(by=['user_id', 'date']).groupby('user_id').apply(lambda x: x[:-1]).reset_index(drop=True)\n",
    "    y_data = df.sort_values(by=['user_id', 'date']).groupby('user_id').apply(lambda x: x[-1:]).reset_index(drop=True)\n",
    "    \n",
    "    average_user_ratings = find_average_user_ratings(X_data)\n",
    "    average_business_ratings = find_average_business_ratings(X_data)\n",
    "    \n",
    "    baseline_line_predictions_test = predict_learned_bias(y_data, average_user_ratings, average_business_ratings)\n",
    "    baseline_line_predictions_train = predict_learned_bias(X_data, average_user_ratings, average_business_ratings)\n",
    "    \n",
    "    N = len(baseline_line_predictions_test)\n",
    "    baseline_rmse_test = np.sum(np.sqrt(((baseline_line_predictions_test['predicted_rating'] - baseline_line_predictions_test['rating']) / N) ** 2))\n",
    "    \n",
    "    baseline_line_predictions_dict = dict(baseline_line_predictions_train.set_index('user_id').groupby(level = 0).apply(lambda x : x.to_dict(orient= 'records')))\n",
    "    N = len(baseline_line_predictions_train['business_id'].unique())\n",
    "    coverage = calculate_catalog_coverage(baseline_line_predictions_dict, N, k=5)\n",
    "\n",
    "    return baseline_rmse_test, coverage"
   ]
  },
  {
   "cell_type": "code",
   "execution_count": 32,
   "metadata": {},
   "outputs": [
    {
     "name": "stdout",
     "output_type": "stream",
     "text": [
      "avg_business_ratings created!\n",
      "predicted_rating created!\n",
      "avg_business_ratings created!\n",
      "predicted_rating created!\n",
      "Catalog Coverage: 35.65852002715547%\n"
     ]
    }
   ],
   "source": [
    "rmse, coverage = run_baseline_model(active_user_only_ratings_df_sample)"
   ]
  },
  {
   "cell_type": "code",
   "execution_count": 33,
   "metadata": {},
   "outputs": [
    {
     "data": {
      "text/plain": [
       "(1.1736901081449327, 35.65852002715547)"
      ]
     },
     "execution_count": 33,
     "metadata": {},
     "output_type": "execute_result"
    }
   ],
   "source": [
    "rmse, coverage "
   ]
  },
  {
   "cell_type": "code",
   "execution_count": 34,
   "metadata": {},
   "outputs": [
    {
     "name": "stdout",
     "output_type": "stream",
     "text": [
      "avg_business_ratings created!\n",
      "predicted_rating created!\n",
      "avg_business_ratings created!\n",
      "predicted_rating created!\n",
      "Catalog Coverage: 46.31231544207052%\n"
     ]
    }
   ],
   "source": [
    "rmse2, coverage2 = run_baseline_model(active_user_only_ratings_df_sample2)"
   ]
  },
  {
   "cell_type": "code",
   "execution_count": 35,
   "metadata": {},
   "outputs": [
    {
     "data": {
      "text/plain": [
       "(1.1404600213945155, 46.31231544207052)"
      ]
     },
     "execution_count": 35,
     "metadata": {},
     "output_type": "execute_result"
    }
   ],
   "source": [
    "rmse2, coverage2"
   ]
  },
  {
   "cell_type": "code",
   "execution_count": 36,
   "metadata": {},
   "outputs": [
    {
     "name": "stdout",
     "output_type": "stream",
     "text": [
      "avg_business_ratings created!\n",
      "predicted_rating created!\n",
      "avg_business_ratings created!\n",
      "predicted_rating created!\n",
      "Catalog Coverage: 58.37497544183344%\n"
     ]
    }
   ],
   "source": [
    "rmse3, coverage3 = run_baseline_model(active_user_only_ratings_df_sample3)"
   ]
  },
  {
   "cell_type": "code",
   "execution_count": 37,
   "metadata": {},
   "outputs": [
    {
     "data": {
      "text/plain": [
       "(1.1149488096561124, 58.37497544183344)"
      ]
     },
     "execution_count": 37,
     "metadata": {},
     "output_type": "execute_result"
    }
   ],
   "source": [
    "rmse3, coverage3"
   ]
  },
  {
   "cell_type": "markdown",
   "metadata": {},
   "source": [
    "### 3.1.1 Accuracy of Learned Bias Model<a class=\"anchor\" id=\"3-1-1\"></a>\n",
    "\n",
    "We look at RMSE as an measure of accuracy."
   ]
  },
  {
   "cell_type": "code",
   "execution_count": 38,
   "metadata": {},
   "outputs": [
    {
     "data": {
      "text/plain": [
       "[1.1736901081449327, 1.1404600213945155, 1.1149488096561124]"
      ]
     },
     "execution_count": 38,
     "metadata": {},
     "output_type": "execute_result"
    }
   ],
   "source": [
    "baseline_rmses = [rmse, rmse2, rmse3]\n",
    "baseline_rmses"
   ]
  },
  {
   "cell_type": "markdown",
   "metadata": {},
   "source": [
    "### 3.1.2 Coverage of Learned Bias Model<a class=\"anchor\" id=\"3-1-2\"></a>\n",
    "\n",
    "We look at catalog coverage."
   ]
  },
  {
   "cell_type": "code",
   "execution_count": 39,
   "metadata": {},
   "outputs": [
    {
     "data": {
      "text/plain": [
       "[35.65852002715547, 46.31231544207052, 58.37497544183344]"
      ]
     },
     "execution_count": 39,
     "metadata": {},
     "output_type": "execute_result"
    }
   ],
   "source": [
    "baseline_coverages = [coverage, coverage2, coverage3]\n",
    "baseline_coverages"
   ]
  },
  {
   "cell_type": "markdown",
   "metadata": {},
   "source": [
    "### 3.2 Baseline Model: Vanilla Matrix Factorization <a class=\"anchor\" id=\"3-2\"></a>"
   ]
  },
  {
   "cell_type": "code",
   "execution_count": 40,
   "metadata": {},
   "outputs": [],
   "source": [
    "from pyspark.mllib.recommendation import ALS\n",
    "from pyspark.sql import SparkSession\n",
    "from pyspark.sql import SQLContext\n",
    "from pyspark.ml.tuning import (CrossValidator, ParamGridBuilder)\n",
    "\n",
    "import pyspark.sql.functions as sql_func\n",
    "from pyspark.sql.types import *\n",
    "from pyspark.ml.recommendation import ALS, ALSModel\n",
    "from pyspark.context import SparkContext\n",
    "from pyspark.sql.session import SparkSession\n",
    "from pyspark.mllib.evaluation import RegressionMetrics, RankingMetrics\n",
    "from pyspark.ml.evaluation import RegressionEvaluator, BinaryClassificationEvaluator, MulticlassClassificationEvaluator\n",
    "from pyspark.sql.functions import col\n",
    "\n",
    "# Load ratings data into PySpark dataframe\n",
    "data_schema = StructType([\n",
    "    StructField('numeric_user_id', IntegerType(), False),\n",
    "    StructField('numeric_business_id', IntegerType(), False),\n",
    "    StructField('rating',FloatType(), False)])\n",
    "\n",
    "#Spark Session\n",
    "spark =SparkSession.builder.appName('ALS').getOrCreate()\n",
    "sc = spark.sparkContext\n",
    "sqlContext = SQLContext(sc)\n"
   ]
  },
  {
   "cell_type": "code",
   "execution_count": 41,
   "metadata": {},
   "outputs": [],
   "source": [
    "all_sample_dfs = [active_user_only_ratings_df_sample, active_user_only_ratings_df_sample2, active_user_only_ratings_df_sample3]\n",
    "all_training_dfs = [training_data, training_data2, training_data3]\n",
    "all_testing_dfs = [testing_data, testing_data2, testing_data3]\n",
    "\n",
    "\n",
    "for df in [all_training_dfs, all_testing_dfs]:\n",
    "    for train in df:\n",
    "        numeric_user_id_dict = {key: value + 1 for value, key in enumerate(train['user_id'].unique())}\n",
    "        numeric_business_id_dict = {key: value + 1 for value, key in enumerate(train['business_id'].unique())}\n",
    "\n",
    "        train['numeric_user_id'] = train['user_id'].apply(lambda u: numeric_user_id_dict[u])\n",
    "        train['numeric_business_id'] = train['business_id'].apply(lambda b: numeric_business_id_dict[b])"
   ]
  },
  {
   "cell_type": "code",
   "execution_count": 42,
   "metadata": {},
   "outputs": [],
   "source": [
    "# Create Spark DF from Pandas DF\n",
    "all_sample_spark_dfs_train = []\n",
    "all_sample_spark_dfs_test = []\n",
    "\n",
    "for sample_df in all_training_dfs:\n",
    "    new_sample_df = sample_df[['numeric_user_id', 'numeric_business_id', 'rating']]\n",
    "    spark_sample_df = spark.createDataFrame(new_sample_df, schema=data_schema)\n",
    "    all_sample_spark_dfs_train.append(spark_sample_df)\n",
    "\n",
    "for sample_df in all_testing_dfs:\n",
    "    new_sample_df = sample_df[['numeric_user_id', 'numeric_business_id', 'rating']]\n",
    "    spark_sample_df = spark.createDataFrame(new_sample_df, schema=data_schema)\n",
    "    all_sample_spark_dfs_test.append(spark_sample_df)"
   ]
  },
  {
   "cell_type": "code",
   "execution_count": 43,
   "metadata": {},
   "outputs": [],
   "source": [
    "def plot_rmse_vs_param(cvModels, param_list, xlabel):\n",
    "    plt.figure(figsize=(10, 6))\n",
    "    for cvModel in cvModels: \n",
    "        plt.plot(param_list, cvModel.avgMetrics, marker='o')\n",
    "\n",
    "    plt.xlabel(xlabel)\n",
    "    plt.ylabel('RMSE')\n",
    "    plt.title('RMSE vs {} by Number of Active Users'.format(xlabel))\n",
    "    plt.legend(['{} Active Users'.format(n) for n in sample_sizes])\n",
    "    plt.grid(True)\n",
    "    plt.show()"
   ]
  },
  {
   "cell_type": "markdown",
   "metadata": {},
   "source": [
    "### 3.2.1 Tuning Hyperparameters  <a class=\"anchor\" id=\"3-2-1\"></a>"
   ]
  },
  {
   "cell_type": "markdown",
   "metadata": {},
   "source": [
    "**Regularization Parameter**"
   ]
  },
  {
   "cell_type": "code",
   "execution_count": 50,
   "metadata": {},
   "outputs": [
    {
     "name": "stdout",
     "output_type": "stream",
     "text": [
      "RMSEs (tuning RegParam): [3.2465442543802934, 2.0557596194603063, 2.0146172076009945]\n",
      "RMSEs (tuning RegParam): [3.893522042357503, 1.7083947151117151, 1.6205786196340393]\n",
      "RMSEs (tuning RegParam): [3.7266861255888335, 1.5459800239204042, 1.4756231285541244]\n"
     ]
    }
   ],
   "source": [
    "als = ALS(maxIter=5, userCol=\"numeric_user_id\", itemCol=\"numeric_business_id\", ratingCol=\"rating\",\n",
    "              coldStartStrategy=\"drop\", nonnegative= True)\n",
    "\n",
    "reg_list = [0.001, 0.1, 0.2]\n",
    "paramGrid = ParamGridBuilder().addGrid(als.regParam, reg_list).build()\n",
    "    \n",
    "crossval = CrossValidator(estimator=als,\n",
    "                              estimatorParamMaps=paramGrid,\n",
    "                              evaluator=RegressionEvaluator(metricName=\"rmse\",\n",
    "                                                            labelCol=\"rating\"),\n",
    "                              numFolds=3)\n",
    "\n",
    "cvs = []\n",
    "for i in range(3):\n",
    "    cv = crossval.fit(all_sample_spark_dfs_train[i])\n",
    "    cvs.append(cv)\n",
    "    print('RMSEs (tuning RegParam):', cv.avgMetrics)"
   ]
  },
  {
   "cell_type": "code",
   "execution_count": 51,
   "metadata": {},
   "outputs": [
    {
     "data": {
      "image/png": "[encoded data removed]",
      "text/plain": [
       "<Figure size 720x432 with 1 Axes>"
      ]
     },
     "metadata": {
      "needs_background": "light"
     },
     "output_type": "display_data"
    }
   ],
   "source": [
    "plot_rmse_vs_param(cvs, reg_list, 'RegParam')"
   ]
  },
  {
   "cell_type": "code",
   "execution_count": 52,
   "metadata": {},
   "outputs": [],
   "source": [
    "best_reg = 0.2"
   ]
  },
  {
   "cell_type": "markdown",
   "metadata": {},
   "source": [
    "**Rank**"
   ]
  },
  {
   "cell_type": "code",
   "execution_count": 53,
   "metadata": {},
   "outputs": [
    {
     "name": "stdout",
     "output_type": "stream",
     "text": [
      "RMSEs (tuning Rank): [2.02246246579055, 2.0146172076009945, 2.012162789562847] Time:  56.66966199874878\n",
      "RMSEs (tuning Rank): [1.6131276728047352, 1.6205786196340393, 1.622891308399874] Time:  121.98705792427063\n",
      "RMSEs (tuning Rank): [1.4703795635642611, 1.4756231285541244, 1.4736156787894747] Time:  228.64182710647583\n"
     ]
    }
   ],
   "source": [
    "import time\n",
    "\n",
    "als = ALS(regParam=best_reg, maxIter=5, userCol=\"numeric_user_id\", itemCol=\"numeric_business_id\", ratingCol=\"rating\",\n",
    "          coldStartStrategy=\"drop\", nonnegative= True)\n",
    "\n",
    "rank_list = [5, 10, 20]\n",
    "paramGrid = ParamGridBuilder().addGrid(als.rank, rank_list).build()\n",
    "crossval_rank = CrossValidator(estimator=als,\n",
    "                          estimatorParamMaps=paramGrid,\n",
    "                          evaluator=RegressionEvaluator(metricName=\"rmse\",\n",
    "                                                        labelCol=\"rating\"),\n",
    "                          numFolds=3)\n",
    "\n",
    "cv_ranks = []\n",
    "for i in range(3):\n",
    "    start = time.time()\n",
    "    cv_rank = crossval_rank.fit(all_sample_spark_dfs_train[i])\n",
    "    cv_ranks.append(cv_rank)\n",
    "    end = time.time()\n",
    "    print('RMSEs (tuning Rank):', cv_rank.avgMetrics, 'Time: ', end - start)"
   ]
  },
  {
   "cell_type": "code",
   "execution_count": 54,
   "metadata": {},
   "outputs": [
    {
     "data": {
      "image/png": "[encoded data removed]",
      "text/plain": [
       "<Figure size 720x432 with 1 Axes>"
      ]
     },
     "metadata": {
      "needs_background": "light"
     },
     "output_type": "display_data"
    }
   ],
   "source": [
    "plot_rmse_vs_param(cv_ranks, reg_list, 'Rank')"
   ]
  },
  {
   "cell_type": "code",
   "execution_count": 55,
   "metadata": {},
   "outputs": [],
   "source": [
    "best_rank = 20"
   ]
  },
  {
   "cell_type": "code",
   "execution_count": 56,
   "metadata": {},
   "outputs": [],
   "source": [
    "# Final model\n",
    "als = ALS(regParam=best_reg, rank=best_rank, maxIter=5, userCol=\"numeric_user_id\", itemCol=\"numeric_business_id\", ratingCol=\"rating\",\n",
    "          coldStartStrategy=\"drop\", nonnegative= True)\n",
    "\n",
    "\n",
    "final_models = []\n",
    "for i in range(3):\n",
    "    final_model = als.fit(all_sample_spark_dfs_train[i])\n",
    "    final_models.append(final_model)"
   ]
  },
  {
   "cell_type": "markdown",
   "metadata": {},
   "source": [
    "### 3.2.2 Accuracy of Vanilla Matrix Factorization  <a class=\"anchor\" id=\"3-2-2\"></a>"
   ]
  },
  {
   "cell_type": "code",
   "execution_count": 57,
   "metadata": {},
   "outputs": [
    {
     "name": "stdout",
     "output_type": "stream",
     "text": [
      "RMSEs (after tuning): 1.8267378218669241\n",
      "RMSEs (after tuning): 1.8386514646166283\n",
      "RMSEs (after tuning): 1.724708279864691\n"
     ]
    }
   ],
   "source": [
    "evaluator = RegressionEvaluator(metricName=\"rmse\", labelCol=\"rating\", predictionCol=\"prediction\")\n",
    "\n",
    "final_rmses = []\n",
    "final_predictions_tests = []\n",
    "for i in range(3):\n",
    "    final_predictions_test = final_model.transform(all_sample_spark_dfs_test[i])\n",
    "    final_predictions_tests.append(final_predictions_test)\n",
    "    \n",
    "    final_rmse = evaluator.evaluate(final_predictions_test)\n",
    "    final_rmses.append(final_rmse)\n",
    "    \n",
    "    print('RMSEs (after tuning):', final_rmse)"
   ]
  },
  {
   "cell_type": "code",
   "execution_count": 58,
   "metadata": {},
   "outputs": [],
   "source": [
    "baseline_MF_rmses = final_rmses"
   ]
  },
  {
   "cell_type": "markdown",
   "metadata": {},
   "source": [
    "### 3.2.3 Coverage of Vanilla Matrix Factorization  <a class=\"anchor\" id=\"3-2-3\"></a>"
   ]
  },
  {
   "cell_type": "code",
   "execution_count": 59,
   "metadata": {},
   "outputs": [
    {
     "name": "stdout",
     "output_type": "stream",
     "text": [
      "Catalog Coverage: 57.34081161332894%\n",
      "Catalog Coverage: 64.38427369813817%\n",
      "Catalog Coverage: 71.98861840025292%\n"
     ]
    }
   ],
   "source": [
    "als_catalog_coverages = []\n",
    "for spark_test_df in final_predictions_tests:\n",
    "    pandas_test_df = spark_test_df.toPandas()\n",
    "    pandas_test_df.rename(columns={\"numeric_user_id\": \"user_id\", 'numeric_business_id': 'business_id'}, inplace=True)\n",
    "    pandas_test_df.sort_values(by=['user_id', 'rating'])\n",
    "    ratings_dictionary = dict(pandas_test_df.set_index('user_id').groupby(level = 0).apply(lambda x : x.to_dict(orient= 'records')))\n",
    "    N = len(pandas_test_df['business_id'].unique())    \n",
    "    als_catalog_coverages.append(calculate_catalog_coverage(ratings_dictionary, N, pred_col_name='prediction'))\n",
    "    "
   ]
  },
  {
   "cell_type": "markdown",
   "metadata": {},
   "source": [
    "## 3.3 SVD++ <a class=\"anchor\" id=\"3-3\"></a>"
   ]
  },
  {
   "cell_type": "markdown",
   "metadata": {},
   "source": [
    "## 3.4 Wide and Deep Model <a class=\"anchor\" id=\"3-4\"></a>"
   ]
  },
  {
   "cell_type": "markdown",
   "metadata": {},
   "source": [
    "### 3.4.1 Feature Selection <a class=\"anchor\" id=\"3-4-1\"></a>"
   ]
  },
  {
   "cell_type": "code",
   "execution_count": 60,
   "metadata": {},
   "outputs": [],
   "source": [
    "# take 20% of reviews for each user sampled\n",
    "testing_data = active_user_only_ratings_df_sample.sort_values(by=['user_id', 'date']).groupby('user_id').apply(lambda x: x[round(len(x)*.8):]).reset_index(drop=True)"
   ]
  },
  {
   "cell_type": "code",
   "execution_count": 61,
   "metadata": {},
   "outputs": [],
   "source": [
    "def create_features(active_user_only_ratings_df_sample):\n",
    "    base_df = active_user_only_ratings_df_sample\n",
    "\n",
    "    #sparse alert - hopefully with bigger dataset, we will see some weird ratings..\n",
    "    real_average = base_df[['business_id','rating']].groupby('business_id').mean().reset_index()\n",
    "    real_average.rename(columns={\"rating\": \"average_business_rating\"}, inplace=True)\n",
    "\n",
    "    #Average ratings for business added\n",
    "    base_df = base_df.merge(real_average, how='left', on='business_id')\n",
    "\n",
    "    #one-hot encoding for top5 categories\n",
    "    catList = []\n",
    "    businesses['categories'].fillna(value='',inplace=True)\n",
    "    businesses['cat'] = businesses['categories'].apply(lambda x: x.split(','))\n",
    "    catList.extend(businesses['cat'])\n",
    "    merged = [x.strip() for x in list(itertools.chain(*catList))]\n",
    "\n",
    "    #Adding state, review_count, is_open\n",
    "    base_df = base_df.merge(businesses[['business_id','state','city', 'latitude', 'longitude','review_count','is_open', 'hours', 'cat']], on='business_id')\n",
    "    base_df.rename(columns={\"review_count\": \"business_review_count\"}, inplace=True)\n",
    "\n",
    "    #getting top 5 common categories items\n",
    "    top5List = [x for x in list(itertools.chain(*Counter(merged).most_common(5))) if type(x) != int]\n",
    "\n",
    "    #one-hot encoding if the business in top 5 common category\n",
    "    for item in top5List:\n",
    "        base_df[item] = base_df['cat'].apply(lambda categories: 'Y' if bool(set([y.strip() for y in categories]).intersection([item])) else 'N')\n",
    "        #base_df[item] = base_df['cat'].apply(lambda categories: 'Y' if bool(set([y.strip() for y in categories]).intersection(set(item))) else 'N')\n",
    "\n",
    "    # is_open (categorical) change from 1 and 0 to Y and N\n",
    "    base_df['is_open'] = base_df['is_open'].apply(lambda x: 'Y' if x else 'N')\n",
    "\n",
    "    # hours: how many days per week it's open\n",
    "    base_df['hours'] = base_df['hours'].apply(lambda x: len(x.keys()) if x else 0)\n",
    "    base_df.rename(columns={\"hours\": \"days_per_week_open\"}, inplace=True)\n",
    "\n",
    "    # user information\n",
    "    base_df = base_df.merge(users[['user_id', 'average_stars', 'review_count', 'friends']],  on='user_id')\n",
    "\n",
    "    # number_of_friends\n",
    "    base_df['friends'] = base_df['friends'].apply(lambda x: len(x.split(',')))\n",
    "    base_df.rename(columns={\"friends\": \"number_of_friends\", \"review_count\": \"user_review_count\", \"average_stars\": \"average_user_rating\"}, inplace=True)\n",
    "\n",
    "    #number of tips for popularity measure of business\n",
    "    business_numberOfTips = tips[['business_id','user_id']].groupby('business_id').count().reset_index()\n",
    "    business_numberOfTips.rename(columns={\"user_id\": \"business_numberOfTips\"}, inplace=True)\n",
    "    base_df = base_df.merge(business_numberOfTips, on='business_id')\n",
    "\n",
    "    #number of photo for popularity measure of business\n",
    "    business_numberOfPhotos = photos[['business_id','photo_id']].groupby('business_id').count().reset_index()\n",
    "    business_numberOfPhotos.rename(columns={\"photo_id\": \"business_numberOfPhotos\"}, inplace=True)\n",
    "    base_df = base_df.merge(business_numberOfPhotos, on='business_id')\n",
    "    \n",
    "    return base_df"
   ]
  },
  {
   "cell_type": "code",
   "execution_count": 62,
   "metadata": {},
   "outputs": [
    {
     "data": {
      "text/html": [
       "<div>\n",
       "<style scoped>\n",
       "    .dataframe tbody tr th:only-of-type {\n",
       "        vertical-align: middle;\n",
       "    }\n",
       "\n",
       "    .dataframe tbody tr th {\n",
       "        vertical-align: top;\n",
       "    }\n",
       "\n",
       "    .dataframe thead th {\n",
       "        text-align: right;\n",
       "    }\n",
       "</style>\n",
       "<table border=\"1\" class=\"dataframe\">\n",
       "  <thead>\n",
       "    <tr style=\"text-align: right;\">\n",
       "      <th></th>\n",
       "      <th>user_id</th>\n",
       "      <th>business_id</th>\n",
       "      <th>rating</th>\n",
       "      <th>date</th>\n",
       "      <th>numeric_user_id</th>\n",
       "      <th>numeric_business_id</th>\n",
       "      <th>average_business_rating</th>\n",
       "      <th>state</th>\n",
       "      <th>city</th>\n",
       "      <th>latitude</th>\n",
       "      <th>...</th>\n",
       "      <th>Restaurants</th>\n",
       "      <th>Shopping</th>\n",
       "      <th>Food</th>\n",
       "      <th>Home Services</th>\n",
       "      <th>Beauty &amp; Spas</th>\n",
       "      <th>average_user_rating</th>\n",
       "      <th>user_review_count</th>\n",
       "      <th>number_of_friends</th>\n",
       "      <th>business_numberOfTips</th>\n",
       "      <th>business_numberOfPhotos</th>\n",
       "    </tr>\n",
       "  </thead>\n",
       "  <tbody>\n",
       "    <tr>\n",
       "      <th>0</th>\n",
       "      <td>-ANbvU6oLNS2ruRtiAn92Q</td>\n",
       "      <td>QzrtN3EjGp-kSCzg8uj1oA</td>\n",
       "      <td>4.0</td>\n",
       "      <td>2013-04-03 20:53:18</td>\n",
       "      <td>1</td>\n",
       "      <td>1</td>\n",
       "      <td>4.333333</td>\n",
       "      <td>AZ</td>\n",
       "      <td>Phoenix</td>\n",
       "      <td>33.567919</td>\n",
       "      <td>...</td>\n",
       "      <td>Y</td>\n",
       "      <td>N</td>\n",
       "      <td>Y</td>\n",
       "      <td>N</td>\n",
       "      <td>N</td>\n",
       "      <td>3.71</td>\n",
       "      <td>7</td>\n",
       "      <td>1</td>\n",
       "      <td>88</td>\n",
       "      <td>7</td>\n",
       "    </tr>\n",
       "    <tr>\n",
       "      <th>1</th>\n",
       "      <td>MzHefdSrnAVxhZ2zkfENYA</td>\n",
       "      <td>QzrtN3EjGp-kSCzg8uj1oA</td>\n",
       "      <td>5.0</td>\n",
       "      <td>2016-11-11 02:23:43</td>\n",
       "      <td>342</td>\n",
       "      <td>1</td>\n",
       "      <td>4.333333</td>\n",
       "      <td>AZ</td>\n",
       "      <td>Phoenix</td>\n",
       "      <td>33.567919</td>\n",
       "      <td>...</td>\n",
       "      <td>Y</td>\n",
       "      <td>N</td>\n",
       "      <td>Y</td>\n",
       "      <td>N</td>\n",
       "      <td>N</td>\n",
       "      <td>3.94</td>\n",
       "      <td>43</td>\n",
       "      <td>16</td>\n",
       "      <td>88</td>\n",
       "      <td>7</td>\n",
       "    </tr>\n",
       "    <tr>\n",
       "      <th>2</th>\n",
       "      <td>WsvXxjjzeUH6aXxS1Ud4Vg</td>\n",
       "      <td>QzrtN3EjGp-kSCzg8uj1oA</td>\n",
       "      <td>4.0</td>\n",
       "      <td>2016-02-27 12:57:28</td>\n",
       "      <td>520</td>\n",
       "      <td>1</td>\n",
       "      <td>4.333333</td>\n",
       "      <td>AZ</td>\n",
       "      <td>Phoenix</td>\n",
       "      <td>33.567919</td>\n",
       "      <td>...</td>\n",
       "      <td>Y</td>\n",
       "      <td>N</td>\n",
       "      <td>Y</td>\n",
       "      <td>N</td>\n",
       "      <td>N</td>\n",
       "      <td>3.62</td>\n",
       "      <td>11</td>\n",
       "      <td>87</td>\n",
       "      <td>88</td>\n",
       "      <td>7</td>\n",
       "    </tr>\n",
       "    <tr>\n",
       "      <th>3</th>\n",
       "      <td>-ANbvU6oLNS2ruRtiAn92Q</td>\n",
       "      <td>KyUFj09bfowyddCuOTP4mg</td>\n",
       "      <td>5.0</td>\n",
       "      <td>2013-04-03 21:10:15</td>\n",
       "      <td>1</td>\n",
       "      <td>2</td>\n",
       "      <td>5.000000</td>\n",
       "      <td>AZ</td>\n",
       "      <td>Glendale</td>\n",
       "      <td>33.539121</td>\n",
       "      <td>...</td>\n",
       "      <td>Y</td>\n",
       "      <td>N</td>\n",
       "      <td>N</td>\n",
       "      <td>N</td>\n",
       "      <td>N</td>\n",
       "      <td>3.71</td>\n",
       "      <td>7</td>\n",
       "      <td>1</td>\n",
       "      <td>134</td>\n",
       "      <td>6</td>\n",
       "    </tr>\n",
       "    <tr>\n",
       "      <th>4</th>\n",
       "      <td>Pxres8jn4eFK9ccbI6m3jQ</td>\n",
       "      <td>KyUFj09bfowyddCuOTP4mg</td>\n",
       "      <td>5.0</td>\n",
       "      <td>2014-05-27 19:38:40</td>\n",
       "      <td>393</td>\n",
       "      <td>2</td>\n",
       "      <td>5.000000</td>\n",
       "      <td>AZ</td>\n",
       "      <td>Glendale</td>\n",
       "      <td>33.539121</td>\n",
       "      <td>...</td>\n",
       "      <td>Y</td>\n",
       "      <td>N</td>\n",
       "      <td>N</td>\n",
       "      <td>N</td>\n",
       "      <td>N</td>\n",
       "      <td>5.00</td>\n",
       "      <td>7</td>\n",
       "      <td>9</td>\n",
       "      <td>134</td>\n",
       "      <td>6</td>\n",
       "    </tr>\n",
       "  </tbody>\n",
       "</table>\n",
       "<p>5 rows × 25 columns</p>\n",
       "</div>"
      ],
      "text/plain": [
       "                  user_id             business_id  rating                date  \\\n",
       "0  -ANbvU6oLNS2ruRtiAn92Q  QzrtN3EjGp-kSCzg8uj1oA     4.0 2013-04-03 20:53:18   \n",
       "1  MzHefdSrnAVxhZ2zkfENYA  QzrtN3EjGp-kSCzg8uj1oA     5.0 2016-11-11 02:23:43   \n",
       "2  WsvXxjjzeUH6aXxS1Ud4Vg  QzrtN3EjGp-kSCzg8uj1oA     4.0 2016-02-27 12:57:28   \n",
       "3  -ANbvU6oLNS2ruRtiAn92Q  KyUFj09bfowyddCuOTP4mg     5.0 2013-04-03 21:10:15   \n",
       "4  Pxres8jn4eFK9ccbI6m3jQ  KyUFj09bfowyddCuOTP4mg     5.0 2014-05-27 19:38:40   \n",
       "\n",
       "   numeric_user_id  numeric_business_id  average_business_rating state  \\\n",
       "0                1                    1                 4.333333    AZ   \n",
       "1              342                    1                 4.333333    AZ   \n",
       "2              520                    1                 4.333333    AZ   \n",
       "3                1                    2                 5.000000    AZ   \n",
       "4              393                    2                 5.000000    AZ   \n",
       "\n",
       "       city   latitude  ...  Restaurants  Shopping Food  Home Services  \\\n",
       "0   Phoenix  33.567919  ...            Y         N    Y              N   \n",
       "1   Phoenix  33.567919  ...            Y         N    Y              N   \n",
       "2   Phoenix  33.567919  ...            Y         N    Y              N   \n",
       "3  Glendale  33.539121  ...            Y         N    N              N   \n",
       "4  Glendale  33.539121  ...            Y         N    N              N   \n",
       "\n",
       "  Beauty & Spas average_user_rating user_review_count number_of_friends  \\\n",
       "0             N                3.71                 7                 1   \n",
       "1             N                3.94                43                16   \n",
       "2             N                3.62                11                87   \n",
       "3             N                3.71                 7                 1   \n",
       "4             N                5.00                 7                 9   \n",
       "\n",
       "  business_numberOfTips business_numberOfPhotos  \n",
       "0                    88                       7  \n",
       "1                    88                       7  \n",
       "2                    88                       7  \n",
       "3                   134                       6  \n",
       "4                   134                       6  \n",
       "\n",
       "[5 rows x 25 columns]"
      ]
     },
     "execution_count": 62,
     "metadata": {},
     "output_type": "execute_result"
    }
   ],
   "source": [
    "training_features = create_features(training_data)\n",
    "training_features.head()"
   ]
  },
  {
   "cell_type": "code",
   "execution_count": 63,
   "metadata": {},
   "outputs": [
    {
     "data": {
      "text/html": [
       "<div>\n",
       "<style scoped>\n",
       "    .dataframe tbody tr th:only-of-type {\n",
       "        vertical-align: middle;\n",
       "    }\n",
       "\n",
       "    .dataframe tbody tr th {\n",
       "        vertical-align: top;\n",
       "    }\n",
       "\n",
       "    .dataframe thead th {\n",
       "        text-align: right;\n",
       "    }\n",
       "</style>\n",
       "<table border=\"1\" class=\"dataframe\">\n",
       "  <thead>\n",
       "    <tr style=\"text-align: right;\">\n",
       "      <th></th>\n",
       "      <th>user_id</th>\n",
       "      <th>business_id</th>\n",
       "      <th>rating</th>\n",
       "      <th>date</th>\n",
       "      <th>average_business_rating</th>\n",
       "      <th>state</th>\n",
       "      <th>city</th>\n",
       "      <th>latitude</th>\n",
       "      <th>longitude</th>\n",
       "      <th>business_review_count</th>\n",
       "      <th>...</th>\n",
       "      <th>Restaurants</th>\n",
       "      <th>Shopping</th>\n",
       "      <th>Food</th>\n",
       "      <th>Home Services</th>\n",
       "      <th>Beauty &amp; Spas</th>\n",
       "      <th>average_user_rating</th>\n",
       "      <th>user_review_count</th>\n",
       "      <th>number_of_friends</th>\n",
       "      <th>business_numberOfTips</th>\n",
       "      <th>business_numberOfPhotos</th>\n",
       "    </tr>\n",
       "  </thead>\n",
       "  <tbody>\n",
       "    <tr>\n",
       "      <th>0</th>\n",
       "      <td>LFHNbRdOJL2LDZUzyHz7Vw</td>\n",
       "      <td>fWetLvfQXqpZcBQLHldUhA</td>\n",
       "      <td>5.0</td>\n",
       "      <td>2018-07-04 19:34:50</td>\n",
       "      <td>4.5</td>\n",
       "      <td>NV</td>\n",
       "      <td>Las Vegas</td>\n",
       "      <td>36.169101</td>\n",
       "      <td>-115.143236</td>\n",
       "      <td>951</td>\n",
       "      <td>...</td>\n",
       "      <td>N</td>\n",
       "      <td>N</td>\n",
       "      <td>N</td>\n",
       "      <td>N</td>\n",
       "      <td>N</td>\n",
       "      <td>2.79</td>\n",
       "      <td>51</td>\n",
       "      <td>42</td>\n",
       "      <td>151</td>\n",
       "      <td>37</td>\n",
       "    </tr>\n",
       "    <tr>\n",
       "      <th>1</th>\n",
       "      <td>ObQl16Vuc4sHPGKtzSGNUw</td>\n",
       "      <td>fWetLvfQXqpZcBQLHldUhA</td>\n",
       "      <td>4.0</td>\n",
       "      <td>2018-07-21 13:04:49</td>\n",
       "      <td>4.5</td>\n",
       "      <td>NV</td>\n",
       "      <td>Las Vegas</td>\n",
       "      <td>36.169101</td>\n",
       "      <td>-115.143236</td>\n",
       "      <td>951</td>\n",
       "      <td>...</td>\n",
       "      <td>N</td>\n",
       "      <td>N</td>\n",
       "      <td>N</td>\n",
       "      <td>N</td>\n",
       "      <td>N</td>\n",
       "      <td>3.87</td>\n",
       "      <td>446</td>\n",
       "      <td>171</td>\n",
       "      <td>151</td>\n",
       "      <td>37</td>\n",
       "    </tr>\n",
       "    <tr>\n",
       "      <th>2</th>\n",
       "      <td>LFHNbRdOJL2LDZUzyHz7Vw</td>\n",
       "      <td>ZU3ZU_wGF2S4CKavMEtI_w</td>\n",
       "      <td>1.0</td>\n",
       "      <td>2018-09-02 06:57:13</td>\n",
       "      <td>1.0</td>\n",
       "      <td>NV</td>\n",
       "      <td>Las Vegas</td>\n",
       "      <td>36.169019</td>\n",
       "      <td>-115.140376</td>\n",
       "      <td>74</td>\n",
       "      <td>...</td>\n",
       "      <td>N</td>\n",
       "      <td>Y</td>\n",
       "      <td>Y</td>\n",
       "      <td>N</td>\n",
       "      <td>N</td>\n",
       "      <td>2.79</td>\n",
       "      <td>51</td>\n",
       "      <td>42</td>\n",
       "      <td>22</td>\n",
       "      <td>13</td>\n",
       "    </tr>\n",
       "    <tr>\n",
       "      <th>3</th>\n",
       "      <td>LFHNbRdOJL2LDZUzyHz7Vw</td>\n",
       "      <td>ZU3ZU_wGF2S4CKavMEtI_w</td>\n",
       "      <td>1.0</td>\n",
       "      <td>2018-10-15 01:43:55</td>\n",
       "      <td>1.0</td>\n",
       "      <td>NV</td>\n",
       "      <td>Las Vegas</td>\n",
       "      <td>36.169019</td>\n",
       "      <td>-115.140376</td>\n",
       "      <td>74</td>\n",
       "      <td>...</td>\n",
       "      <td>N</td>\n",
       "      <td>Y</td>\n",
       "      <td>Y</td>\n",
       "      <td>N</td>\n",
       "      <td>N</td>\n",
       "      <td>2.79</td>\n",
       "      <td>51</td>\n",
       "      <td>42</td>\n",
       "      <td>22</td>\n",
       "      <td>13</td>\n",
       "    </tr>\n",
       "    <tr>\n",
       "      <th>4</th>\n",
       "      <td>LFHNbRdOJL2LDZUzyHz7Vw</td>\n",
       "      <td>d4qwVw4PcN-_2mK2o1Ro1g</td>\n",
       "      <td>1.0</td>\n",
       "      <td>2018-11-11 03:29:51</td>\n",
       "      <td>1.0</td>\n",
       "      <td>NV</td>\n",
       "      <td>Las Vegas</td>\n",
       "      <td>36.109706</td>\n",
       "      <td>-115.154021</td>\n",
       "      <td>1040</td>\n",
       "      <td>...</td>\n",
       "      <td>Y</td>\n",
       "      <td>N</td>\n",
       "      <td>N</td>\n",
       "      <td>N</td>\n",
       "      <td>N</td>\n",
       "      <td>2.79</td>\n",
       "      <td>51</td>\n",
       "      <td>42</td>\n",
       "      <td>195</td>\n",
       "      <td>44</td>\n",
       "    </tr>\n",
       "  </tbody>\n",
       "</table>\n",
       "<p>5 rows × 23 columns</p>\n",
       "</div>"
      ],
      "text/plain": [
       "                  user_id             business_id  rating                date  \\\n",
       "0  LFHNbRdOJL2LDZUzyHz7Vw  fWetLvfQXqpZcBQLHldUhA     5.0 2018-07-04 19:34:50   \n",
       "1  ObQl16Vuc4sHPGKtzSGNUw  fWetLvfQXqpZcBQLHldUhA     4.0 2018-07-21 13:04:49   \n",
       "2  LFHNbRdOJL2LDZUzyHz7Vw  ZU3ZU_wGF2S4CKavMEtI_w     1.0 2018-09-02 06:57:13   \n",
       "3  LFHNbRdOJL2LDZUzyHz7Vw  ZU3ZU_wGF2S4CKavMEtI_w     1.0 2018-10-15 01:43:55   \n",
       "4  LFHNbRdOJL2LDZUzyHz7Vw  d4qwVw4PcN-_2mK2o1Ro1g     1.0 2018-11-11 03:29:51   \n",
       "\n",
       "   average_business_rating state       city   latitude   longitude  \\\n",
       "0                      4.5    NV  Las Vegas  36.169101 -115.143236   \n",
       "1                      4.5    NV  Las Vegas  36.169101 -115.143236   \n",
       "2                      1.0    NV  Las Vegas  36.169019 -115.140376   \n",
       "3                      1.0    NV  Las Vegas  36.169019 -115.140376   \n",
       "4                      1.0    NV  Las Vegas  36.109706 -115.154021   \n",
       "\n",
       "   business_review_count  ... Restaurants  Shopping Food Home Services  \\\n",
       "0                    951  ...           N         N    N             N   \n",
       "1                    951  ...           N         N    N             N   \n",
       "2                     74  ...           N         Y    Y             N   \n",
       "3                     74  ...           N         Y    Y             N   \n",
       "4                   1040  ...           Y         N    N             N   \n",
       "\n",
       "  Beauty & Spas average_user_rating user_review_count number_of_friends  \\\n",
       "0             N                2.79                51                42   \n",
       "1             N                3.87               446               171   \n",
       "2             N                2.79                51                42   \n",
       "3             N                2.79                51                42   \n",
       "4             N                2.79                51                42   \n",
       "\n",
       "   business_numberOfTips  business_numberOfPhotos  \n",
       "0                    151                       37  \n",
       "1                    151                       37  \n",
       "2                     22                       13  \n",
       "3                     22                       13  \n",
       "4                    195                       44  \n",
       "\n",
       "[5 rows x 23 columns]"
      ]
     },
     "execution_count": 63,
     "metadata": {},
     "output_type": "execute_result"
    }
   ],
   "source": [
    "testing_features = create_features(testing_data)\n",
    "testing_features.head()"
   ]
  },
  {
   "cell_type": "code",
   "execution_count": 64,
   "metadata": {},
   "outputs": [],
   "source": [
    "training_features2 = create_features(training_data2)\n",
    "testing_features2 = create_features(testing_data2)"
   ]
  },
  {
   "cell_type": "code",
   "execution_count": 65,
   "metadata": {},
   "outputs": [],
   "source": [
    "training_features3 = create_features(training_data3)\n",
    "testing_features3 = create_features(testing_data3)"
   ]
  },
  {
   "cell_type": "markdown",
   "metadata": {},
   "source": [
    "## 3.4.2 Modeling <a class=\"anchor\" id=\"3-4-2\"></a>"
   ]
  },
  {
   "cell_type": "markdown",
   "metadata": {},
   "source": [
    "## 3.4.3 Accuracy <a class=\"anchor\" id=\"3-4-3\"></a>"
   ]
  },
  {
   "cell_type": "markdown",
   "metadata": {},
   "source": [
    "## 3.4.4 Coverage <a class=\"anchor\" id=\"3-4-4\"></a>"
   ]
  },
  {
   "cell_type": "markdown",
   "metadata": {},
   "source": [
    "# 4. Evaluation <a class=\"anchor\" id=\"4\"></a>"
   ]
  },
  {
   "cell_type": "markdown",
   "metadata": {},
   "source": [
    "## 4.1 Accuracy <a class=\"anchor\" id=\"4-1\"></a>"
   ]
  },
  {
   "cell_type": "code",
   "execution_count": 66,
   "metadata": {},
   "outputs": [
    {
     "data": {
      "image/png": "[encoded data removed]",
      "text/plain": [
       "<Figure size 720x432 with 1 Axes>"
      ]
     },
     "metadata": {
      "needs_background": "light"
     },
     "output_type": "display_data"
    }
   ],
   "source": [
    "LEGEND = ['Baseline Model - Learned Bias', 'Baseline Model - MF', 'SVD++', 'Wide and Deep']\n",
    "\n",
    "plt.figure(figsize=(10, 6))\n",
    "\n",
    "plt.plot(sample_sizes, baseline_rmses, marker='o')\n",
    "plt.plot(sample_sizes, baseline_MF_rmses, marker='o')\n",
    "# plt.plot(sample_sizes, [min(rmse)  for rmse in knn_rmse_test], marker='o')\n",
    "# plt.plot(sample_sizes, best_als_rmses, marker='o')\n",
    "\n",
    "plt.xlabel('Number of Active Users Sampled')\n",
    "plt.ylabel('RMSE')\n",
    "plt.title('RMSE Test vs Sample Size')\n",
    "plt.legend(LEGEND)\n",
    "plt.grid(True)\n",
    "plt.show()"
   ]
  },
  {
   "cell_type": "markdown",
   "metadata": {},
   "source": [
    "## 4.2 Coverage <a class=\"anchor\" id=\"4-2\"></a>"
   ]
  },
  {
   "cell_type": "code",
   "execution_count": 67,
   "metadata": {},
   "outputs": [
    {
     "data": {
      "image/png": "[encoded data removed]",
      "text/plain": [
       "<Figure size 720x432 with 1 Axes>"
      ]
     },
     "metadata": {
      "needs_background": "light"
     },
     "output_type": "display_data"
    }
   ],
   "source": [
    "plt.figure(figsize=(10, 6))\n",
    "plt.plot(sample_sizes, baseline_coverages, marker='o')\n",
    "plt.plot(sample_sizes, als_catalog_coverages, marker='o')\n",
    "# plt.plot(sample_sizes, knn_catalog_coverages, marker='o')\n",
    "# plt.plot(sample_sizes, als_catalog_coverages, marker='o')\n",
    "\n",
    "plt.xlabel('Number of Active Users')\n",
    "plt.ylabel('Catalog Coverage')\n",
    "plt.title('Catalog Coverage Test vs Sample Size')\n",
    "plt.legend(LEGEND)\n",
    "plt.grid(True)\n",
    "plt.show()"
   ]
  },
  {
   "cell_type": "markdown",
   "metadata": {},
   "source": [
    "# 5. Conclusion <a class=\"anchor\" id=\"5\"></a>"
   ]
  }
 ],
 "metadata": {
  "kernelspec": {
   "display_name": "Python 3",
   "language": "python",
   "name": "python3"
  },
  "language_info": {
   "codemirror_mode": {
    "name": "ipython",
    "version": 3
   },
   "file_extension": ".py",
   "mimetype": "text/x-python",
   "name": "python",
   "nbconvert_exporter": "python",
   "pygments_lexer": "ipython3",
   "version": "3.7.3"
  }
 },
 "nbformat": 4,
 "nbformat_minor": 2
}
