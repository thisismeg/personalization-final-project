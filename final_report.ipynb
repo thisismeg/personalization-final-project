{
 "cells": [
  {
   "cell_type": "markdown",
   "metadata": {},
   "source": [
    "# IEOR 4571 - Personalization - Final Project\n",
    "\n",
    "#### Team members: \n",
    "Name, UNI/email, Github ID\n",
    "* Megala Kannan, msk2245@columbia.edu, thisismeg\n",
    "* Hojin Lee, hl3328@columbia.edu, hjlee9295\n",
    "* Jung Ah Shin, js5569@columbia.edu, juliajungahshin\n",
    "* Tiffany Zhu, tz2196@columbia.edu, tlzhu19\n"
   ]
  },
  {
   "cell_type": "markdown",
   "metadata": {},
   "source": [
    "# TOC:\n",
    "* [1. Introduction](#1)\n",
    "* [2. Data Exploration](#2)\n",
    "* [3. Modeling](#3)\n",
    "    * [3.1 Baseline Models](#3-1)\n",
    "        * [3.1.1 Learned Bias Baseline Model](#3-1-1)\n",
    "        * [3.1.2 Collaborative Filtering Baseline Model](#3-1-2)\n",
    "    * [3.2 SVD++](#3-2)\n",
    "    * [3.3 Wide and Deep Model](#3-3)\n",
    "        * [3.3.1 Feature Selection](#3-3-1)\n",
    "        * [3.3.2 Modeling](#3-3-2)\n",
    "* [4. Evaluation](#4)\n",
    "    * [4.1 Accuracy](#4-1)\n",
    "    * [4.2 Coverage](#4-2)\n",
    "* [5. Conclusion](#5)\n"
   ]
  },
  {
   "cell_type": "markdown",
   "metadata": {},
   "source": [
    "# 1. Introduction <a class=\"anchor\" id=\"1\"></a>"
   ]
  },
  {
   "cell_type": "markdown",
   "metadata": {},
   "source": [
    "Yelp is a crowd-sourced review platform where users interact with businesses and other users through writing reviews and discovering new businesses.\n",
    "\n",
    "To make this platform more effective, we leverage various attributes of users, businesses, and reviews to provide better business recommendation for users. \n",
    "\n",
    "Our initial goal is to predict the last rating (final review) for each active user, where active users are those that gave 5 or more reviews. While aiming towards minimizing the difference between the actual rating and our prediction, we also want our recommendation model to provide diverse recommendations so that many users have an opportunity to explore new contents.\n",
    "\n",
    "In line with our objectives, we decided to explore several recommendation algorithms to gain a better understanding of the advantages and disadvantages each model provides.\n",
    "We chose SVD++, Non-negative Matrix Factorization(NMF), and Wide and Deep algorithms.\n",
    "\n",
    "We compare the aforementioned models with two baseline models, which are user and item bias baseline, and a vanilla Matrix Factorization model.\n",
    "\n",
    "To evaluate and compare the accuracy of our models, we used the following metrics: \n",
    "* RMSE \n",
    "\n",
    "These values would indicate how well our models perform compared to the baseline models.\n",
    "\n",
    "To evaluate the quality and diversity of our models, the following metrics are used:\n",
    "* Coverage\n",
    "* … \n",
    "\n",
    "Detailed description of each process is provided below."
   ]
  },
  {
   "cell_type": "markdown",
   "metadata": {},
   "source": [
    "# 2. Data Exploration <a class=\"anchor\" id=\"2\"></a>"
   ]
  },
  {
   "cell_type": "code",
   "execution_count": 110,
   "metadata": {},
   "outputs": [],
   "source": [
    "import pandas as pd\n",
    "import json\n",
    "from tqdm import tqdm\n",
    "\n",
    "import numpy as np # linear algebra\n",
    "import matplotlib.pyplot as plt\n",
    "import seaborn as sns\n",
    "%matplotlib inline\n",
    "plt.style.use('fivethirtyeight')\n",
    "\n",
    "import itertools\n",
    "from collections import Counter\n",
    "\n",
    "import warnings\n",
    "warnings.filterwarnings(\"ignore\")"
   ]
  },
  {
   "cell_type": "code",
   "execution_count": 111,
   "metadata": {},
   "outputs": [],
   "source": [
    "def convert_json_to_df(path, file_name, column_names):\n",
    "    '''\n",
    "    converts the json file into a pandas dataframe\n",
    "    path: string of path\n",
    "    file_name: string of json file name\n",
    "    column_names: the names of the json file attributes (used as the dataframe column names)\n",
    "    returns: dataframe\n",
    "    '''\n",
    "    line_count = len(open(path + file_name).readlines())    \n",
    "    columns_dict = {name: [] for name in column_names}\n",
    "\n",
    "    with open(path + file_name) as f:\n",
    "        for line in tqdm(f, total=line_count):\n",
    "            blob = json.loads(line)\n",
    "            \n",
    "            for key in column_names:\n",
    "                columns_dict[key].append(blob[key])\n",
    "    \n",
    "    return pd.DataFrame(columns_dict)"
   ]
  },
  {
   "cell_type": "code",
   "execution_count": 112,
   "metadata": {},
   "outputs": [],
   "source": [
    "path = \"/Users/tiffanyzhu/Downloads/yelp_dataset/\"\n",
    "file_name = \"review.json\""
   ]
  },
  {
   "cell_type": "code",
   "execution_count": 4,
   "metadata": {},
   "outputs": [
    {
     "name": "stderr",
     "output_type": "stream",
     "text": [
      "100%|██████████| 6685900/6685900 [01:21<00:00, 82502.81it/s]\n"
     ]
    }
   ],
   "source": [
    "# review.json\n",
    "ratings = convert_json_to_df(path, file_name, ['user_id', 'business_id', 'stars', 'date'])\n",
    "\n",
    "user_counts = ratings[\"user_id\"].value_counts()\n",
    "active_users = user_counts.loc[user_counts >= 5].index.tolist()"
   ]
  },
  {
   "cell_type": "code",
   "execution_count": 5,
   "metadata": {},
   "outputs": [
    {
     "data": {
      "text/plain": [
       "286130"
      ]
     },
     "execution_count": 5,
     "metadata": {},
     "output_type": "execute_result"
    }
   ],
   "source": [
    "len(active_users)"
   ]
  },
  {
   "cell_type": "code",
   "execution_count": 6,
   "metadata": {
    "scrolled": true
   },
   "outputs": [
    {
     "data": {
      "text/html": [
       "<div>\n",
       "<style scoped>\n",
       "    .dataframe tbody tr th:only-of-type {\n",
       "        vertical-align: middle;\n",
       "    }\n",
       "\n",
       "    .dataframe tbody tr th {\n",
       "        vertical-align: top;\n",
       "    }\n",
       "\n",
       "    .dataframe thead th {\n",
       "        text-align: right;\n",
       "    }\n",
       "</style>\n",
       "<table border=\"1\" class=\"dataframe\">\n",
       "  <thead>\n",
       "    <tr style=\"text-align: right;\">\n",
       "      <th></th>\n",
       "      <th>user_id</th>\n",
       "      <th>business_id</th>\n",
       "      <th>rating</th>\n",
       "      <th>date</th>\n",
       "    </tr>\n",
       "  </thead>\n",
       "  <tbody>\n",
       "    <tr>\n",
       "      <th>0</th>\n",
       "      <td>hG7b0MtEbXx5QzbzE6C_VA</td>\n",
       "      <td>ujmEBvifdJM6h6RLv4wQIg</td>\n",
       "      <td>1.0</td>\n",
       "      <td>2013-05-07 04:34:36</td>\n",
       "    </tr>\n",
       "    <tr>\n",
       "      <th>1</th>\n",
       "      <td>yXQM5uF2jS6es16SJzNHfg</td>\n",
       "      <td>NZnhc2sEQy3RmzKTZnqtwQ</td>\n",
       "      <td>5.0</td>\n",
       "      <td>2017-01-14 21:30:33</td>\n",
       "    </tr>\n",
       "    <tr>\n",
       "      <th>2</th>\n",
       "      <td>n6-Gk65cPZL6Uz8qRm3NYw</td>\n",
       "      <td>WTqjgwHlXbSFevF32_DJVw</td>\n",
       "      <td>5.0</td>\n",
       "      <td>2016-11-09 20:09:03</td>\n",
       "    </tr>\n",
       "    <tr>\n",
       "      <th>3</th>\n",
       "      <td>dacAIZ6fTM6mqwW5uxkskg</td>\n",
       "      <td>ikCg8xy5JIg_NGPx-MSIDA</td>\n",
       "      <td>5.0</td>\n",
       "      <td>2018-01-09 20:56:38</td>\n",
       "    </tr>\n",
       "    <tr>\n",
       "      <th>4</th>\n",
       "      <td>ssoyf2_x0EQMed6fgHeMyQ</td>\n",
       "      <td>b1b1eb3uo-w561D0ZfCEiQ</td>\n",
       "      <td>1.0</td>\n",
       "      <td>2018-01-30 23:07:38</td>\n",
       "    </tr>\n",
       "  </tbody>\n",
       "</table>\n",
       "</div>"
      ],
      "text/plain": [
       "                  user_id             business_id  rating                 date\n",
       "0  hG7b0MtEbXx5QzbzE6C_VA  ujmEBvifdJM6h6RLv4wQIg     1.0  2013-05-07 04:34:36\n",
       "1  yXQM5uF2jS6es16SJzNHfg  NZnhc2sEQy3RmzKTZnqtwQ     5.0  2017-01-14 21:30:33\n",
       "2  n6-Gk65cPZL6Uz8qRm3NYw  WTqjgwHlXbSFevF32_DJVw     5.0  2016-11-09 20:09:03\n",
       "3  dacAIZ6fTM6mqwW5uxkskg  ikCg8xy5JIg_NGPx-MSIDA     5.0  2018-01-09 20:56:38\n",
       "4  ssoyf2_x0EQMed6fgHeMyQ  b1b1eb3uo-w561D0ZfCEiQ     1.0  2018-01-30 23:07:38"
      ]
     },
     "execution_count": 6,
     "metadata": {},
     "output_type": "execute_result"
    }
   ],
   "source": [
    "ratings.rename(columns={'stars': 'rating'}, inplace=True)\n",
    "ratings.head()"
   ]
  },
  {
   "cell_type": "code",
   "execution_count": 6,
   "metadata": {},
   "outputs": [],
   "source": [
    "# can do the same for business.json, user.json, tip.json \n",
    "# for metadata info see https://www.yelp.com/dataset/documentation/main"
   ]
  },
  {
   "cell_type": "code",
   "execution_count": 99,
   "metadata": {},
   "outputs": [
    {
     "name": "stderr",
     "output_type": "stream",
     "text": [
      "100%|██████████| 192609/192609 [00:04<00:00, 41327.48it/s]\n"
     ]
    }
   ],
   "source": [
    "# business.json\n",
    "# todo: how to add 'attributes'?\n",
    "'''\n",
    "\"attributes\": {\n",
    "        \"RestaurantsTakeOut\": true,\n",
    "        \"BusinessParking\": {\n",
    "            \"garage\": false,\n",
    "            \"street\": true,\n",
    "            \"validated\": false,\n",
    "            \"lot\": false,\n",
    "            \"valet\": false\n",
    "        },\n",
    "'''\n",
    "\n",
    "businesses = convert_json_to_df(path, 'business.json', ['business_id', 'city', 'state', 'stars', \n",
    "                                                        'review_count', 'is_open', 'attributes', \n",
    "                                                        'categories', 'hours', 'latitude', 'longitude', 'name'])"
   ]
  },
  {
   "cell_type": "code",
   "execution_count": 100,
   "metadata": {},
   "outputs": [
    {
     "data": {
      "text/html": [
       "<div>\n",
       "<style scoped>\n",
       "    .dataframe tbody tr th:only-of-type {\n",
       "        vertical-align: middle;\n",
       "    }\n",
       "\n",
       "    .dataframe tbody tr th {\n",
       "        vertical-align: top;\n",
       "    }\n",
       "\n",
       "    .dataframe thead th {\n",
       "        text-align: right;\n",
       "    }\n",
       "</style>\n",
       "<table border=\"1\" class=\"dataframe\">\n",
       "  <thead>\n",
       "    <tr style=\"text-align: right;\">\n",
       "      <th></th>\n",
       "      <th>business_id</th>\n",
       "      <th>city</th>\n",
       "      <th>state</th>\n",
       "      <th>stars</th>\n",
       "      <th>review_count</th>\n",
       "      <th>is_open</th>\n",
       "      <th>attributes</th>\n",
       "      <th>categories</th>\n",
       "      <th>hours</th>\n",
       "      <th>latitude</th>\n",
       "      <th>longitude</th>\n",
       "      <th>name</th>\n",
       "    </tr>\n",
       "  </thead>\n",
       "  <tbody>\n",
       "    <tr>\n",
       "      <th>0</th>\n",
       "      <td>1SWheh84yJXfytovILXOAQ</td>\n",
       "      <td>Phoenix</td>\n",
       "      <td>AZ</td>\n",
       "      <td>3.0</td>\n",
       "      <td>5</td>\n",
       "      <td>0</td>\n",
       "      <td>{'GoodForKids': 'False'}</td>\n",
       "      <td>Golf, Active Life</td>\n",
       "      <td>None</td>\n",
       "      <td>33.522143</td>\n",
       "      <td>-112.018481</td>\n",
       "      <td>Arizona Biltmore Golf Club</td>\n",
       "    </tr>\n",
       "    <tr>\n",
       "      <th>1</th>\n",
       "      <td>QXAEGFB4oINsVuTFxEYKFQ</td>\n",
       "      <td>Mississauga</td>\n",
       "      <td>ON</td>\n",
       "      <td>2.5</td>\n",
       "      <td>128</td>\n",
       "      <td>1</td>\n",
       "      <td>{'RestaurantsReservations': 'True', 'GoodForMe...</td>\n",
       "      <td>Specialty Food, Restaurants, Dim Sum, Imported...</td>\n",
       "      <td>{'Monday': '9:0-0:0', 'Tuesday': '9:0-0:0', 'W...</td>\n",
       "      <td>43.605499</td>\n",
       "      <td>-79.652289</td>\n",
       "      <td>Emerald Chinese Restaurant</td>\n",
       "    </tr>\n",
       "    <tr>\n",
       "      <th>2</th>\n",
       "      <td>gnKjwL_1w79qoiV3IC_xQQ</td>\n",
       "      <td>Charlotte</td>\n",
       "      <td>NC</td>\n",
       "      <td>4.0</td>\n",
       "      <td>170</td>\n",
       "      <td>1</td>\n",
       "      <td>{'GoodForKids': 'True', 'NoiseLevel': 'u'avera...</td>\n",
       "      <td>Sushi Bars, Restaurants, Japanese</td>\n",
       "      <td>{'Monday': '17:30-21:30', 'Wednesday': '17:30-...</td>\n",
       "      <td>35.092564</td>\n",
       "      <td>-80.859132</td>\n",
       "      <td>Musashi Japanese Restaurant</td>\n",
       "    </tr>\n",
       "    <tr>\n",
       "      <th>3</th>\n",
       "      <td>xvX2CttrVhyG2z1dFg_0xw</td>\n",
       "      <td>Goodyear</td>\n",
       "      <td>AZ</td>\n",
       "      <td>5.0</td>\n",
       "      <td>3</td>\n",
       "      <td>1</td>\n",
       "      <td>None</td>\n",
       "      <td>Insurance, Financial Services</td>\n",
       "      <td>{'Monday': '8:0-17:0', 'Tuesday': '8:0-17:0', ...</td>\n",
       "      <td>33.455613</td>\n",
       "      <td>-112.395596</td>\n",
       "      <td>Farmers Insurance - Paul Lorenz</td>\n",
       "    </tr>\n",
       "    <tr>\n",
       "      <th>4</th>\n",
       "      <td>HhyxOkGAM07SRYtlQ4wMFQ</td>\n",
       "      <td>Charlotte</td>\n",
       "      <td>NC</td>\n",
       "      <td>4.0</td>\n",
       "      <td>4</td>\n",
       "      <td>1</td>\n",
       "      <td>{'BusinessAcceptsBitcoin': 'False', 'ByAppoint...</td>\n",
       "      <td>Plumbing, Shopping, Local Services, Home Servi...</td>\n",
       "      <td>{'Monday': '7:0-23:0', 'Tuesday': '7:0-23:0', ...</td>\n",
       "      <td>35.190012</td>\n",
       "      <td>-80.887223</td>\n",
       "      <td>Queen City Plumbing</td>\n",
       "    </tr>\n",
       "  </tbody>\n",
       "</table>\n",
       "</div>"
      ],
      "text/plain": [
       "              business_id         city state  stars  review_count  is_open  \\\n",
       "0  1SWheh84yJXfytovILXOAQ      Phoenix    AZ    3.0             5        0   \n",
       "1  QXAEGFB4oINsVuTFxEYKFQ  Mississauga    ON    2.5           128        1   \n",
       "2  gnKjwL_1w79qoiV3IC_xQQ    Charlotte    NC    4.0           170        1   \n",
       "3  xvX2CttrVhyG2z1dFg_0xw     Goodyear    AZ    5.0             3        1   \n",
       "4  HhyxOkGAM07SRYtlQ4wMFQ    Charlotte    NC    4.0             4        1   \n",
       "\n",
       "                                          attributes  \\\n",
       "0                           {'GoodForKids': 'False'}   \n",
       "1  {'RestaurantsReservations': 'True', 'GoodForMe...   \n",
       "2  {'GoodForKids': 'True', 'NoiseLevel': 'u'avera...   \n",
       "3                                               None   \n",
       "4  {'BusinessAcceptsBitcoin': 'False', 'ByAppoint...   \n",
       "\n",
       "                                          categories  \\\n",
       "0                                  Golf, Active Life   \n",
       "1  Specialty Food, Restaurants, Dim Sum, Imported...   \n",
       "2                  Sushi Bars, Restaurants, Japanese   \n",
       "3                      Insurance, Financial Services   \n",
       "4  Plumbing, Shopping, Local Services, Home Servi...   \n",
       "\n",
       "                                               hours   latitude   longitude  \\\n",
       "0                                               None  33.522143 -112.018481   \n",
       "1  {'Monday': '9:0-0:0', 'Tuesday': '9:0-0:0', 'W...  43.605499  -79.652289   \n",
       "2  {'Monday': '17:30-21:30', 'Wednesday': '17:30-...  35.092564  -80.859132   \n",
       "3  {'Monday': '8:0-17:0', 'Tuesday': '8:0-17:0', ...  33.455613 -112.395596   \n",
       "4  {'Monday': '7:0-23:0', 'Tuesday': '7:0-23:0', ...  35.190012  -80.887223   \n",
       "\n",
       "                              name  \n",
       "0       Arizona Biltmore Golf Club  \n",
       "1       Emerald Chinese Restaurant  \n",
       "2      Musashi Japanese Restaurant  \n",
       "3  Farmers Insurance - Paul Lorenz  \n",
       "4              Queen City Plumbing  "
      ]
     },
     "execution_count": 100,
     "metadata": {},
     "output_type": "execute_result"
    }
   ],
   "source": [
    "businesses.head()"
   ]
  },
  {
   "cell_type": "code",
   "execution_count": 13,
   "metadata": {},
   "outputs": [
    {
     "name": "stderr",
     "output_type": "stream",
     "text": [
      "100%|██████████| 1637138/1637138 [00:35<00:00, 46222.22it/s]\n"
     ]
    }
   ],
   "source": [
    "# user.json\n",
    "users = convert_json_to_df(path, 'user.json', ['user_id', 'review_count', 'friends', 'useful', \n",
    "                                               'funny', 'cool', 'fans', 'elite', 'average_stars', \n",
    "                                               'compliment_hot', 'compliment_more', 'compliment_profile',\n",
    "                                               'compliment_cute', 'compliment_list', 'compliment_note',\n",
    "                                               'compliment_plain', 'compliment_cool', 'compliment_funny',\n",
    "                                               'compliment_writer', 'compliment_photos'\n",
    "                                              ])"
   ]
  },
  {
   "cell_type": "code",
   "execution_count": 20,
   "metadata": {},
   "outputs": [
    {
     "data": {
      "text/html": [
       "<div>\n",
       "<style scoped>\n",
       "    .dataframe tbody tr th:only-of-type {\n",
       "        vertical-align: middle;\n",
       "    }\n",
       "\n",
       "    .dataframe tbody tr th {\n",
       "        vertical-align: top;\n",
       "    }\n",
       "\n",
       "    .dataframe thead th {\n",
       "        text-align: right;\n",
       "    }\n",
       "</style>\n",
       "<table border=\"1\" class=\"dataframe\">\n",
       "  <thead>\n",
       "    <tr style=\"text-align: right;\">\n",
       "      <th></th>\n",
       "      <th>user_id</th>\n",
       "      <th>review_count</th>\n",
       "      <th>friends</th>\n",
       "      <th>useful</th>\n",
       "      <th>funny</th>\n",
       "      <th>cool</th>\n",
       "      <th>fans</th>\n",
       "      <th>elite</th>\n",
       "      <th>average_stars</th>\n",
       "      <th>compliment_hot</th>\n",
       "      <th>compliment_more</th>\n",
       "      <th>compliment_profile</th>\n",
       "      <th>compliment_cute</th>\n",
       "      <th>compliment_list</th>\n",
       "      <th>compliment_note</th>\n",
       "      <th>compliment_plain</th>\n",
       "      <th>compliment_cool</th>\n",
       "      <th>compliment_funny</th>\n",
       "      <th>compliment_writer</th>\n",
       "      <th>compliment_photos</th>\n",
       "    </tr>\n",
       "  </thead>\n",
       "  <tbody>\n",
       "    <tr>\n",
       "      <th>0</th>\n",
       "      <td>l6BmjZMeQD3rDxWUbiAiow</td>\n",
       "      <td>95</td>\n",
       "      <td>c78V-rj8NQcQjOI8KP3UEA, alRMgPcngYSCJ5naFRBz5g...</td>\n",
       "      <td>84</td>\n",
       "      <td>17</td>\n",
       "      <td>25</td>\n",
       "      <td>5</td>\n",
       "      <td>2015,2016,2017</td>\n",
       "      <td>4.03</td>\n",
       "      <td>2</td>\n",
       "      <td>0</td>\n",
       "      <td>0</td>\n",
       "      <td>0</td>\n",
       "      <td>0</td>\n",
       "      <td>1</td>\n",
       "      <td>1</td>\n",
       "      <td>1</td>\n",
       "      <td>1</td>\n",
       "      <td>2</td>\n",
       "      <td>0</td>\n",
       "    </tr>\n",
       "    <tr>\n",
       "      <th>1</th>\n",
       "      <td>4XChL029mKr5hydo79Ljxg</td>\n",
       "      <td>33</td>\n",
       "      <td>kEBTgDvFX754S68FllfCaA, aB2DynOxNOJK9st2ZeGTPg...</td>\n",
       "      <td>48</td>\n",
       "      <td>22</td>\n",
       "      <td>16</td>\n",
       "      <td>4</td>\n",
       "      <td></td>\n",
       "      <td>3.63</td>\n",
       "      <td>1</td>\n",
       "      <td>0</td>\n",
       "      <td>0</td>\n",
       "      <td>0</td>\n",
       "      <td>0</td>\n",
       "      <td>0</td>\n",
       "      <td>0</td>\n",
       "      <td>1</td>\n",
       "      <td>1</td>\n",
       "      <td>0</td>\n",
       "      <td>0</td>\n",
       "    </tr>\n",
       "    <tr>\n",
       "      <th>2</th>\n",
       "      <td>bc8C_eETBWL0olvFSJJd0w</td>\n",
       "      <td>16</td>\n",
       "      <td>4N-HU_T32hLENLntsNKNBg, pSY2vwWLgWfGVAAiKQzMng...</td>\n",
       "      <td>28</td>\n",
       "      <td>8</td>\n",
       "      <td>10</td>\n",
       "      <td>0</td>\n",
       "      <td></td>\n",
       "      <td>3.71</td>\n",
       "      <td>0</td>\n",
       "      <td>0</td>\n",
       "      <td>0</td>\n",
       "      <td>0</td>\n",
       "      <td>0</td>\n",
       "      <td>1</td>\n",
       "      <td>0</td>\n",
       "      <td>0</td>\n",
       "      <td>0</td>\n",
       "      <td>0</td>\n",
       "      <td>0</td>\n",
       "    </tr>\n",
       "    <tr>\n",
       "      <th>3</th>\n",
       "      <td>dD0gZpBctWGdWo9WlGuhlA</td>\n",
       "      <td>17</td>\n",
       "      <td>RZ6wS38wnlXyj-OOdTzBxA, l5jxZh1KsgI8rMunm-GN6A...</td>\n",
       "      <td>30</td>\n",
       "      <td>4</td>\n",
       "      <td>14</td>\n",
       "      <td>5</td>\n",
       "      <td></td>\n",
       "      <td>4.85</td>\n",
       "      <td>1</td>\n",
       "      <td>0</td>\n",
       "      <td>0</td>\n",
       "      <td>0</td>\n",
       "      <td>0</td>\n",
       "      <td>0</td>\n",
       "      <td>2</td>\n",
       "      <td>0</td>\n",
       "      <td>0</td>\n",
       "      <td>1</td>\n",
       "      <td>0</td>\n",
       "    </tr>\n",
       "    <tr>\n",
       "      <th>4</th>\n",
       "      <td>MM4RJAeH6yuaN8oZDSt0RA</td>\n",
       "      <td>361</td>\n",
       "      <td>mbwrZ-RS76V1HoJ0bF_Geg, g64lOV39xSLRZO0aQQ6DeQ...</td>\n",
       "      <td>1114</td>\n",
       "      <td>279</td>\n",
       "      <td>665</td>\n",
       "      <td>39</td>\n",
       "      <td>2015,2016,2017,2018</td>\n",
       "      <td>4.08</td>\n",
       "      <td>28</td>\n",
       "      <td>1</td>\n",
       "      <td>0</td>\n",
       "      <td>0</td>\n",
       "      <td>1</td>\n",
       "      <td>16</td>\n",
       "      <td>57</td>\n",
       "      <td>80</td>\n",
       "      <td>80</td>\n",
       "      <td>25</td>\n",
       "      <td>5</td>\n",
       "    </tr>\n",
       "  </tbody>\n",
       "</table>\n",
       "</div>"
      ],
      "text/plain": [
       "                  user_id  review_count  \\\n",
       "0  l6BmjZMeQD3rDxWUbiAiow            95   \n",
       "1  4XChL029mKr5hydo79Ljxg            33   \n",
       "2  bc8C_eETBWL0olvFSJJd0w            16   \n",
       "3  dD0gZpBctWGdWo9WlGuhlA            17   \n",
       "4  MM4RJAeH6yuaN8oZDSt0RA           361   \n",
       "\n",
       "                                             friends  useful  funny  cool  \\\n",
       "0  c78V-rj8NQcQjOI8KP3UEA, alRMgPcngYSCJ5naFRBz5g...      84     17    25   \n",
       "1  kEBTgDvFX754S68FllfCaA, aB2DynOxNOJK9st2ZeGTPg...      48     22    16   \n",
       "2  4N-HU_T32hLENLntsNKNBg, pSY2vwWLgWfGVAAiKQzMng...      28      8    10   \n",
       "3  RZ6wS38wnlXyj-OOdTzBxA, l5jxZh1KsgI8rMunm-GN6A...      30      4    14   \n",
       "4  mbwrZ-RS76V1HoJ0bF_Geg, g64lOV39xSLRZO0aQQ6DeQ...    1114    279   665   \n",
       "\n",
       "   fans                elite  average_stars  compliment_hot  compliment_more  \\\n",
       "0     5       2015,2016,2017           4.03               2                0   \n",
       "1     4                                3.63               1                0   \n",
       "2     0                                3.71               0                0   \n",
       "3     5                                4.85               1                0   \n",
       "4    39  2015,2016,2017,2018           4.08              28                1   \n",
       "\n",
       "   compliment_profile  compliment_cute  compliment_list  compliment_note  \\\n",
       "0                   0                0                0                1   \n",
       "1                   0                0                0                0   \n",
       "2                   0                0                0                1   \n",
       "3                   0                0                0                0   \n",
       "4                   0                0                1               16   \n",
       "\n",
       "   compliment_plain  compliment_cool  compliment_funny  compliment_writer  \\\n",
       "0                 1                1                 1                  2   \n",
       "1                 0                1                 1                  0   \n",
       "2                 0                0                 0                  0   \n",
       "3                 2                0                 0                  1   \n",
       "4                57               80                80                 25   \n",
       "\n",
       "   compliment_photos  \n",
       "0                  0  \n",
       "1                  0  \n",
       "2                  0  \n",
       "3                  0  \n",
       "4                  5  "
      ]
     },
     "execution_count": 20,
     "metadata": {},
     "output_type": "execute_result"
    }
   ],
   "source": [
    "users.head()"
   ]
  },
  {
   "cell_type": "code",
   "execution_count": 14,
   "metadata": {},
   "outputs": [
    {
     "name": "stderr",
     "output_type": "stream",
     "text": [
      "100%|██████████| 1223094/1223094 [00:09<00:00, 122404.61it/s]\n"
     ]
    }
   ],
   "source": [
    "# tip.json\n",
    "tips =  convert_json_to_df(path, 'tip.json', ['text', 'date', 'compliment_count', 'business_id', 'user_id'])"
   ]
  },
  {
   "cell_type": "code",
   "execution_count": 29,
   "metadata": {},
   "outputs": [
    {
     "name": "stderr",
     "output_type": "stream",
     "text": [
      "100%|██████████| 200000/200000 [00:01<00:00, 194952.47it/s]\n"
     ]
    }
   ],
   "source": [
    "photos = convert_json_to_df(path, 'photo.json', ['photo_id', 'business_id'])"
   ]
  },
  {
   "cell_type": "code",
   "execution_count": 80,
   "metadata": {},
   "outputs": [
    {
     "data": {
      "text/plain": [
       "[Text(0.5, 0, 'Rating'), Text(0.5, 1.0, 'Distribution of Ratings')]"
      ]
     },
     "execution_count": 80,
     "metadata": {},
     "output_type": "execute_result"
    },
    {
     "data": {
      "image/png": "[encoded data removed]",
      "text/plain": [
       "<Figure size 432x288 with 1 Axes>"
      ]
     },
     "metadata": {},
     "output_type": "display_data"
    }
   ],
   "source": [
    "chart = sns.countplot(x='stars',data=businesses)\n",
    "chart.set(xlabel='Rating', title='Distribution of Ratings')"
   ]
  },
  {
   "cell_type": "code",
   "execution_count": 97,
   "metadata": {},
   "outputs": [
    {
     "data": {
      "image/png": "[encoded data removed]",
      "text/plain": [
       "<Figure size 432x288 with 1 Axes>"
      ]
     },
     "metadata": {},
     "output_type": "display_data"
    }
   ],
   "source": [
    "catList = []\n",
    "businesses['categories'].fillna(value='',inplace=True)\n",
    "businesses['cat'] = businesses['categories'].apply(lambda x: x.split(','))\n",
    "catList.extend(businesses['cat'])\n",
    "merged = [x.strip() for x in list(itertools.chain(*catList))]\n",
    "\n",
    "mostCommon = Counter(merged).most_common(15)\n",
    "mostCommonKeys = [x for x in list(itertools.chain(*mostCommon)) if type(x) != int]\n",
    "mostCommonValues = [x for x in list(itertools.chain(*mostCommon)) if type(x) == int]\n",
    "\n",
    "df = pd.DataFrame({'y': mostCommonValues, 'categories': mostCommonKeys})\n",
    "ax = df.plot.barh(x='categories', y='y')\n",
    "ax.invert_yaxis()"
   ]
  },
  {
   "cell_type": "code",
   "execution_count": 193,
   "metadata": {},
   "outputs": [
    {
     "name": "stdout",
     "output_type": "stream",
     "text": [
      "business covered percentage when k = 5 : 0.7069243908643936\n",
      "business covered percentage when k = 10 : 0.8770670114065282\n",
      "business covered percentage when k = 20 : 0.9306418703175864\n"
     ]
    }
   ],
   "source": [
    "topKBusiness = [5,10,20]\n",
    "\n",
    "for n in topKBusiness:\n",
    "    catList = []\n",
    "    businesses['categories'].fillna(value='',inplace=True)\n",
    "    businesses['cat'] = businesses['categories'].apply(lambda x: x.split(','))\n",
    "    catList.extend(businesses['cat'])\n",
    "    merged = [x.strip() for x in list(itertools.chain(*catList))]\n",
    "    mostCommon = Counter(merged).most_common(n)\n",
    "    mostCommonKeys = [x for x in list(itertools.chain(*mostCommon)) if type(x) != int]\n",
    "    mostCommonValues = [x for x in list(itertools.chain(*mostCommon)) if type(x) == int]\n",
    "\n",
    "    colName = 'Top' + str(n)\n",
    "    businesses[colName] = businesses['cat'].apply(lambda categories: 1 if bool(set([y.strip() for y in categories]).intersection(mostCommonKeys)) else 0)   \n",
    "    print('business covered percentage when k =', n, \":\", businesses[colName].mean())"
   ]
  },
  {
   "cell_type": "code",
   "execution_count": 104,
   "metadata": {},
   "outputs": [
    {
     "data": {
      "image/png": "[encoded data removed]",
      "text/plain": [
       "<Figure size 864x432 with 1 Axes>"
      ]
     },
     "metadata": {},
     "output_type": "display_data"
    }
   ],
   "source": [
    "df = ratings.merge(businesses[['business_id', 'name']], on='business_id')\n",
    "plt.figure(figsize=(12,6))\n",
    "\n",
    "chart = sns.countplot(x='name',data=df, order=pd.value_counts(df['name']).iloc[:10].index)\n",
    "chart.set(title='Distribution of Ratings by Business')\n",
    "var = chart.set_xticklabels(chart.get_xticklabels(), rotation=45)"
   ]
  },
  {
   "cell_type": "code",
   "execution_count": 246,
   "metadata": {},
   "outputs": [
    {
     "data": {
      "text/plain": [
       "count    286130.000000\n",
       "mean         15.860874\n",
       "std          32.607378\n",
       "min           5.000000\n",
       "25%           6.000000\n",
       "50%           8.000000\n",
       "75%          15.000000\n",
       "max        4129.000000\n",
       "Name: user_id, dtype: float64"
      ]
     },
     "execution_count": 246,
     "metadata": {},
     "output_type": "execute_result"
    }
   ],
   "source": [
    "user_counts[user_counts.values >= 5].describe()"
   ]
  },
  {
   "cell_type": "code",
   "execution_count": 248,
   "metadata": {},
   "outputs": [
    {
     "data": {
      "text/plain": [
       "[Text(0.5, 0, 'Ratings'),\n",
       " Text(0.5, 1.0, 'Distribution of Ratings of Active Users')]"
      ]
     },
     "execution_count": 248,
     "metadata": {},
     "output_type": "execute_result"
    },
    {
     "data": {
      "image/png": "[encoded data removed]",
      "text/plain": [
       "<Figure size 432x288 with 1 Axes>"
      ]
     },
     "metadata": {},
     "output_type": "display_data"
    }
   ],
   "source": [
    "chart = sns.distplot(user_counts.values[user_counts.values > 15], norm_hist=True, hist=False, bins=5)\n",
    "chart.set(title='Distribution of Ratings of Active Users', xlabel='Ratings')"
   ]
  },
  {
   "cell_type": "markdown",
   "metadata": {},
   "source": [
    "# 3. Modeling <a class=\"anchor\" id=\"3\"></a>"
   ]
  },
  {
   "cell_type": "markdown",
   "metadata": {},
   "source": [
    "## 3.0 Sampling Data"
   ]
  },
  {
   "cell_type": "markdown",
   "metadata": {},
   "source": [
    "By identifying and filtering the users who gave 5 or more reviews, there are 286,130 active users and about 4.5 million ratings.\n",
    "\n",
    "Since we wanted to evaluate the performance on several models, we first sampled the active user data where there are 1000, 10,000, and 50,000 users (where 50,000 users account for approximately 17.5% of the entire data).\n",
    "\n",
    "For this given dataset, we wanted to sample by users to ensure that our sample dataset would contain an entire user-business interaction history of the sampled users. That way, it would align with our goal of predicting the last rating for each active user based on the entire user-business interaction history.\n",
    "\n",
    "Furthermore, since users’ preference towards restaurants could gradually change over time, we believe that it would be reasonable to split our train and test data so that the train data would contain the earlier reviews, and the test data would consist of the latter reviews given by the users. That way, while we are supposedly predicting “future” reviews,  it is also consistent with our objective of predicting the final star rating (by date) given by the user. \n",
    "\n",
    "We also analyzed the categories for each business. Based on this analysis, we decided to use the top-5 categories to feed into our model. This is because they account for approximately 70% of the businesses in our data.\n"
   ]
  },
  {
   "cell_type": "code",
   "execution_count": 185,
   "metadata": {},
   "outputs": [
    {
     "data": {
      "text/plain": [
       "4538272"
      ]
     },
     "execution_count": 185,
     "metadata": {},
     "output_type": "execute_result"
    }
   ],
   "source": [
    "active_user_only_ratings_df = ratings[ratings['user_id'].isin(active_users)]\n",
    "len(active_user_only_ratings_df)"
   ]
  },
  {
   "cell_type": "code",
   "execution_count": 186,
   "metadata": {},
   "outputs": [
    {
     "data": {
      "text/plain": [
       "286130"
      ]
     },
     "execution_count": 186,
     "metadata": {},
     "output_type": "execute_result"
    }
   ],
   "source": [
    "len(active_user_only_ratings_df['user_id'].unique())"
   ]
  },
  {
   "cell_type": "code",
   "execution_count": 199,
   "metadata": {},
   "outputs": [],
   "source": [
    "import datetime as dt\n",
    "\n",
    "def get_sample_size_n(active_user_only_ratings_df, n=100): \n",
    "    sample_size = [n]\n",
    "\n",
    "    for s in sample_size:\n",
    "        sampleUID = active_user_only_ratings_df['user_id'].unique()[np.random.randint(active_user_only_ratings_df['user_id'].unique().shape[0], size=s)]\n",
    "        active_user_only_ratings_df_sample = active_user_only_ratings_df[active_user_only_ratings_df['user_id'].isin(sampleUID)]\n",
    "    \n",
    "    active_user_only_ratings_df_sample['date'] = pd.to_datetime(active_user_only_ratings_df_sample['date'])\n",
    "\n",
    "    # take 80% of reviews for each user sampled\n",
    "    training_data = active_user_only_ratings_df_sample.sort_values(by=['user_id', 'date']).groupby('user_id').apply(lambda x: x[:round(len(x)*.8)]).reset_index(drop=True)\n",
    "\n",
    "    # take 20% of reviews for each user sampled\n",
    "    testing_data = active_user_only_ratings_df_sample.sort_values(by=['user_id', 'date']).groupby('user_id').apply(lambda x: x[round(len(x)*.8):]).reset_index(drop=True)\n",
    "    \n",
    "    return active_user_only_ratings_df_sample, training_data, testing_data"
   ]
  },
  {
   "cell_type": "code",
   "execution_count": 200,
   "metadata": {},
   "outputs": [],
   "source": [
    "def print_df_info(n, total_df, training_df, testing_df):\n",
    "    print('Total Number of Ratings: ', len(total_df))\n",
    "    print('Total Number of Users: ', n)\n",
    "    print(\"Training Size: \", len(training_df))\n",
    "    print(\"Testing Size: \", len(testing_df))"
   ]
  },
  {
   "cell_type": "code",
   "execution_count": 204,
   "metadata": {},
   "outputs": [
    {
     "name": "stdout",
     "output_type": "stream",
     "text": [
      "Total Number of Ratings:  1612\n",
      "Total Number of Users:  1000\n",
      "Training Size:  1289\n",
      "Testing Size:  323\n"
     ]
    }
   ],
   "source": [
    "sample_sizes = [1000, 10000, 50000]\n",
    "active_user_only_ratings_df_sample, training_data, testing_data = get_sample_size_n(active_user_only_ratings_df)\n",
    "print_df_info(sample_sizes[0], active_user_only_ratings_df_sample, training_data, testing_data)"
   ]
  },
  {
   "cell_type": "code",
   "execution_count": 207,
   "metadata": {},
   "outputs": [
    {
     "name": "stdout",
     "output_type": "stream",
     "text": [
      "Total Number of Ratings:  152113\n",
      "Total Number of Users:  10000\n",
      "Training Size:  122070\n",
      "Testing Size:  30043\n"
     ]
    }
   ],
   "source": [
    "active_user_only_ratings_df_sample2, training_data2, testing_data2 = get_sample_size_n(active_user_only_ratings_df, sample_sizes[1])\n",
    "print_df_info(sample_sizes[1], active_user_only_ratings_df_sample2, training_data2, testing_data2)"
   ]
  },
  {
   "cell_type": "code",
   "execution_count": 208,
   "metadata": {},
   "outputs": [
    {
     "name": "stdout",
     "output_type": "stream",
     "text": [
      "Total Number of Ratings:  739984\n",
      "Total Number of Users:  50000\n",
      "Training Size:  593536\n",
      "Testing Size:  146448\n"
     ]
    }
   ],
   "source": [
    "active_user_only_ratings_df_sample3, training_data3, testing_data3 = get_sample_size_n(active_user_only_ratings_df, sample_sizes[2])\n",
    "print_df_info(sample_sizes[2], active_user_only_ratings_df_sample3, training_data3, testing_data3)"
   ]
  },
  {
   "cell_type": "markdown",
   "metadata": {},
   "source": [
    "## 3.1 Baseline Model <a class=\"anchor\" id=\"3-1\"></a>"
   ]
  },
  {
   "cell_type": "markdown",
   "metadata": {},
   "source": [
    "### 3.1.1 Learned Bias Baseline Model <a class=\"anchor\" id=\"3-1-1\"></a>"
   ]
  },
  {
   "cell_type": "code",
   "execution_count": 153,
   "metadata": {},
   "outputs": [],
   "source": [
    "def find_average_user_ratings(ratings_df):\n",
    "    ratings_series = ratings_df.groupby('user_id')['rating'].mean()\n",
    "    return pd.DataFrame({'user_id':ratings_series.index, 'rating':ratings_series.values})\n",
    "\n",
    "# average_user_ratings = find_average_user_ratings(X_data)"
   ]
  },
  {
   "cell_type": "code",
   "execution_count": 154,
   "metadata": {},
   "outputs": [],
   "source": [
    "def find_average_business_ratings(ratings_df):    \n",
    "    ratings_series = ratings_df.groupby('business_id')['rating'].mean()\n",
    "    return pd.DataFrame({'business_id':ratings_series.index, 'rating':ratings_series.values})\n",
    "\n",
    "# average_business_ratings = find_average_business_ratings(X_data)"
   ]
  },
  {
   "cell_type": "code",
   "execution_count": 174,
   "metadata": {},
   "outputs": [
    {
     "name": "stdout",
     "output_type": "stream",
     "text": [
      "avg_business_ratings created!\n",
      "predicted_rating created!\n",
      "avg_business_ratings created!\n",
      "predicted_rating created!\n"
     ]
    }
   ],
   "source": [
    "# ratings_df - for each user need to remove its last review\n",
    "\n",
    "def predict_learned_bias(actual_ratings, average_user_ratings, average_business_ratings):\n",
    "\n",
    "    avg_business_ratings_dict = dict(zip(average_business_ratings.business_id, average_business_ratings.rating))\n",
    "    \n",
    "    def find_business_avg(row):\n",
    "        #todo: what if business we are trying to predict was not seen? give it 3 (out of 5)?\n",
    "        return avg_business_ratings_dict.get(row['business_id'], 4)  \n",
    "    \n",
    "    avg_business_ratings = actual_ratings.apply(find_business_avg, axis=1)\n",
    "    print('avg_business_ratings created!')\n",
    "    \n",
    "    # we are assuming that the order is the same in each avg_business_ratings and average_user_ratings\n",
    "    predicted_rating = (avg_business_ratings + average_user_ratings['rating']) / 2\n",
    "    print('predicted_rating created!')\n",
    "    \n",
    "    actual_ratings['predicted_rating'] = predicted_rating.values\n",
    "    \n",
    "    return actual_ratings\n",
    "    \n",
    "# baseline_line_predictions_test = predict_learned_bias(y_data, average_user_ratings, average_business_ratings)\n",
    "# baseline_line_predictions_train = predict_learned_bias(X_data, average_user_ratings, average_business_ratings)"
   ]
  },
  {
   "cell_type": "code",
   "execution_count": 139,
   "metadata": {},
   "outputs": [],
   "source": [
    "def calculate_catalog_coverage(ratingsDict, N, k=3, pred_col_name='predicted_rating'):\n",
    "    '''\n",
    "    k: top k businesses\n",
    "    N: total number of businesses\n",
    "    '''\n",
    "    \n",
    "    recList = []\n",
    "    for keys in ratingsDict.keys():\n",
    "        \n",
    "        if k >= len(ratingsDict[keys]):\n",
    "            for row in ratingsDict[keys]:\n",
    "                recList.append(row['business_id'])\n",
    "        else:\n",
    "            for index, item in enumerate(sorted(ratingsDict[keys], key=lambda x: -x[pred_col_name])):\n",
    "                if index+1 <= k:\n",
    "                    recList.append(item['business_id'])\n",
    "                else:\n",
    "                    pass\n",
    "\n",
    "    recommended_set = set(recList)\n",
    "\n",
    "    coverage = (len(recommended_set) / N) * 100\n",
    "    print('Catalog Coverage: {}%'.format(coverage))\n",
    "    return coverage"
   ]
  },
  {
   "cell_type": "code",
   "execution_count": 195,
   "metadata": {},
   "outputs": [],
   "source": [
    "def run_baseline_model(df):\n",
    "    X_data = df.sort_values(by=['user_id', 'date']).groupby('user_id').apply(lambda x: x[:-1]).reset_index(drop=True)\n",
    "    y_data = df.sort_values(by=['user_id', 'date']).groupby('user_id').apply(lambda x: x[-1:]).reset_index(drop=True)\n",
    "    \n",
    "    average_user_ratings = find_average_user_ratings(X_data)\n",
    "    average_business_ratings = find_average_business_ratings(X_data)\n",
    "    \n",
    "    baseline_line_predictions_test = predict_learned_bias(y_data, average_user_ratings, average_business_ratings)\n",
    "    baseline_line_predictions_train = predict_learned_bias(X_data, average_user_ratings, average_business_ratings)\n",
    "    \n",
    "    N = len(baseline_line_predictions_test)\n",
    "    baseline_rmse_test = np.sum(np.sqrt(((baseline_line_predictions_test['predicted_rating'] - baseline_line_predictions_test['rating']) / N) ** 2))\n",
    "    \n",
    "    baseline_line_predictions_dict = dict(baseline_line_predictions_train.set_index('user_id').groupby(level = 0).apply(lambda x : x.to_dict(orient= 'records')))\n",
    "    N = len(baseline_line_predictions_train['business_id'].unique())\n",
    "    coverage = calculate_catalog_coverage(baseline_line_predictions_dict, N, k=5)\n",
    "\n",
    "    return baseline_rmse_test, coverage"
   ]
  },
  {
   "cell_type": "code",
   "execution_count": 196,
   "metadata": {},
   "outputs": [
    {
     "name": "stdout",
     "output_type": "stream",
     "text": [
      "avg_business_ratings created!\n",
      "predicted_rating created!\n",
      "avg_business_ratings created!\n",
      "predicted_rating created!\n",
      "Catalog Coverage: 40.49955396966994%\n"
     ]
    }
   ],
   "source": [
    "rmse, coverage = run_baseline_model(active_user_only_ratings_df_sample)"
   ]
  },
  {
   "cell_type": "code",
   "execution_count": 197,
   "metadata": {},
   "outputs": [
    {
     "data": {
      "text/plain": [
       "(1.1530508932251118, 40.49955396966994)"
      ]
     },
     "execution_count": 197,
     "metadata": {},
     "output_type": "execute_result"
    }
   ],
   "source": [
    "rmse, coverage "
   ]
  },
  {
   "cell_type": "code",
   "execution_count": 209,
   "metadata": {},
   "outputs": [
    {
     "name": "stdout",
     "output_type": "stream",
     "text": [
      "avg_business_ratings created!\n",
      "predicted_rating created!\n",
      "avg_business_ratings created!\n",
      "predicted_rating created!\n",
      "Catalog Coverage: 48.15294181092595%\n"
     ]
    }
   ],
   "source": [
    "rmse2, coverage2 = run_baseline_model(active_user_only_ratings_df_sample2)"
   ]
  },
  {
   "cell_type": "code",
   "execution_count": 210,
   "metadata": {},
   "outputs": [
    {
     "data": {
      "text/plain": [
       "(1.1409001004201271, 48.15294181092595)"
      ]
     },
     "execution_count": 210,
     "metadata": {},
     "output_type": "execute_result"
    }
   ],
   "source": [
    "rmse2, coverage2"
   ]
  },
  {
   "cell_type": "code",
   "execution_count": 211,
   "metadata": {},
   "outputs": [
    {
     "name": "stdout",
     "output_type": "stream",
     "text": [
      "avg_business_ratings created!\n",
      "predicted_rating created!\n",
      "avg_business_ratings created!\n",
      "predicted_rating created!\n",
      "Catalog Coverage: 58.35646295571032%\n"
     ]
    }
   ],
   "source": [
    "rmse3, coverage3 = run_baseline_model(active_user_only_ratings_df_sample3)"
   ]
  },
  {
   "cell_type": "code",
   "execution_count": 212,
   "metadata": {},
   "outputs": [
    {
     "data": {
      "text/plain": [
       "(1.1135921457245015, 58.35646295571032)"
      ]
     },
     "execution_count": 212,
     "metadata": {},
     "output_type": "execute_result"
    }
   ],
   "source": [
    "rmse3, coverage3"
   ]
  },
  {
   "cell_type": "code",
   "execution_count": 213,
   "metadata": {},
   "outputs": [],
   "source": [
    "baseline_rmses = [rmse, rmse2, rmse3]\n",
    "baseline_coverages = [coverage, coverage2, coverage3]"
   ]
  },
  {
   "cell_type": "markdown",
   "metadata": {},
   "source": [
    "### 3.1.2 Collaborative Filtering Baseline Model <a class=\"anchor\" id=\"3-1-1\"></a>"
   ]
  },
  {
   "cell_type": "markdown",
   "metadata": {},
   "source": [
    "## 3.2 SVD++ <a class=\"anchor\" id=\"3-2\"></a>"
   ]
  },
  {
   "cell_type": "markdown",
   "metadata": {},
   "source": [
    "## 3.3 Wide and Deep Model <a class=\"anchor\" id=\"3-3\"></a>"
   ]
  },
  {
   "cell_type": "markdown",
   "metadata": {},
   "source": [
    "## 3.3.1 Feature Selection <a class=\"anchor\" id=\"3-3-1\"></a>"
   ]
  },
  {
   "cell_type": "code",
   "execution_count": 69,
   "metadata": {},
   "outputs": [],
   "source": [
    "# take 20% of reviews for each user sampled\n",
    "testing_data = active_user_only_ratings_df_sample.sort_values(by=['user_id', 'date']).groupby('user_id').apply(lambda x: x[round(len(x)*.8):]).reset_index(drop=True)"
   ]
  },
  {
   "cell_type": "code",
   "execution_count": 70,
   "metadata": {},
   "outputs": [],
   "source": [
    "def create_features(active_user_only_ratings_df_sample):\n",
    "    base_df = active_user_only_ratings_df_sample\n",
    "\n",
    "    #sparse alert - hopefully with bigger dataset, we will see some weird ratings..\n",
    "    real_average = base_df[['business_id','rating']].groupby('business_id').mean().reset_index()\n",
    "    real_average.rename(columns={\"rating\": \"average_business_rating\"}, inplace=True)\n",
    "\n",
    "    #Average ratings for business added\n",
    "    base_df = base_df.merge(real_average, how='left', on='business_id')\n",
    "\n",
    "    #one-hot encoding for top5 categories\n",
    "    catList = []\n",
    "    businesses['categories'].fillna(value='',inplace=True)\n",
    "    businesses['cat'] = businesses['categories'].apply(lambda x: x.split(','))\n",
    "    catList.extend(businesses['cat'])\n",
    "    merged = [x.strip() for x in list(itertools.chain(*catList))]\n",
    "\n",
    "    #Adding state, review_count, is_open\n",
    "    base_df = base_df.merge(businesses[['business_id','state','city', 'latitude', 'longitude','review_count','is_open', 'hours', 'cat']], on='business_id')\n",
    "    base_df.rename(columns={\"review_count\": \"business_review_count\"}, inplace=True)\n",
    "\n",
    "    #getting top 5 common categories items\n",
    "    top5List = [x for x in list(itertools.chain(*Counter(merged).most_common(5))) if type(x) != int]\n",
    "\n",
    "    #one-hot encoding if the business in top 5 common category\n",
    "    for item in top5List:\n",
    "        base_df[item] = base_df['cat'].apply(lambda categories: 'Y' if bool(set([y.strip() for y in categories]).intersection([item])) else 'N')\n",
    "        #base_df[item] = base_df['cat'].apply(lambda categories: 'Y' if bool(set([y.strip() for y in categories]).intersection(set(item))) else 'N')\n",
    "\n",
    "    # is_open (categorical) change from 1 and 0 to Y and N\n",
    "    base_df['is_open'] = base_df['is_open'].apply(lambda x: 'Y' if x else 'N')\n",
    "\n",
    "    # hours: how many days per week it's open\n",
    "    base_df['hours'] = base_df['hours'].apply(lambda x: len(x.keys()) if x else 0)\n",
    "    base_df.rename(columns={\"hours\": \"days_per_week_open\"}, inplace=True)\n",
    "\n",
    "    # user information\n",
    "    base_df = base_df.merge(users[['user_id', 'average_stars', 'review_count', 'friends']],  on='user_id')\n",
    "\n",
    "    # number_of_friends\n",
    "    base_df['friends'] = base_df['friends'].apply(lambda x: len(x.split(',')))\n",
    "    base_df.rename(columns={\"friends\": \"number_of_friends\", \"review_count\": \"user_review_count\", \"average_stars\": \"average_user_rating\"}, inplace=True)\n",
    "\n",
    "    #number of tips for popularity measure of business\n",
    "    business_numberOfTips = tips[['business_id','user_id']].groupby('business_id').count().reset_index()\n",
    "    business_numberOfTips.rename(columns={\"user_id\": \"business_numberOfTips\"}, inplace=True)\n",
    "    base_df = base_df.merge(business_numberOfTips, on='business_id')\n",
    "\n",
    "    #number of photo for popularity measure of business\n",
    "    business_numberOfPhotos = photos[['business_id','photo_id']].groupby('business_id').count().reset_index()\n",
    "    business_numberOfPhotos.rename(columns={\"photo_id\": \"business_numberOfPhotos\"}, inplace=True)\n",
    "    base_df = base_df.merge(business_numberOfPhotos, on='business_id')\n",
    "    \n",
    "    return base_df"
   ]
  },
  {
   "cell_type": "code",
   "execution_count": 75,
   "metadata": {},
   "outputs": [
    {
     "data": {
      "text/html": [
       "<div>\n",
       "<style scoped>\n",
       "    .dataframe tbody tr th:only-of-type {\n",
       "        vertical-align: middle;\n",
       "    }\n",
       "\n",
       "    .dataframe tbody tr th {\n",
       "        vertical-align: top;\n",
       "    }\n",
       "\n",
       "    .dataframe thead th {\n",
       "        text-align: right;\n",
       "    }\n",
       "</style>\n",
       "<table border=\"1\" class=\"dataframe\">\n",
       "  <thead>\n",
       "    <tr style=\"text-align: right;\">\n",
       "      <th></th>\n",
       "      <th>user_id</th>\n",
       "      <th>business_id</th>\n",
       "      <th>rating</th>\n",
       "      <th>date</th>\n",
       "      <th>average_business_rating</th>\n",
       "      <th>state</th>\n",
       "      <th>city</th>\n",
       "      <th>latitude</th>\n",
       "      <th>longitude</th>\n",
       "      <th>business_review_count</th>\n",
       "      <th>...</th>\n",
       "      <th>Restaurants</th>\n",
       "      <th>Shopping</th>\n",
       "      <th>Food</th>\n",
       "      <th>Home Services</th>\n",
       "      <th>Beauty &amp; Spas</th>\n",
       "      <th>average_user_rating</th>\n",
       "      <th>user_review_count</th>\n",
       "      <th>number_of_friends</th>\n",
       "      <th>business_numberOfTips</th>\n",
       "      <th>business_numberOfPhotos</th>\n",
       "    </tr>\n",
       "  </thead>\n",
       "  <tbody>\n",
       "    <tr>\n",
       "      <th>0</th>\n",
       "      <td>-3ur9azzCTt6loR3inuEtg</td>\n",
       "      <td>O_J5e6aoskxhGx8meOm1Og</td>\n",
       "      <td>5.0</td>\n",
       "      <td>2011-12-19 23:53:41</td>\n",
       "      <td>5.0</td>\n",
       "      <td>AZ</td>\n",
       "      <td>Gilbert</td>\n",
       "      <td>33.319178</td>\n",
       "      <td>-111.805840</td>\n",
       "      <td>136</td>\n",
       "      <td>...</td>\n",
       "      <td>Y</td>\n",
       "      <td>N</td>\n",
       "      <td>N</td>\n",
       "      <td>N</td>\n",
       "      <td>N</td>\n",
       "      <td>3.67</td>\n",
       "      <td>8</td>\n",
       "      <td>1</td>\n",
       "      <td>25</td>\n",
       "      <td>3</td>\n",
       "    </tr>\n",
       "    <tr>\n",
       "      <th>1</th>\n",
       "      <td>-rHPIHFPIaKxYYxqTsGcbQ</td>\n",
       "      <td>f-GwGqmGJ17F6w5CXcZkSg</td>\n",
       "      <td>4.0</td>\n",
       "      <td>2010-01-07 15:36:28</td>\n",
       "      <td>4.0</td>\n",
       "      <td>QC</td>\n",
       "      <td>Montréal</td>\n",
       "      <td>45.515998</td>\n",
       "      <td>-73.577519</td>\n",
       "      <td>212</td>\n",
       "      <td>...</td>\n",
       "      <td>Y</td>\n",
       "      <td>N</td>\n",
       "      <td>N</td>\n",
       "      <td>N</td>\n",
       "      <td>N</td>\n",
       "      <td>4.36</td>\n",
       "      <td>73</td>\n",
       "      <td>19</td>\n",
       "      <td>25</td>\n",
       "      <td>2</td>\n",
       "    </tr>\n",
       "    <tr>\n",
       "      <th>2</th>\n",
       "      <td>-rHPIHFPIaKxYYxqTsGcbQ</td>\n",
       "      <td>0W4lkclzZThpx3V65bVgig</td>\n",
       "      <td>4.0</td>\n",
       "      <td>2010-01-07 15:45:32</td>\n",
       "      <td>4.0</td>\n",
       "      <td>QC</td>\n",
       "      <td>Montréal</td>\n",
       "      <td>45.516353</td>\n",
       "      <td>-73.577642</td>\n",
       "      <td>2325</td>\n",
       "      <td>...</td>\n",
       "      <td>Y</td>\n",
       "      <td>N</td>\n",
       "      <td>Y</td>\n",
       "      <td>N</td>\n",
       "      <td>N</td>\n",
       "      <td>4.36</td>\n",
       "      <td>73</td>\n",
       "      <td>19</td>\n",
       "      <td>252</td>\n",
       "      <td>98</td>\n",
       "    </tr>\n",
       "    <tr>\n",
       "      <th>3</th>\n",
       "      <td>-rHPIHFPIaKxYYxqTsGcbQ</td>\n",
       "      <td>ewAmzOqnSAfLBdt4Stc8bA</td>\n",
       "      <td>2.0</td>\n",
       "      <td>2010-01-08 01:30:54</td>\n",
       "      <td>2.0</td>\n",
       "      <td>QC</td>\n",
       "      <td>Montréal</td>\n",
       "      <td>45.499532</td>\n",
       "      <td>-73.572196</td>\n",
       "      <td>91</td>\n",
       "      <td>...</td>\n",
       "      <td>Y</td>\n",
       "      <td>N</td>\n",
       "      <td>Y</td>\n",
       "      <td>N</td>\n",
       "      <td>N</td>\n",
       "      <td>4.36</td>\n",
       "      <td>73</td>\n",
       "      <td>19</td>\n",
       "      <td>27</td>\n",
       "      <td>12</td>\n",
       "    </tr>\n",
       "    <tr>\n",
       "      <th>4</th>\n",
       "      <td>-rHPIHFPIaKxYYxqTsGcbQ</td>\n",
       "      <td>EFOVNo26MCPe5dQC0HBifQ</td>\n",
       "      <td>3.0</td>\n",
       "      <td>2010-01-08 01:34:27</td>\n",
       "      <td>3.0</td>\n",
       "      <td>QC</td>\n",
       "      <td>Montreal</td>\n",
       "      <td>45.503064</td>\n",
       "      <td>-73.568461</td>\n",
       "      <td>42</td>\n",
       "      <td>...</td>\n",
       "      <td>Y</td>\n",
       "      <td>N</td>\n",
       "      <td>N</td>\n",
       "      <td>N</td>\n",
       "      <td>N</td>\n",
       "      <td>4.36</td>\n",
       "      <td>73</td>\n",
       "      <td>19</td>\n",
       "      <td>9</td>\n",
       "      <td>1</td>\n",
       "    </tr>\n",
       "  </tbody>\n",
       "</table>\n",
       "<p>5 rows × 23 columns</p>\n",
       "</div>"
      ],
      "text/plain": [
       "                  user_id             business_id  rating                date  \\\n",
       "0  -3ur9azzCTt6loR3inuEtg  O_J5e6aoskxhGx8meOm1Og     5.0 2011-12-19 23:53:41   \n",
       "1  -rHPIHFPIaKxYYxqTsGcbQ  f-GwGqmGJ17F6w5CXcZkSg     4.0 2010-01-07 15:36:28   \n",
       "2  -rHPIHFPIaKxYYxqTsGcbQ  0W4lkclzZThpx3V65bVgig     4.0 2010-01-07 15:45:32   \n",
       "3  -rHPIHFPIaKxYYxqTsGcbQ  ewAmzOqnSAfLBdt4Stc8bA     2.0 2010-01-08 01:30:54   \n",
       "4  -rHPIHFPIaKxYYxqTsGcbQ  EFOVNo26MCPe5dQC0HBifQ     3.0 2010-01-08 01:34:27   \n",
       "\n",
       "   average_business_rating state      city   latitude   longitude  \\\n",
       "0                      5.0    AZ   Gilbert  33.319178 -111.805840   \n",
       "1                      4.0    QC  Montréal  45.515998  -73.577519   \n",
       "2                      4.0    QC  Montréal  45.516353  -73.577642   \n",
       "3                      2.0    QC  Montréal  45.499532  -73.572196   \n",
       "4                      3.0    QC  Montreal  45.503064  -73.568461   \n",
       "\n",
       "   business_review_count  ... Restaurants  Shopping Food Home Services  \\\n",
       "0                    136  ...           Y         N    N             N   \n",
       "1                    212  ...           Y         N    N             N   \n",
       "2                   2325  ...           Y         N    Y             N   \n",
       "3                     91  ...           Y         N    Y             N   \n",
       "4                     42  ...           Y         N    N             N   \n",
       "\n",
       "  Beauty & Spas average_user_rating user_review_count number_of_friends  \\\n",
       "0             N                3.67                 8                 1   \n",
       "1             N                4.36                73                19   \n",
       "2             N                4.36                73                19   \n",
       "3             N                4.36                73                19   \n",
       "4             N                4.36                73                19   \n",
       "\n",
       "   business_numberOfTips  business_numberOfPhotos  \n",
       "0                     25                        3  \n",
       "1                     25                        2  \n",
       "2                    252                       98  \n",
       "3                     27                       12  \n",
       "4                      9                        1  \n",
       "\n",
       "[5 rows x 23 columns]"
      ]
     },
     "execution_count": 75,
     "metadata": {},
     "output_type": "execute_result"
    }
   ],
   "source": [
    "training_features = create_features(training_data)\n",
    "training_features.head()"
   ]
  },
  {
   "cell_type": "code",
   "execution_count": 76,
   "metadata": {},
   "outputs": [
    {
     "data": {
      "text/html": [
       "<div>\n",
       "<style scoped>\n",
       "    .dataframe tbody tr th:only-of-type {\n",
       "        vertical-align: middle;\n",
       "    }\n",
       "\n",
       "    .dataframe tbody tr th {\n",
       "        vertical-align: top;\n",
       "    }\n",
       "\n",
       "    .dataframe thead th {\n",
       "        text-align: right;\n",
       "    }\n",
       "</style>\n",
       "<table border=\"1\" class=\"dataframe\">\n",
       "  <thead>\n",
       "    <tr style=\"text-align: right;\">\n",
       "      <th></th>\n",
       "      <th>user_id</th>\n",
       "      <th>business_id</th>\n",
       "      <th>rating</th>\n",
       "      <th>date</th>\n",
       "      <th>average_business_rating</th>\n",
       "      <th>state</th>\n",
       "      <th>city</th>\n",
       "      <th>latitude</th>\n",
       "      <th>longitude</th>\n",
       "      <th>business_review_count</th>\n",
       "      <th>...</th>\n",
       "      <th>Restaurants</th>\n",
       "      <th>Shopping</th>\n",
       "      <th>Food</th>\n",
       "      <th>Home Services</th>\n",
       "      <th>Beauty &amp; Spas</th>\n",
       "      <th>average_user_rating</th>\n",
       "      <th>user_review_count</th>\n",
       "      <th>number_of_friends</th>\n",
       "      <th>business_numberOfTips</th>\n",
       "      <th>business_numberOfPhotos</th>\n",
       "    </tr>\n",
       "  </thead>\n",
       "  <tbody>\n",
       "    <tr>\n",
       "      <th>0</th>\n",
       "      <td>-rHPIHFPIaKxYYxqTsGcbQ</td>\n",
       "      <td>YI44-Pt98l03yaIeeKCuEQ</td>\n",
       "      <td>4.0</td>\n",
       "      <td>2012-10-10 20:42:39</td>\n",
       "      <td>4.0</td>\n",
       "      <td>QC</td>\n",
       "      <td>Montréal</td>\n",
       "      <td>45.475198</td>\n",
       "      <td>-73.580314</td>\n",
       "      <td>6</td>\n",
       "      <td>...</td>\n",
       "      <td>Y</td>\n",
       "      <td>N</td>\n",
       "      <td>N</td>\n",
       "      <td>N</td>\n",
       "      <td>N</td>\n",
       "      <td>4.36</td>\n",
       "      <td>73</td>\n",
       "      <td>19</td>\n",
       "      <td>2</td>\n",
       "      <td>1</td>\n",
       "    </tr>\n",
       "    <tr>\n",
       "      <th>1</th>\n",
       "      <td>-rHPIHFPIaKxYYxqTsGcbQ</td>\n",
       "      <td>Brgw8CWtNL6JxzTFxI0c7A</td>\n",
       "      <td>4.0</td>\n",
       "      <td>2012-11-18 17:27:03</td>\n",
       "      <td>4.0</td>\n",
       "      <td>QC</td>\n",
       "      <td>Montréal</td>\n",
       "      <td>45.474346</td>\n",
       "      <td>-73.587210</td>\n",
       "      <td>16</td>\n",
       "      <td>...</td>\n",
       "      <td>Y</td>\n",
       "      <td>N</td>\n",
       "      <td>Y</td>\n",
       "      <td>N</td>\n",
       "      <td>N</td>\n",
       "      <td>4.36</td>\n",
       "      <td>73</td>\n",
       "      <td>19</td>\n",
       "      <td>10</td>\n",
       "      <td>1</td>\n",
       "    </tr>\n",
       "    <tr>\n",
       "      <th>2</th>\n",
       "      <td>-rHPIHFPIaKxYYxqTsGcbQ</td>\n",
       "      <td>ZV7t55UEx1LnBOWqTrutSw</td>\n",
       "      <td>5.0</td>\n",
       "      <td>2013-05-12 15:22:14</td>\n",
       "      <td>5.0</td>\n",
       "      <td>QC</td>\n",
       "      <td>Montréal</td>\n",
       "      <td>45.480488</td>\n",
       "      <td>-73.579162</td>\n",
       "      <td>35</td>\n",
       "      <td>...</td>\n",
       "      <td>Y</td>\n",
       "      <td>N</td>\n",
       "      <td>N</td>\n",
       "      <td>N</td>\n",
       "      <td>N</td>\n",
       "      <td>4.36</td>\n",
       "      <td>73</td>\n",
       "      <td>19</td>\n",
       "      <td>2</td>\n",
       "      <td>5</td>\n",
       "    </tr>\n",
       "    <tr>\n",
       "      <th>3</th>\n",
       "      <td>-rHPIHFPIaKxYYxqTsGcbQ</td>\n",
       "      <td>ePXn4TX9DkfAeDK8VD5jLw</td>\n",
       "      <td>5.0</td>\n",
       "      <td>2013-05-18 18:58:16</td>\n",
       "      <td>5.0</td>\n",
       "      <td>QC</td>\n",
       "      <td>Montréal</td>\n",
       "      <td>45.474455</td>\n",
       "      <td>-73.623840</td>\n",
       "      <td>145</td>\n",
       "      <td>...</td>\n",
       "      <td>Y</td>\n",
       "      <td>N</td>\n",
       "      <td>N</td>\n",
       "      <td>N</td>\n",
       "      <td>N</td>\n",
       "      <td>4.36</td>\n",
       "      <td>73</td>\n",
       "      <td>19</td>\n",
       "      <td>34</td>\n",
       "      <td>2</td>\n",
       "    </tr>\n",
       "    <tr>\n",
       "      <th>4</th>\n",
       "      <td>1Wvkqv9J_Wqe-langvgT8Q</td>\n",
       "      <td>gv47gtyCkw_8OyexHrqdDA</td>\n",
       "      <td>2.0</td>\n",
       "      <td>2014-07-28 20:17:29</td>\n",
       "      <td>2.0</td>\n",
       "      <td>WI</td>\n",
       "      <td>Madison</td>\n",
       "      <td>43.075283</td>\n",
       "      <td>-89.386127</td>\n",
       "      <td>216</td>\n",
       "      <td>...</td>\n",
       "      <td>Y</td>\n",
       "      <td>N</td>\n",
       "      <td>N</td>\n",
       "      <td>N</td>\n",
       "      <td>N</td>\n",
       "      <td>2.89</td>\n",
       "      <td>6</td>\n",
       "      <td>1</td>\n",
       "      <td>15</td>\n",
       "      <td>8</td>\n",
       "    </tr>\n",
       "  </tbody>\n",
       "</table>\n",
       "<p>5 rows × 23 columns</p>\n",
       "</div>"
      ],
      "text/plain": [
       "                  user_id             business_id  rating                date  \\\n",
       "0  -rHPIHFPIaKxYYxqTsGcbQ  YI44-Pt98l03yaIeeKCuEQ     4.0 2012-10-10 20:42:39   \n",
       "1  -rHPIHFPIaKxYYxqTsGcbQ  Brgw8CWtNL6JxzTFxI0c7A     4.0 2012-11-18 17:27:03   \n",
       "2  -rHPIHFPIaKxYYxqTsGcbQ  ZV7t55UEx1LnBOWqTrutSw     5.0 2013-05-12 15:22:14   \n",
       "3  -rHPIHFPIaKxYYxqTsGcbQ  ePXn4TX9DkfAeDK8VD5jLw     5.0 2013-05-18 18:58:16   \n",
       "4  1Wvkqv9J_Wqe-langvgT8Q  gv47gtyCkw_8OyexHrqdDA     2.0 2014-07-28 20:17:29   \n",
       "\n",
       "   average_business_rating state      city   latitude  longitude  \\\n",
       "0                      4.0    QC  Montréal  45.475198 -73.580314   \n",
       "1                      4.0    QC  Montréal  45.474346 -73.587210   \n",
       "2                      5.0    QC  Montréal  45.480488 -73.579162   \n",
       "3                      5.0    QC  Montréal  45.474455 -73.623840   \n",
       "4                      2.0    WI   Madison  43.075283 -89.386127   \n",
       "\n",
       "   business_review_count  ... Restaurants  Shopping Food Home Services  \\\n",
       "0                      6  ...           Y         N    N             N   \n",
       "1                     16  ...           Y         N    Y             N   \n",
       "2                     35  ...           Y         N    N             N   \n",
       "3                    145  ...           Y         N    N             N   \n",
       "4                    216  ...           Y         N    N             N   \n",
       "\n",
       "  Beauty & Spas average_user_rating user_review_count number_of_friends  \\\n",
       "0             N                4.36                73                19   \n",
       "1             N                4.36                73                19   \n",
       "2             N                4.36                73                19   \n",
       "3             N                4.36                73                19   \n",
       "4             N                2.89                 6                 1   \n",
       "\n",
       "   business_numberOfTips  business_numberOfPhotos  \n",
       "0                      2                        1  \n",
       "1                     10                        1  \n",
       "2                      2                        5  \n",
       "3                     34                        2  \n",
       "4                     15                        8  \n",
       "\n",
       "[5 rows x 23 columns]"
      ]
     },
     "execution_count": 76,
     "metadata": {},
     "output_type": "execute_result"
    }
   ],
   "source": [
    "testing_features = create_features(testing_data)\n",
    "testing_features.head()"
   ]
  },
  {
   "cell_type": "code",
   "execution_count": 220,
   "metadata": {},
   "outputs": [],
   "source": [
    "training_features2 = create_features(training_data2)\n",
    "testing_features2 = create_features(testing_data2)"
   ]
  },
  {
   "cell_type": "code",
   "execution_count": 221,
   "metadata": {},
   "outputs": [],
   "source": [
    "training_features3 = create_features(training_data3)\n",
    "testing_features3 = create_features(testing_data3)"
   ]
  },
  {
   "cell_type": "markdown",
   "metadata": {},
   "source": [
    "## 3.3.2 Modeling <a class=\"anchor\" id=\"3-3-2\"></a>"
   ]
  },
  {
   "cell_type": "markdown",
   "metadata": {},
   "source": [
    "# 4. Evaluation <a class=\"anchor\" id=\"4\"></a>"
   ]
  },
  {
   "cell_type": "markdown",
   "metadata": {},
   "source": [
    "## 4.1 Accuracy <a class=\"anchor\" id=\"4-1\"></a>"
   ]
  },
  {
   "cell_type": "code",
   "execution_count": 218,
   "metadata": {},
   "outputs": [
    {
     "data": {
      "image/png": "[encoded data removed]",
      "text/plain": [
       "<Figure size 720x432 with 1 Axes>"
      ]
     },
     "metadata": {},
     "output_type": "display_data"
    }
   ],
   "source": [
    "LEGEND = ['Baseline Model - Learned Bias', 'Baseline Model - MF', 'SVD++', 'Wide and Deep']\n",
    "\n",
    "plt.figure(figsize=(10, 6))\n",
    "\n",
    "plt.plot(sample_sizes, baseline_rmses, marker='o')\n",
    "# plt.plot(sample_sizes, [min(rmse)  for rmse in knn_rmse_test], marker='o')\n",
    "# plt.plot(sample_sizes, best_als_rmses, marker='o')\n",
    "\n",
    "plt.xlabel('Number of Active Users Sampled')\n",
    "plt.ylabel('RMSE')\n",
    "plt.title('RMSE Test vs Sample Size')\n",
    "plt.legend(LEGEND)\n",
    "plt.grid(True)\n",
    "plt.show()"
   ]
  },
  {
   "cell_type": "markdown",
   "metadata": {},
   "source": [
    "## 4.2 Coverage <a class=\"anchor\" id=\"4-2\"></a>"
   ]
  },
  {
   "cell_type": "code",
   "execution_count": 219,
   "metadata": {},
   "outputs": [
    {
     "data": {
      "image/png": "[encoded data removed]",
      "text/plain": [
       "<Figure size 720x432 with 1 Axes>"
      ]
     },
     "metadata": {},
     "output_type": "display_data"
    }
   ],
   "source": [
    "plt.figure(figsize=(10, 6))\n",
    "plt.plot(sample_sizes, baseline_coverages, marker='o')\n",
    "# plt.plot(sample_sizes, knn_catalog_coverages, marker='o')\n",
    "# plt.plot(sample_sizes, als_catalog_coverages, marker='o')\n",
    "\n",
    "plt.xlabel('Number of Active Users')\n",
    "plt.ylabel('Catalog Coverage')\n",
    "plt.title('Catalog Coverage Test vs Sample Size')\n",
    "plt.legend(LEGEND)\n",
    "plt.grid(True)\n",
    "plt.show()"
   ]
  },
  {
   "cell_type": "markdown",
   "metadata": {},
   "source": [
    "# 5. Conclusion <a class=\"anchor\" id=\"5\"></a>"
   ]
  }
 ],
 "metadata": {
  "kernelspec": {
   "display_name": "Python 3",
   "language": "python",
   "name": "python3"
  },
  "language_info": {
   "codemirror_mode": {
    "name": "ipython",
    "version": 3
   },
   "file_extension": ".py",
   "mimetype": "text/x-python",
   "name": "python",
   "nbconvert_exporter": "python",
   "pygments_lexer": "ipython3",
   "version": "3.7.3"
  }
 },
 "nbformat": 4,
 "nbformat_minor": 2
}
